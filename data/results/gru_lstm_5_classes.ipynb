{
 "cells": [
  {
   "cell_type": "markdown",
   "metadata": {},
   "source": [
    "This notebooks contains code for GRU and LSTM models for 5-class emotion classification.<br />\n",
    "Run from scripts directory."
   ]
  },
  {
   "cell_type": "code",
   "execution_count": 5,
   "metadata": {},
   "outputs": [],
   "source": [
    "import keras\n",
    "import matplotlib.pyplot as plt\n",
    "import numpy as np\n",
    "import os\n",
    "import pandas as pd\n",
    "import re\n",
    "import seaborn as sn\n",
    "import urllib.request\n",
    "import zipfile\n",
    "\n",
    "from keras.callbacks import EarlyStopping\n",
    "from keras.layers import Embedding, Bidirectional, LSTM, GRU, Dense\n",
    "from keras.models import Sequential\n",
    "from keras.preprocessing.text import Tokenizer\n",
    "from keras.preprocessing.sequence import pad_sequences\n",
    "from keras.utils import to_categorical\n",
    "from nltk.tokenize import word_tokenize\n",
    "from sklearn.metrics import accuracy_score, f1_score, confusion_matrix, classification_report\n",
    "from sklearn.model_selection import train_test_split"
   ]
  },
  {
   "cell_type": "code",
   "execution_count": 6,
   "metadata": {},
   "outputs": [],
   "source": [
    "num_classes = 5\n",
    "\n",
    "# Number of dimensions for word embeddings.\n",
    "embed_num_dims = 300\n",
    "\n",
    "# Similar to CNN, use 500 as max sequence length.\n",
    "max_seq_len = 500"
   ]
  },
  {
   "cell_type": "code",
   "execution_count": 7,
   "metadata": {},
   "outputs": [],
   "source": [
    "# Define emotion classes\n",
    "emotions = ['joy', 'fear', 'anger', 'sadness', 'neutral']"
   ]
  },
  {
   "cell_type": "code",
   "execution_count": 8,
   "metadata": {},
   "outputs": [],
   "source": [
    "data_train = pd.read_csv('../data/training_data/data_train_5_classes.csv')\n",
    "data_test = pd.read_csv('../data/training_data/data_test_5_classes.csv')"
   ]
  },
  {
   "cell_type": "code",
   "execution_count": 32,
   "metadata": {},
   "outputs": [],
   "source": [
    "# Split training data into training and validation sets\n",
    "X_train, X_dev, y_train, y_dev = train_test_split(data_train.Text, data_train.Emotion,\n",
    "                                                  shuffle=True,\n",
    "                                                  stratify=data_train.Emotion, \n",
    "                                                  test_size=0.15)\n",
    "X_test = data_test.Text\n",
    "y_test = data_test.Emotion"
   ]
  },
  {
   "cell_type": "code",
   "execution_count": 33,
   "metadata": {},
   "outputs": [],
   "source": [
    "def clean_text(text):\n",
    "    \"\"\"Clean text and tokenise.\"\"\" \n",
    "    text = text.lower()\n",
    "    \n",
    "    # Remove common contractions.\n",
    "    text = re.sub(r\"can't\", 'cannot', text)\n",
    "    text = re.sub(r\"\\'s\",' ', text)\n",
    "    text = re.sub(r\"\\'ve\", ' have ', text)\n",
    "    text = re.sub(r\"n't\", ' not ', text)\n",
    "    text = re.sub(r\"im\", 'i am ', text)\n",
    "    text = re.sub(r\"i'm\", 'i am ', text)\n",
    "    text = re.sub(r\"\\'re\", ' are ', text)\n",
    "    text = re.sub(r\"\\'ll\", ' will ', text)\n",
    "    \n",
    "    # Remove hashtags and tags.\n",
    "    text = re.sub(r\"(#[\\d\\w\\.]+)\", '', text)\n",
    "    text = re.sub(r\"(@[\\d\\w\\.]+)\", '', text)    \n",
    "                \n",
    "    # Remove operations and process puctuation.           \n",
    "    text = re.sub(r\",\", \" \", text)\n",
    "    text = re.sub(r\"\\.\", \" \", text)\n",
    "    text = re.sub(r\"!\", \" ! \", text)\n",
    "    text = re.sub(r\"\\/\", \" \", text)\n",
    "    text = re.sub(r\"\\^\", \" ^ \", text)\n",
    "    text = re.sub(r\"\\+\", \" + \", text)\n",
    "    text = re.sub(r\"\\-\", \" - \", text)\n",
    "    text = re.sub(r\"\\=\", \" = \", text)\n",
    "  \n",
    "    # Remove missed symbols.\n",
    "    text = re.sub(r'[^a-zA-Z0-9]', ' ', text)\n",
    "\n",
    "    text = word_tokenize(text)\n",
    "    return ' '.join(text)"
   ]
  },
  {
   "cell_type": "code",
   "execution_count": 34,
   "metadata": {},
   "outputs": [],
   "source": [
    "data = data_train.append(data_test, ignore_index=True)\n",
    "texts = [clean_text(text) for text in data.Text]\n",
    "\n",
    "texts_train = [clean_text(text) for text in X_train]\n",
    "texts_dev = [clean_text(text) for text in X_dev]\n",
    "texts_test = [clean_text(text) for text in X_test]"
   ]
  },
  {
   "cell_type": "code",
   "execution_count": 35,
   "metadata": {},
   "outputs": [],
   "source": [
    "tokenizer = Tokenizer()\n",
    "tokenizer.fit_on_texts(texts)\n",
    "\n",
    "seq_train = tokenizer.texts_to_sequences(texts_train)\n",
    "seq_dev = tokenizer.texts_to_sequences(texts_dev)\n",
    "seq_test = tokenizer.texts_to_sequences(texts_test)"
   ]
  },
  {
   "cell_type": "code",
   "execution_count": 36,
   "metadata": {},
   "outputs": [],
   "source": [
    "index_of_words = tokenizer.word_index\n",
    "\n",
    "# Reserve 1 for padding.\n",
    "vocab_size = len(index_of_words) + 1"
   ]
  },
  {
   "cell_type": "code",
   "execution_count": 37,
   "metadata": {},
   "outputs": [],
   "source": [
    "X_train_pad = pad_sequences(seq_train, maxlen = max_seq_len)\n",
    "X_dev_pad = pad_sequences(seq_dev, maxlen = max_seq_len)\n",
    "X_test_pad = pad_sequences(seq_test, maxlen = max_seq_len)"
   ]
  },
  {
   "cell_type": "code",
   "execution_count": 38,
   "metadata": {},
   "outputs": [],
   "source": [
    "# Assign integer labels to y values.\n",
    "encoding = {\n",
    "    'joy': 0,\n",
    "    'fear': 1,\n",
    "    'anger': 2,\n",
    "    'sadness': 3,\n",
    "    'neutral': 4\n",
    "}\n",
    "\n",
    "y_train = [encoding[x] for x in y_train]\n",
    "y_dev = [encoding[x] for x in y_dev]\n",
    "y_test = [encoding[x] for x in y_test]\n",
    "\n",
    "y_train = to_categorical(y_train)\n",
    "y_dev = to_categorical(y_dev)\n",
    "y_test = to_categorical(y_test)"
   ]
  },
  {
   "cell_type": "code",
   "execution_count": 39,
   "metadata": {},
   "outputs": [],
   "source": [
    "def create_embedding_matrix(filepath, word_index, embedding_dim, vocab_size):\n",
    "    embedding_matrix = np.zeros((vocab_size, embedding_dim))\n",
    "    with open(filepath) as f:\n",
    "        for line in f:\n",
    "            word, *vector = line.split()\n",
    "            if word in word_index:\n",
    "                idx = word_index[word] \n",
    "                embedding_matrix[idx] = np.array(\n",
    "                    vector, dtype=np.float32)[:embedding_dim]\n",
    "    return embedding_matrix"
   ]
  },
  {
   "cell_type": "code",
   "execution_count": 40,
   "metadata": {},
   "outputs": [],
   "source": [
    "fname = 'embeddings/wiki-news-300d-1M.vec'\n",
    "if not os.path.isfile(fname):\n",
    "    print('Geting word vectors...')\n",
    "    urllib.request.urlretrieve('https://dl.fbaipublicfiles.com/fasttext/vectors-english/wiki-news-300d-1M.vec.zip',\n",
    "                              'wiki-news-300d-1M.vec.zip')\n",
    "    with zipfile.ZipFile('wiki-news-300d-1M.vec.zip', 'r') as zip_ref:\n",
    "        zip_ref.extractall('embeddings')\n",
    "    print('Done.')\n",
    "    os.remove('wiki-news-300d-1M.vec.zip')"
   ]
  },
  {
   "cell_type": "code",
   "execution_count": 41,
   "metadata": {},
   "outputs": [],
   "source": [
    "embedding_matrix = create_embedding_matrix(fname, index_of_words, embed_num_dims, vocab_size)"
   ]
  },
  {
   "cell_type": "code",
   "execution_count": 16,
   "metadata": {},
   "outputs": [],
   "source": [
    "# Hyperparameters to try with the model (code omitted).\n",
    "# A model was created for each combination using the sequence below and performance compared.\n",
    "activations = ['softmax', 'tanh', 'relu']\n",
    "dropouts = [0.1, 0.2, 0.3, 0.4]\n",
    "rec_dropouts = [0.1, 0.2, 0.3, 0.4]\n",
    "batches = [32, 64, 128]"
   ]
  },
  {
   "cell_type": "markdown",
   "metadata": {},
   "source": [
    "According to recent research (e.g., https://arxiv.org/pdf/1702.01923.pdf or http://www.krishisanskriti.org/vol_image/21Jul201503071043%20%20%20%20%20Faiyz%20Ahmad%202%20%20%20%20%20%20%20%20%2059-63.pdf) GRU is more efficient for sentiment analysis. With this in mind, assume it is also more efficient for emotion classification (during hyperparameter search it performed marginally better)."
   ]
  },
  {
   "cell_type": "code",
   "execution_count": 42,
   "metadata": {},
   "outputs": [
    {
     "name": "stdout",
     "output_type": "stream",
     "text": [
      "Model: \"sequential_1\"\n",
      "_________________________________________________________________\n",
      "Layer (type)                 Output Shape              Param #   \n",
      "=================================================================\n",
      "embedding_1 (Embedding)      (None, 500, 300)          3603300   \n",
      "_________________________________________________________________\n",
      "bidirectional_1 (Bidirection (None, 256)               330240    \n",
      "_________________________________________________________________\n",
      "dense_1 (Dense)              (None, 5)                 1285      \n",
      "=================================================================\n",
      "Total params: 3,934,825\n",
      "Trainable params: 331,525\n",
      "Non-trainable params: 3,603,300\n",
      "_________________________________________________________________\n"
     ]
    }
   ],
   "source": [
    "# Define model architecture.\n",
    "use_gru = True # False to use LSTM.\n",
    "dropout = 0.1\n",
    "rec_dropout = 0.1\n",
    "batch_size = 64\n",
    "\n",
    "gru_output_size = 128\n",
    "max_epochs = 30\n",
    "\n",
    "embedd_layer = Embedding(vocab_size,\n",
    "                         embed_num_dims,\n",
    "                         input_length = max_seq_len,\n",
    "                         weights = [embedding_matrix],\n",
    "                         trainable=False)\n",
    "model = Sequential()\n",
    "model.add(embedd_layer)\n",
    "if use_gru:\n",
    "    model.add(Bidirectional(GRU(units=gru_output_size,\n",
    "                          dropout=dropout,\n",
    "                          recurrent_dropout=rec_dropout)))\n",
    "else:\n",
    "    model.add(Bidirectional(LSTM(units=gru_output_size,\n",
    "                          dropout=dropout,\n",
    "                          recurrent_dropout=rec_dropout)))\n",
    "model.add(Dense(num_classes, activation='softmax'))\n",
    "model.compile(loss = 'categorical_crossentropy', optimizer = 'adam', metrics = ['accuracy'])\n",
    "model.summary()"
   ]
  },
  {
   "cell_type": "code",
   "execution_count": 43,
   "metadata": {},
   "outputs": [
    {
     "name": "stdout",
     "output_type": "stream",
     "text": [
      "Epoch 1/30\n",
      "106/106 [==============================] - 232s 2s/step - loss: 1.4716 - accuracy: 0.3498 - val_loss: 1.1649 - val_accuracy: 0.5458\n",
      "Epoch 2/30\n",
      "106/106 [==============================] - 260s 2s/step - loss: 1.0481 - accuracy: 0.5960 - val_loss: 0.8274 - val_accuracy: 0.6935\n",
      "Epoch 3/30\n",
      "106/106 [==============================] - 244s 2s/step - loss: 0.7992 - accuracy: 0.7122 - val_loss: 0.7572 - val_accuracy: 0.7162\n",
      "Epoch 4/30\n",
      "106/106 [==============================] - 288s 3s/step - loss: 0.7248 - accuracy: 0.7352 - val_loss: 0.7332 - val_accuracy: 0.7448\n",
      "Epoch 5/30\n",
      "106/106 [==============================] - 271s 3s/step - loss: 0.6740 - accuracy: 0.7628 - val_loss: 0.7404 - val_accuracy: 0.7305\n",
      "Epoch 6/30\n",
      "106/106 [==============================] - 248s 2s/step - loss: 0.6253 - accuracy: 0.7751 - val_loss: 0.7149 - val_accuracy: 0.7347\n",
      "Epoch 7/30\n",
      "106/106 [==============================] - 263s 2s/step - loss: 0.5971 - accuracy: 0.7884 - val_loss: 0.7299 - val_accuracy: 0.7313\n",
      "Epoch 8/30\n",
      "106/106 [==============================] - 272s 3s/step - loss: 0.6094 - accuracy: 0.7812 - val_loss: 0.7062 - val_accuracy: 0.7439\n",
      "Epoch 9/30\n",
      "106/106 [==============================] - 286s 3s/step - loss: 0.5516 - accuracy: 0.8063 - val_loss: 0.6980 - val_accuracy: 0.7523\n",
      "Epoch 10/30\n",
      "106/106 [==============================] - 299s 3s/step - loss: 0.5446 - accuracy: 0.7996 - val_loss: 0.7169 - val_accuracy: 0.7498\n",
      "Epoch 11/30\n",
      "106/106 [==============================] - 273s 3s/step - loss: 0.5152 - accuracy: 0.8138 - val_loss: 0.7110 - val_accuracy: 0.7448\n"
     ]
    }
   ],
   "source": [
    "early_stopping_monitor = EarlyStopping(\n",
    "    monitor='val_loss',\n",
    "    min_delta=0,\n",
    "    patience=2,\n",
    "    verbose=0,\n",
    "    mode='auto',\n",
    "    baseline=None,\n",
    "    restore_best_weights=True\n",
    ")\n",
    "\n",
    "\n",
    "history = model.fit(X_train_pad, y_train, \n",
    "                 batch_size=batch_size,\n",
    "                 epochs=max_epochs,\n",
    "                 validation_data=(X_dev_pad, y_dev),\n",
    "                 callbacks=[early_stopping_monitor])"
   ]
  },
  {
   "cell_type": "code",
   "execution_count": 44,
   "metadata": {},
   "outputs": [
    {
     "data": {
      "image/png": "[encoded data removed]",
      "text/plain": [
       "<Figure size 432x288 with 1 Axes>"
      ]
     },
     "metadata": {
      "needs_background": "light"
     },
     "output_type": "display_data"
    },
    {
     "data": {
      "image/png": "[encoded data removed]",
      "text/plain": [
       "<Figure size 432x288 with 1 Axes>"
      ]
     },
     "metadata": {
      "needs_background": "light"
     },
     "output_type": "display_data"
    }
   ],
   "source": [
    "# Plot loss and accuracy.\n",
    "plt.plot(history.history['accuracy'])\n",
    "plt.plot(history.history['val_accuracy'])\n",
    "plt.title('Model Accuracy')\n",
    "plt.ylabel('Accuracy')\n",
    "plt.xlabel('Epoch')\n",
    "plt.legend(['Training Accuracy', 'Validation Accuracy'], loc='upper left')\n",
    "plt.show()\n",
    "\n",
    "plt.plot(history.history['loss'])\n",
    "plt.plot(history.history['val_loss'])\n",
    "plt.title('Model Loss')\n",
    "plt.ylabel('Loss')\n",
    "plt.xlabel('Epoch')\n",
    "plt.legend(['Training Loss', 'Validation Loss'], loc='upper left')\n",
    "plt.show()"
   ]
  },
  {
   "cell_type": "code",
   "execution_count": 45,
   "metadata": {},
   "outputs": [],
   "source": [
    "# See test set results.\n",
    "predictions = model.predict(X_test_pad)\n",
    "predictions = np.argmax(predictions, axis=1)\n",
    "predictions = [emotions[pred] for pred in predictions]"
   ]
  },
  {
   "cell_type": "code",
   "execution_count": 46,
   "metadata": {},
   "outputs": [
    {
     "name": "stdout",
     "output_type": "stream",
     "text": [
      "GRU 5 classes classification report: \n",
      "              precision    recall  f1-score   support\n",
      "\n",
      "       anger     0.7458    0.6349    0.6859       693\n",
      "        fear     0.7500    0.7599    0.7549       679\n",
      "         joy     0.7139    0.7694    0.7406       707\n",
      "     neutral     0.7320    0.7962    0.7628       638\n",
      "     sadness     0.7102    0.6923    0.7011       676\n",
      "\n",
      "    accuracy                         0.7297      3393\n",
      "   macro avg     0.7304    0.7306    0.7291      3393\n",
      "weighted avg     0.7303    0.7297    0.7286      3393\n",
      "\n"
     ]
    }
   ],
   "source": [
    "print('GRU 5 classes classification report: ') \n",
    "print(classification_report(data_test.Emotion, predictions, digits=4))"
   ]
  },
  {
   "cell_type": "code",
   "execution_count": 47,
   "metadata": {},
   "outputs": [
    {
     "data": {
      "text/plain": [
       "Text(0.5, 1.0, 'GRU 5 classes confusion matrix')"
      ]
     },
     "execution_count": 47,
     "metadata": {},
     "output_type": "execute_result"
    },
    {
     "data": {
      "image/png": "[encoded data removed]",
      "text/plain": [
       "<Figure size 648x504 with 2 Axes>"
      ]
     },
     "metadata": {
      "needs_background": "light"
     },
     "output_type": "display_data"
    }
   ],
   "source": [
    "# Get confusion matrix.\n",
    "df_cm = pd.DataFrame(confusion_matrix(data_test.Emotion, predictions), index = [i for i in ['anger', 'fear', 'joy', 'neutral', 'sadness']],\n",
    "                  columns = [i for i in ['anger', 'fear', 'joy', 'neutral', 'sadness']])\n",
    "plt.figure(figsize = (9,7))\n",
    "hm = sn.heatmap(df_cm, annot=True, fmt='g')\n",
    "hm.set_xlabel('Predicted Values')\n",
    "hm.set_ylabel('Real Values')\n",
    "hm.set_title('GRU 5 classes confusion matrix')"
   ]
  },
  {
   "cell_type": "code",
   "execution_count": 55,
   "metadata": {},
   "outputs": [],
   "source": [
    "model.save('trained_models/gru_w2v_final.h5')"
   ]
  },
  {
   "cell_type": "code",
   "execution_count": 48,
   "metadata": {},
   "outputs": [],
   "source": [
    "amazon = pd.read_csv('../data/preprocessed/amazon.csv')"
   ]
  },
  {
   "cell_type": "code",
   "execution_count": 49,
   "metadata": {},
   "outputs": [],
   "source": [
    "amazon_text = amazon.REVIEW_TEXT\n",
    "amazon_texts = [clean_text(text) for text in amazon_text]\n",
    "seq_amazon = tokenizer.texts_to_sequences(amazon_texts)\n",
    "amazon_text_pad = pad_sequences(seq_amazon, maxlen = max_seq_len)"
   ]
  },
  {
   "cell_type": "code",
   "execution_count": 50,
   "metadata": {},
   "outputs": [],
   "source": [
    "for emotion in emotions:\n",
    "    amazon[emotion] = 0\n",
    "amazon['PREDICTION'] = 0"
   ]
  },
  {
   "cell_type": "code",
   "execution_count": 51,
   "metadata": {},
   "outputs": [],
   "source": [
    "predictions_amazon = model.predict(amazon_text_pad)"
   ]
  },
  {
   "cell_type": "code",
   "execution_count": 52,
   "metadata": {},
   "outputs": [
    {
     "name": "stdout",
     "output_type": "stream",
     "text": [
      "processing 0  of 20974\n",
      "processing 1000  of 20974\n",
      "processing 2000  of 20974\n",
      "processing 3000  of 20974\n",
      "processing 4000  of 20974\n",
      "processing 5000  of 20974\n",
      "processing 6000  of 20974\n",
      "processing 7000  of 20974\n",
      "processing 8000  of 20974\n",
      "processing 9000  of 20974\n",
      "processing 10000  of 20974\n",
      "processing 11000  of 20974\n",
      "processing 12000  of 20974\n",
      "processing 13000  of 20974\n",
      "processing 14000  of 20974\n",
      "processing 15000  of 20974\n",
      "processing 16000  of 20974\n",
      "processing 17000  of 20974\n",
      "processing 18000  of 20974\n",
      "processing 19000  of 20974\n",
      "processing 20000  of 20974\n"
     ]
    }
   ],
   "source": [
    "for i in range(len(amazon['REVIEW_TEXT'])):\n",
    "    if i%1000 == 0:\n",
    "        print('processing', i, ' of', len(amazon))\n",
    "    for j, emotion in enumerate(emotions):\n",
    "        amazon.iloc[i, amazon.columns.get_loc(emotion)] = predictions_amazon[i][j]\n",
    "    prediction = np.argmax(predictions_amazon[i])\n",
    "    prediction = emotions[prediction]\n",
    "    amazon.iloc[i, amazon.columns.get_loc('PREDICTION')] = prediction"
   ]
  },
  {
   "cell_type": "code",
   "execution_count": 30,
   "metadata": {},
   "outputs": [
    {
     "data": {
      "text/html": [
       "<div>\n",
       "<style scoped>\n",
       "    .dataframe tbody tr th:only-of-type {\n",
       "        vertical-align: middle;\n",
       "    }\n",
       "\n",
       "    .dataframe tbody tr th {\n",
       "        vertical-align: top;\n",
       "    }\n",
       "\n",
       "    .dataframe thead th {\n",
       "        text-align: right;\n",
       "    }\n",
       "</style>\n",
       "<table border=\"1\" class=\"dataframe\">\n",
       "  <thead>\n",
       "    <tr style=\"text-align: right;\">\n",
       "      <th></th>\n",
       "      <th>REVIEW_TEXT</th>\n",
       "      <th>VERACITY</th>\n",
       "      <th>joy</th>\n",
       "      <th>fear</th>\n",
       "      <th>anger</th>\n",
       "      <th>sadness</th>\n",
       "      <th>neutral</th>\n",
       "      <th>PREDICTION</th>\n",
       "    </tr>\n",
       "  </thead>\n",
       "  <tbody>\n",
       "    <tr>\n",
       "      <th>0</th>\n",
       "      <td>When least you think so, this product will sav...</td>\n",
       "      <td>Fake</td>\n",
       "      <td>0.131806</td>\n",
       "      <td>0.071092</td>\n",
       "      <td>0.181366</td>\n",
       "      <td>0.043201</td>\n",
       "      <td>0.572534</td>\n",
       "      <td>neutral</td>\n",
       "    </tr>\n",
       "    <tr>\n",
       "      <th>1</th>\n",
       "      <td>Lithium batteries are something new introduced...</td>\n",
       "      <td>Fake</td>\n",
       "      <td>0.131323</td>\n",
       "      <td>0.134439</td>\n",
       "      <td>0.476185</td>\n",
       "      <td>0.062931</td>\n",
       "      <td>0.195122</td>\n",
       "      <td>anger</td>\n",
       "    </tr>\n",
       "    <tr>\n",
       "      <th>2</th>\n",
       "      <td>I purchased this swing for my baby. She is 6 m...</td>\n",
       "      <td>Fake</td>\n",
       "      <td>0.276750</td>\n",
       "      <td>0.060132</td>\n",
       "      <td>0.387430</td>\n",
       "      <td>0.105716</td>\n",
       "      <td>0.169973</td>\n",
       "      <td>anger</td>\n",
       "    </tr>\n",
       "    <tr>\n",
       "      <th>3</th>\n",
       "      <td>I was looking for an inexpensive desk calcolat...</td>\n",
       "      <td>Fake</td>\n",
       "      <td>0.154393</td>\n",
       "      <td>0.264982</td>\n",
       "      <td>0.289989</td>\n",
       "      <td>0.092828</td>\n",
       "      <td>0.197809</td>\n",
       "      <td>anger</td>\n",
       "    </tr>\n",
       "    <tr>\n",
       "      <th>4</th>\n",
       "      <td>I only use it twice a week and the results are...</td>\n",
       "      <td>Fake</td>\n",
       "      <td>0.119297</td>\n",
       "      <td>0.406612</td>\n",
       "      <td>0.303040</td>\n",
       "      <td>0.066733</td>\n",
       "      <td>0.104318</td>\n",
       "      <td>fear</td>\n",
       "    </tr>\n",
       "    <tr>\n",
       "      <th>...</th>\n",
       "      <td>...</td>\n",
       "      <td>...</td>\n",
       "      <td>...</td>\n",
       "      <td>...</td>\n",
       "      <td>...</td>\n",
       "      <td>...</td>\n",
       "      <td>...</td>\n",
       "      <td>...</td>\n",
       "    </tr>\n",
       "    <tr>\n",
       "      <th>20969</th>\n",
       "      <td>I bought these for work.  I have high arches, ...</td>\n",
       "      <td>Real</td>\n",
       "      <td>0.159864</td>\n",
       "      <td>0.189525</td>\n",
       "      <td>0.255711</td>\n",
       "      <td>0.079602</td>\n",
       "      <td>0.315298</td>\n",
       "      <td>neutral</td>\n",
       "    </tr>\n",
       "    <tr>\n",
       "      <th>20970</th>\n",
       "      <td>Crocs are one of only two brands of shoes that...</td>\n",
       "      <td>Real</td>\n",
       "      <td>0.465956</td>\n",
       "      <td>0.224929</td>\n",
       "      <td>0.070325</td>\n",
       "      <td>0.084678</td>\n",
       "      <td>0.154112</td>\n",
       "      <td>joy</td>\n",
       "    </tr>\n",
       "    <tr>\n",
       "      <th>20971</th>\n",
       "      <td>I love moccasins  This fit like it was custom ...</td>\n",
       "      <td>Real</td>\n",
       "      <td>0.294881</td>\n",
       "      <td>0.092803</td>\n",
       "      <td>0.299273</td>\n",
       "      <td>0.193898</td>\n",
       "      <td>0.119146</td>\n",
       "      <td>anger</td>\n",
       "    </tr>\n",
       "    <tr>\n",
       "      <th>20972</th>\n",
       "      <td>I wish these were a little more durable. I got...</td>\n",
       "      <td>Real</td>\n",
       "      <td>0.483040</td>\n",
       "      <td>0.108364</td>\n",
       "      <td>0.126710</td>\n",
       "      <td>0.069493</td>\n",
       "      <td>0.212393</td>\n",
       "      <td>joy</td>\n",
       "    </tr>\n",
       "    <tr>\n",
       "      <th>20973</th>\n",
       "      <td>I have  been looking for a replacement for my ...</td>\n",
       "      <td>Real</td>\n",
       "      <td>0.114627</td>\n",
       "      <td>0.053728</td>\n",
       "      <td>0.201008</td>\n",
       "      <td>0.148859</td>\n",
       "      <td>0.481778</td>\n",
       "      <td>neutral</td>\n",
       "    </tr>\n",
       "  </tbody>\n",
       "</table>\n",
       "<p>20974 rows × 8 columns</p>\n",
       "</div>"
      ],
      "text/plain": [
       "                                             REVIEW_TEXT VERACITY       joy  \\\n",
       "0      When least you think so, this product will sav...     Fake  0.131806   \n",
       "1      Lithium batteries are something new introduced...     Fake  0.131323   \n",
       "2      I purchased this swing for my baby. She is 6 m...     Fake  0.276750   \n",
       "3      I was looking for an inexpensive desk calcolat...     Fake  0.154393   \n",
       "4      I only use it twice a week and the results are...     Fake  0.119297   \n",
       "...                                                  ...      ...       ...   \n",
       "20969  I bought these for work.  I have high arches, ...     Real  0.159864   \n",
       "20970  Crocs are one of only two brands of shoes that...     Real  0.465956   \n",
       "20971  I love moccasins  This fit like it was custom ...     Real  0.294881   \n",
       "20972  I wish these were a little more durable. I got...     Real  0.483040   \n",
       "20973  I have  been looking for a replacement for my ...     Real  0.114627   \n",
       "\n",
       "           fear     anger   sadness   neutral PREDICTION  \n",
       "0      0.071092  0.181366  0.043201  0.572534    neutral  \n",
       "1      0.134439  0.476185  0.062931  0.195122      anger  \n",
       "2      0.060132  0.387430  0.105716  0.169973      anger  \n",
       "3      0.264982  0.289989  0.092828  0.197809      anger  \n",
       "4      0.406612  0.303040  0.066733  0.104318       fear  \n",
       "...         ...       ...       ...       ...        ...  \n",
       "20969  0.189525  0.255711  0.079602  0.315298    neutral  \n",
       "20970  0.224929  0.070325  0.084678  0.154112        joy  \n",
       "20971  0.092803  0.299273  0.193898  0.119146      anger  \n",
       "20972  0.108364  0.126710  0.069493  0.212393        joy  \n",
       "20973  0.053728  0.201008  0.148859  0.481778    neutral  \n",
       "\n",
       "[20974 rows x 8 columns]"
      ]
     },
     "execution_count": 30,
     "metadata": {},
     "output_type": "execute_result"
    }
   ],
   "source": [
    "amazon"
   ]
  },
  {
   "cell_type": "code",
   "execution_count": 53,
   "metadata": {},
   "outputs": [
    {
     "data": {
      "text/plain": [
       "<AxesSubplot:title={'center':'GRU 5 classes predictions'}>"
      ]
     },
     "execution_count": 53,
     "metadata": {},
     "output_type": "execute_result"
    },
    {
     "data": {
      "image/png": "[encoded data removed]",
      "text/plain": [
       "<Figure size 432x288 with 1 Axes>"
      ]
     },
     "metadata": {
      "needs_background": "light"
     },
     "output_type": "display_data"
    }
   ],
   "source": [
    "amazon.PREDICTION.value_counts().plot(kind='bar', title='GRU 5 classes predictions')"
   ]
  },
  {
   "cell_type": "code",
   "execution_count": 39,
   "metadata": {},
   "outputs": [],
   "source": [
    "amazon.to_csv('../data/results/amazon_gru5.csv', index=False)"
   ]
  }
 ],
 "metadata": {
  "kernelspec": {
   "display_name": "Python 3",
   "language": "python",
   "name": "python3"
  },
  "language_info": {
   "codemirror_mode": {
    "name": "ipython",
    "version": 3
   },
   "file_extension": ".py",
   "mimetype": "text/x-python",
   "name": "python",
   "nbconvert_exporter": "python",
   "pygments_lexer": "ipython3",
   "version": "3.8.6"
  }
 },
 "nbformat": 4,
 "nbformat_minor": 4
}
