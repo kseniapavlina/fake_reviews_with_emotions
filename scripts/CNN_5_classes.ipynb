{
 "cells": [
  {
   "cell_type": "markdown",
   "metadata": {},
   "source": [
    "This notebook contains code and results for a CNN model for 5-class emotion classification.<br />\n",
    "Run the notebook from scripts directory"
   ]
  },
  {
   "cell_type": "code",
   "execution_count": 1,
   "metadata": {},
   "outputs": [],
   "source": [
    "import keras\n",
    "import matplotlib.pyplot as plt\n",
    "import numpy as np\n",
    "import os\n",
    "import pandas as pd\n",
    "import re\n",
    "import seaborn as sn\n",
    "import urllib.request\n",
    "import zipfile\n",
    "\n",
    "from keras.callbacks import EarlyStopping\n",
    "from keras.layers import Embedding, Conv1D, GlobalMaxPooling1D, Dense\n",
    "from keras.models import Sequential\n",
    "from keras.preprocessing.text import Tokenizer\n",
    "from keras.preprocessing.sequence import pad_sequences\n",
    "from keras.utils import to_categorical\n",
    "from nltk.tokenize import word_tokenize\n",
    "from sklearn.metrics import accuracy_score, f1_score, confusion_matrix, classification_report\n",
    "from sklearn.model_selection import train_test_split"
   ]
  },
  {
   "cell_type": "code",
   "execution_count": 2,
   "metadata": {},
   "outputs": [],
   "source": [
    "num_classes = 5\n",
    "\n",
    "# Number of dimensions for word embeddings.\n",
    "embed_num_dims = 300"
   ]
  },
  {
   "cell_type": "markdown",
   "metadata": {},
   "source": [
    "Explore data length for amazon to determine appropriate input length."
   ]
  },
  {
   "cell_type": "code",
   "execution_count": 3,
   "metadata": {},
   "outputs": [],
   "source": [
    "amazon = pd.read_csv('../data/preprocessed/amazon.csv')"
   ]
  },
  {
   "cell_type": "code",
   "execution_count": 4,
   "metadata": {},
   "outputs": [],
   "source": [
    "amazon['length'] = amazon['REVIEW_TEXT'].apply(lambda x: len(x.split()))"
   ]
  },
  {
   "cell_type": "code",
   "execution_count": 5,
   "metadata": {},
   "outputs": [
    {
     "data": {
      "text/plain": [
       "<AxesSubplot:>"
      ]
     },
     "execution_count": 5,
     "metadata": {},
     "output_type": "execute_result"
    },
    {
     "data": {
      "image/png": "[encoded data removed]",
      "text/plain": [
       "<Figure size 432x288 with 1 Axes>"
      ]
     },
     "metadata": {
      "needs_background": "light"
     },
     "output_type": "display_data"
    }
   ],
   "source": [
    "amazon.length.hist()"
   ]
  },
  {
   "cell_type": "code",
   "execution_count": 6,
   "metadata": {},
   "outputs": [
    {
     "data": {
      "text/plain": [
       "0.007294745875846286"
      ]
     },
     "execution_count": 6,
     "metadata": {},
     "output_type": "execute_result"
    }
   ],
   "source": [
    "len(amazon.loc[amazon['length'] > 500])/len(amazon)"
   ]
  },
  {
   "cell_type": "markdown",
   "metadata": {},
   "source": [
    "Since less than 1% of reviews is >500 words long, use 500 as max sequence length."
   ]
  },
  {
   "cell_type": "code",
   "execution_count": 7,
   "metadata": {},
   "outputs": [],
   "source": [
    "max_seq_len = 500"
   ]
  },
  {
   "cell_type": "code",
   "execution_count": 8,
   "metadata": {},
   "outputs": [],
   "source": [
    "# Define emotion classes\n",
    "emotions = ['joy', 'fear', 'anger', 'sadness', 'neutral']"
   ]
  },
  {
   "cell_type": "code",
   "execution_count": 9,
   "metadata": {},
   "outputs": [],
   "source": [
    "data_train = pd.read_csv('../data/training_data/data_train_5_classes.csv')\n",
    "data_test = pd.read_csv('../data/training_data/data_test_5_classes.csv')"
   ]
  },
  {
   "cell_type": "code",
   "execution_count": 63,
   "metadata": {},
   "outputs": [],
   "source": [
    "# Split training data into training and validation sets.\n",
    "X_train, X_dev, y_train, y_dev = train_test_split(data_train.Text, data_train.Emotion,\n",
    "                                                  shuffle=True,\n",
    "                                                  stratify=data_train.Emotion, \n",
    "                                                  test_size=0.1)"
   ]
  },
  {
   "cell_type": "code",
   "execution_count": 64,
   "metadata": {},
   "outputs": [],
   "source": [
    "X_test = data_test.Text\n",
    "y_test = data_test.Emotion"
   ]
  },
  {
   "cell_type": "code",
   "execution_count": 65,
   "metadata": {},
   "outputs": [],
   "source": [
    "def clean_text(text):\n",
    "    \"\"\"Clean text and tokenise.\"\"\" \n",
    "    text = text.lower()\n",
    "    \n",
    "    # Remove common contractions.\n",
    "    text = re.sub(r\"can't\", 'cannot', text)\n",
    "    text = re.sub(r\"\\'s\",' ', text)\n",
    "    text = re.sub(r\"\\'ve\", ' have ', text)\n",
    "    text = re.sub(r\"n't\", ' not ', text)\n",
    "    text = re.sub(r\"im\", 'i am ', text)\n",
    "    text = re.sub(r\"i'm\", 'i am ', text)\n",
    "    text = re.sub(r\"\\'re\", ' are ', text)\n",
    "    text = re.sub(r\"\\'ll\", ' will ', text)\n",
    "    \n",
    "    # Remove hashtags and tags.\n",
    "    text = re.sub(r\"(#[\\d\\w\\.]+)\", '', text)\n",
    "    text = re.sub(r\"(@[\\d\\w\\.]+)\", '', text)    \n",
    "                \n",
    "    # Remove operations and process punctuation.           \n",
    "    text = re.sub(r\",\", \" \", text)\n",
    "    text = re.sub(r\"\\.\", \" \", text)\n",
    "    text = re.sub(r\"!\", \" ! \", text)\n",
    "    text = re.sub(r\"\\/\", \" \", text)\n",
    "    text = re.sub(r\"\\^\", \" ^ \", text)\n",
    "    text = re.sub(r\"\\+\", \" + \", text)\n",
    "    text = re.sub(r\"\\-\", \" - \", text)\n",
    "    text = re.sub(r\"\\=\", \" = \", text)\n",
    "  \n",
    "    # Remove remaining punctuation and missed symbols.\n",
    "    text = re.sub(r'[^a-zA-Z0-9]', ' ', text)\n",
    "\n",
    "    text = word_tokenize(text)\n",
    "    return ' '.join(text)"
   ]
  },
  {
   "cell_type": "code",
   "execution_count": 66,
   "metadata": {},
   "outputs": [],
   "source": [
    "data = data_train.append(data_test, ignore_index=True)\n",
    "texts = [clean_text(text) for text in data.Text]\n",
    "\n",
    "texts_train = [clean_text(text) for text in X_train]\n",
    "texts_dev = [clean_text(text) for text in X_dev]\n",
    "texts_test = [clean_text(text) for text in X_test]"
   ]
  },
  {
   "cell_type": "code",
   "execution_count": 67,
   "metadata": {},
   "outputs": [],
   "source": [
    "tokenizer = Tokenizer()\n",
    "tokenizer.fit_on_texts(texts)\n",
    "\n",
    "seq_train = tokenizer.texts_to_sequences(texts_train)\n",
    "seq_dev = tokenizer.texts_to_sequences(texts_dev)\n",
    "seq_test = tokenizer.texts_to_sequences(texts_test)\n",
    "\n",
    "index_of_words = tokenizer.word_index\n",
    "\n",
    "# Reserve 1 for padding.\n",
    "vocab_size = len(index_of_words) + 1"
   ]
  },
  {
   "cell_type": "code",
   "execution_count": 68,
   "metadata": {},
   "outputs": [],
   "source": [
    "X_train_pad = pad_sequences(seq_train, maxlen = max_seq_len)\n",
    "X_dev_pad = pad_sequences(seq_dev, maxlen = max_seq_len)\n",
    "X_test_pad = pad_sequences(seq_test, maxlen = max_seq_len)"
   ]
  },
  {
   "cell_type": "code",
   "execution_count": 69,
   "metadata": {},
   "outputs": [],
   "source": [
    "# Assign integer labels to y values.\n",
    "encoding = {\n",
    "    'joy': 0,\n",
    "    'fear': 1,\n",
    "    'anger': 2,\n",
    "    'sadness': 3,\n",
    "    'neutral': 4\n",
    "}\n",
    "\n",
    "y_train = [encoding[x] for x in y_train]\n",
    "y_dev = [encoding[x] for x in y_dev]\n",
    "y_test = [encoding[x] for x in y_test]"
   ]
  },
  {
   "cell_type": "code",
   "execution_count": 70,
   "metadata": {},
   "outputs": [],
   "source": [
    "y_train = to_categorical(y_train)\n",
    "y_dev = to_categorical(y_dev)\n",
    "y_test = to_categorical(y_test)"
   ]
  },
  {
   "cell_type": "code",
   "execution_count": 71,
   "metadata": {},
   "outputs": [],
   "source": [
    "def create_embedding_matrix(filepath, word_index, embedding_dim, vocab_size):\n",
    "    embedding_matrix = np.zeros((vocab_size, embedding_dim))\n",
    "    with open(filepath) as f:\n",
    "        for line in f:\n",
    "            word, *vector = line.split()\n",
    "            if word in word_index:\n",
    "                idx = word_index[word] \n",
    "                embedding_matrix[idx] = np.array(\n",
    "                    vector, dtype=np.float32)[:embedding_dim]\n",
    "    return embedding_matrix"
   ]
  },
  {
   "cell_type": "code",
   "execution_count": 19,
   "metadata": {},
   "outputs": [
    {
     "name": "stdout",
     "output_type": "stream",
     "text": [
      "Geting word vectors...\n",
      "Done.\n"
     ]
    }
   ],
   "source": [
    "fname = 'embeddings/wiki-news-300d-1M.vec'\n",
    "if not os.path.isfile(fname):\n",
    "    print('Geting word vectors...')\n",
    "    urllib.request.urlretrieve('https://dl.fbaipublicfiles.com/fasttext/vectors-english/wiki-news-300d-1M.vec.zip',\n",
    "                              'wiki-news-300d-1M.vec.zip')\n",
    "    with zipfile.ZipFile('wiki-news-300d-1M.vec.zip', 'r') as zip_ref:\n",
    "        zip_ref.extractall('embeddings')\n",
    "    print('Done.')\n",
    "    os.remove('wiki-news-300d-1M.vec.zip')"
   ]
  },
  {
   "cell_type": "code",
   "execution_count": 72,
   "metadata": {},
   "outputs": [],
   "source": [
    "embedding_matrix = create_embedding_matrix(fname, index_of_words, embed_num_dims, vocab_size)"
   ]
  },
  {
   "cell_type": "code",
   "execution_count": 37,
   "metadata": {},
   "outputs": [],
   "source": [
    "# The following hyperparameters have been tried before settling on the best ones.\n",
    "# A model has been created for each set and performances compared, code is omitted for clarity.\n",
    "kernel_sizes = [3, 5]\n",
    "filters = [64, 128, 256]\n",
    "learning_rates = [0.01, 0.001, 0.0001]\n",
    "max_seq_length = [300, 500]"
   ]
  },
  {
   "cell_type": "code",
   "execution_count": 73,
   "metadata": {},
   "outputs": [
    {
     "name": "stdout",
     "output_type": "stream",
     "text": [
      "Model: \"sequential_2\"\n",
      "_________________________________________________________________\n",
      "Layer (type)                 Output Shape              Param #   \n",
      "=================================================================\n",
      "embedding_2 (Embedding)      (None, 500, 300)          3603300   \n",
      "_________________________________________________________________\n",
      "conv1d_2 (Conv1D)            (None, 498, 128)          115328    \n",
      "_________________________________________________________________\n",
      "global_max_pooling1d_2 (Glob (None, 128)               0         \n",
      "_________________________________________________________________\n",
      "dense_4 (Dense)              (None, 256)               33024     \n",
      "_________________________________________________________________\n",
      "dense_5 (Dense)              (None, 5)                 1285      \n",
      "=================================================================\n",
      "Total params: 3,752,937\n",
      "Trainable params: 149,637\n",
      "Non-trainable params: 3,603,300\n",
      "_________________________________________________________________\n"
     ]
    }
   ],
   "source": [
    "# Define final model.\n",
    "kernel_size = 3\n",
    "filters = 128\n",
    "\n",
    "embedding_layer = Embedding(vocab_size,\n",
    "                            embed_num_dims,\n",
    "                            input_length = max_seq_len,\n",
    "                            weights = [embedding_matrix],\n",
    "                            trainable=False)\n",
    "model = Sequential()\n",
    "model.add(embedding_layer)\n",
    "model.add(Conv1D(filters, kernel_size, activation='relu'))\n",
    "model.add(GlobalMaxPooling1D())\n",
    "model.add(Dense(256, activation='relu'))\n",
    "model.add(Dense(num_classes, activation='softmax'))\n",
    "opt = keras.optimizers.Adam(learning_rate=0.0001)\n",
    "model.compile(loss = 'categorical_crossentropy', optimizer = opt, metrics = ['accuracy'])\n",
    "model.summary()"
   ]
  },
  {
   "cell_type": "code",
   "execution_count": 74,
   "metadata": {},
   "outputs": [
    {
     "name": "stdout",
     "output_type": "stream",
     "text": [
      "Epoch 1/50\n",
      "112/112 [==============================] - 12s 100ms/step - loss: 1.5752 - accuracy: 0.2622 - val_loss: 1.5064 - val_accuracy: 0.4156\n",
      "Epoch 2/50\n",
      "112/112 [==============================] - 11s 98ms/step - loss: 1.4619 - accuracy: 0.4688 - val_loss: 1.3714 - val_accuracy: 0.4811\n",
      "Epoch 3/50\n",
      "112/112 [==============================] - 11s 97ms/step - loss: 1.3169 - accuracy: 0.5426 - val_loss: 1.2304 - val_accuracy: 0.5630\n",
      "Epoch 4/50\n",
      "112/112 [==============================] - 11s 97ms/step - loss: 1.1463 - accuracy: 0.6484 - val_loss: 1.0920 - val_accuracy: 0.6259\n",
      "Epoch 5/50\n",
      "112/112 [==============================] - 11s 96ms/step - loss: 0.9980 - accuracy: 0.6915 - val_loss: 0.9619 - val_accuracy: 0.6599\n",
      "Epoch 6/50\n",
      "112/112 [==============================] - 15s 130ms/step - loss: 0.8565 - accuracy: 0.7345 - val_loss: 0.8739 - val_accuracy: 0.7040\n",
      "Epoch 7/50\n",
      "112/112 [==============================] - 13s 113ms/step - loss: 0.7552 - accuracy: 0.7552 - val_loss: 0.8230 - val_accuracy: 0.7091\n",
      "Epoch 8/50\n",
      "112/112 [==============================] - 12s 106ms/step - loss: 0.6984 - accuracy: 0.7748 - val_loss: 0.7979 - val_accuracy: 0.7141\n",
      "Epoch 9/50\n",
      "112/112 [==============================] - 14s 128ms/step - loss: 0.6581 - accuracy: 0.7810 - val_loss: 0.7761 - val_accuracy: 0.7141\n",
      "Epoch 10/50\n",
      "112/112 [==============================] - 13s 113ms/step - loss: 0.6143 - accuracy: 0.7960 - val_loss: 0.7622 - val_accuracy: 0.7078\n",
      "Epoch 11/50\n",
      "112/112 [==============================] - 12s 111ms/step - loss: 0.5760 - accuracy: 0.8148 - val_loss: 0.7520 - val_accuracy: 0.7229\n",
      "Epoch 12/50\n",
      "112/112 [==============================] - 12s 110ms/step - loss: 0.5397 - accuracy: 0.8308 - val_loss: 0.7416 - val_accuracy: 0.7305\n",
      "Epoch 13/50\n",
      "112/112 [==============================] - 13s 113ms/step - loss: 0.5277 - accuracy: 0.8338 - val_loss: 0.7346 - val_accuracy: 0.7254\n",
      "Epoch 14/50\n",
      "112/112 [==============================] - 13s 119ms/step - loss: 0.5091 - accuracy: 0.8431 - val_loss: 0.7319 - val_accuracy: 0.7242\n",
      "Epoch 15/50\n",
      "112/112 [==============================] - 13s 115ms/step - loss: 0.4751 - accuracy: 0.8581 - val_loss: 0.7379 - val_accuracy: 0.7166\n",
      "Epoch 16/50\n",
      "112/112 [==============================] - 13s 116ms/step - loss: 0.4562 - accuracy: 0.8674 - val_loss: 0.7257 - val_accuracy: 0.7355\n",
      "Epoch 17/50\n",
      "112/112 [==============================] - 13s 118ms/step - loss: 0.4079 - accuracy: 0.8853 - val_loss: 0.7184 - val_accuracy: 0.7305\n",
      "Epoch 18/50\n",
      "112/112 [==============================] - 13s 119ms/step - loss: 0.4003 - accuracy: 0.8892 - val_loss: 0.7157 - val_accuracy: 0.7406\n",
      "Epoch 19/50\n",
      "112/112 [==============================] - 13s 119ms/step - loss: 0.3792 - accuracy: 0.8949 - val_loss: 0.7164 - val_accuracy: 0.7355\n",
      "Epoch 20/50\n",
      "112/112 [==============================] - 14s 121ms/step - loss: 0.3597 - accuracy: 0.9018 - val_loss: 0.7159 - val_accuracy: 0.7393\n"
     ]
    }
   ],
   "source": [
    "batch_size = 64\n",
    "max_epochs = 50\n",
    "early_stopping_monitor = EarlyStopping(\n",
    "    monitor='val_loss',\n",
    "    min_delta=0,\n",
    "    patience=2,\n",
    "    verbose=0,\n",
    "    mode='auto',\n",
    "    baseline=None,\n",
    "    restore_best_weights=True\n",
    ")\n",
    "\n",
    "history = model.fit(X_train_pad, y_train, \n",
    "                    batch_size=batch_size,\n",
    "                    epochs=max_epochs,\n",
    "                    validation_data=(X_dev_pad, y_dev),\n",
    "                    callbacks=[early_stopping_monitor])"
   ]
  },
  {
   "cell_type": "code",
   "execution_count": 75,
   "metadata": {},
   "outputs": [
    {
     "data": {
      "image/png": "[encoded data removed]",
      "text/plain": [
       "<Figure size 432x288 with 1 Axes>"
      ]
     },
     "metadata": {
      "needs_background": "light"
     },
     "output_type": "display_data"
    },
    {
     "data": {
      "image/png": "[encoded data removed]",
      "text/plain": [
       "<Figure size 432x288 with 1 Axes>"
      ]
     },
     "metadata": {
      "needs_background": "light"
     },
     "output_type": "display_data"
    }
   ],
   "source": [
    "# Plot loss and accuracy.\n",
    "plt.plot(history.history['accuracy'])\n",
    "plt.plot(history.history['val_accuracy'])\n",
    "plt.title('Model Accuracy')\n",
    "plt.ylabel('Accuracy')\n",
    "plt.xlabel('Epoch')\n",
    "plt.legend(['Training Accuracy', 'Validation Accuracy'], loc='upper left')\n",
    "plt.show()\n",
    "\n",
    "plt.plot(history.history['loss'])\n",
    "plt.plot(history.history['val_loss'])\n",
    "plt.title('Model Loss')\n",
    "plt.ylabel('Loss')\n",
    "plt.xlabel('Epoch')\n",
    "plt.legend(['Training Loss', 'Validation Loss'], loc='upper left')\n",
    "plt.show()"
   ]
  },
  {
   "cell_type": "code",
   "execution_count": 86,
   "metadata": {},
   "outputs": [],
   "source": [
    "# See test set results.\n",
    "predictions = model.predict(X_test_pad)\n",
    "predictions = np.argmax(predictions, axis=1)\n",
    "predictions = [emotions[pred] for pred in predictions]"
   ]
  },
  {
   "cell_type": "code",
   "execution_count": 25,
   "metadata": {},
   "outputs": [],
   "source": [
    "model.save('../trained_models/cnn_w2v.h5')"
   ]
  },
  {
   "cell_type": "code",
   "execution_count": 87,
   "metadata": {},
   "outputs": [
    {
     "name": "stdout",
     "output_type": "stream",
     "text": [
      "CNN 5 classes classification report: \n",
      "              precision    recall  f1-score   support\n",
      "\n",
      "       anger     0.6650    0.7504    0.7051       693\n",
      "        fear     0.7880    0.7334    0.7597       679\n",
      "         joy     0.7758    0.7440    0.7596       707\n",
      "     neutral     0.7511    0.7994    0.7745       638\n",
      "     sadness     0.7717    0.7101    0.7396       676\n",
      "\n",
      "    accuracy                         0.7468      3393\n",
      "   macro avg     0.7503    0.7474    0.7477      3393\n",
      "weighted avg     0.7501    0.7468    0.7473      3393\n",
      "\n"
     ]
    }
   ],
   "source": [
    "print('CNN 5 classes classification report: ') \n",
    "print(classification_report(data_test.Emotion, predictions, digits=4))"
   ]
  },
  {
   "cell_type": "code",
   "execution_count": 78,
   "metadata": {},
   "outputs": [
    {
     "data": {
      "text/plain": [
       "Text(0.5, 1.0, 'CNN 5 classes confusion matrix')"
      ]
     },
     "execution_count": 78,
     "metadata": {},
     "output_type": "execute_result"
    },
    {
     "data": {
      "image/png": "[encoded data removed]",
      "text/plain": [
       "<Figure size 648x504 with 2 Axes>"
      ]
     },
     "metadata": {
      "needs_background": "light"
     },
     "output_type": "display_data"
    }
   ],
   "source": [
    "# Get confusion matrix.\n",
    "df_cm = pd.DataFrame(confusion_matrix(data_test.Emotion, predictions), index = [i for i in ['anger', 'fear', 'joy', 'neutral', 'sadness']],\n",
    "                  columns = [i for i in ['anger', 'fear', 'joy', 'neutral', 'sadness']])\n",
    "plt.figure(figsize = (9,7))\n",
    "hm = sn.heatmap(df_cm, annot=True, fmt='g')\n",
    "hm.set_xlabel('Predicted Values')\n",
    "hm.set_ylabel('Real Values')\n",
    "hm.set_title('CNN 5 classes confusion matrix')"
   ]
  },
  {
   "cell_type": "markdown",
   "metadata": {},
   "source": [
    "Now, obtain predictions on amazon dataset."
   ]
  },
  {
   "cell_type": "code",
   "execution_count": 55,
   "metadata": {},
   "outputs": [],
   "source": [
    "amazon = pd.read_csv('../data/preprocessed/amazon.csv')"
   ]
  },
  {
   "cell_type": "code",
   "execution_count": 56,
   "metadata": {},
   "outputs": [
    {
     "data": {
      "text/html": [
       "<div>\n",
       "<style scoped>\n",
       "    .dataframe tbody tr th:only-of-type {\n",
       "        vertical-align: middle;\n",
       "    }\n",
       "\n",
       "    .dataframe tbody tr th {\n",
       "        vertical-align: top;\n",
       "    }\n",
       "\n",
       "    .dataframe thead th {\n",
       "        text-align: right;\n",
       "    }\n",
       "</style>\n",
       "<table border=\"1\" class=\"dataframe\">\n",
       "  <thead>\n",
       "    <tr style=\"text-align: right;\">\n",
       "      <th></th>\n",
       "      <th>REVIEW_TEXT</th>\n",
       "      <th>VERACITY</th>\n",
       "    </tr>\n",
       "  </thead>\n",
       "  <tbody>\n",
       "    <tr>\n",
       "      <th>0</th>\n",
       "      <td>When least you think so, this product will sav...</td>\n",
       "      <td>Fake</td>\n",
       "    </tr>\n",
       "    <tr>\n",
       "      <th>1</th>\n",
       "      <td>Lithium batteries are something new introduced...</td>\n",
       "      <td>Fake</td>\n",
       "    </tr>\n",
       "    <tr>\n",
       "      <th>2</th>\n",
       "      <td>I purchased this swing for my baby. She is 6 m...</td>\n",
       "      <td>Fake</td>\n",
       "    </tr>\n",
       "    <tr>\n",
       "      <th>3</th>\n",
       "      <td>I was looking for an inexpensive desk calcolat...</td>\n",
       "      <td>Fake</td>\n",
       "    </tr>\n",
       "    <tr>\n",
       "      <th>4</th>\n",
       "      <td>I only use it twice a week and the results are...</td>\n",
       "      <td>Fake</td>\n",
       "    </tr>\n",
       "    <tr>\n",
       "      <th>...</th>\n",
       "      <td>...</td>\n",
       "      <td>...</td>\n",
       "    </tr>\n",
       "    <tr>\n",
       "      <th>20969</th>\n",
       "      <td>I bought these for work.  I have high arches, ...</td>\n",
       "      <td>Real</td>\n",
       "    </tr>\n",
       "    <tr>\n",
       "      <th>20970</th>\n",
       "      <td>Crocs are one of only two brands of shoes that...</td>\n",
       "      <td>Real</td>\n",
       "    </tr>\n",
       "    <tr>\n",
       "      <th>20971</th>\n",
       "      <td>I love moccasins  This fit like it was custom ...</td>\n",
       "      <td>Real</td>\n",
       "    </tr>\n",
       "    <tr>\n",
       "      <th>20972</th>\n",
       "      <td>I wish these were a little more durable. I got...</td>\n",
       "      <td>Real</td>\n",
       "    </tr>\n",
       "    <tr>\n",
       "      <th>20973</th>\n",
       "      <td>I have  been looking for a replacement for my ...</td>\n",
       "      <td>Real</td>\n",
       "    </tr>\n",
       "  </tbody>\n",
       "</table>\n",
       "<p>20974 rows × 2 columns</p>\n",
       "</div>"
      ],
      "text/plain": [
       "                                             REVIEW_TEXT VERACITY\n",
       "0      When least you think so, this product will sav...     Fake\n",
       "1      Lithium batteries are something new introduced...     Fake\n",
       "2      I purchased this swing for my baby. She is 6 m...     Fake\n",
       "3      I was looking for an inexpensive desk calcolat...     Fake\n",
       "4      I only use it twice a week and the results are...     Fake\n",
       "...                                                  ...      ...\n",
       "20969  I bought these for work.  I have high arches, ...     Real\n",
       "20970  Crocs are one of only two brands of shoes that...     Real\n",
       "20971  I love moccasins  This fit like it was custom ...     Real\n",
       "20972  I wish these were a little more durable. I got...     Real\n",
       "20973  I have  been looking for a replacement for my ...     Real\n",
       "\n",
       "[20974 rows x 2 columns]"
      ]
     },
     "execution_count": 56,
     "metadata": {},
     "output_type": "execute_result"
    }
   ],
   "source": [
    "amazon"
   ]
  },
  {
   "cell_type": "code",
   "execution_count": 79,
   "metadata": {},
   "outputs": [],
   "source": [
    "amazon_text = amazon.REVIEW_TEXT\n",
    "amazon_texts = [clean_text(text) for text in amazon_text]\n",
    "seq_amazon = tokenizer.texts_to_sequences(amazon_texts)\n",
    "amazon_text_pad = pad_sequences(seq_amazon, maxlen = max_seq_len)"
   ]
  },
  {
   "cell_type": "code",
   "execution_count": 80,
   "metadata": {},
   "outputs": [],
   "source": [
    "for emotion in emotions:\n",
    "    amazon[emotion] = 0\n",
    "amazon['PREDICTION'] = 0"
   ]
  },
  {
   "cell_type": "code",
   "execution_count": 81,
   "metadata": {},
   "outputs": [],
   "source": [
    "predictions_amazon = model.predict(amazon_text_pad)"
   ]
  },
  {
   "cell_type": "code",
   "execution_count": 82,
   "metadata": {},
   "outputs": [
    {
     "name": "stdout",
     "output_type": "stream",
     "text": [
      "processing 0  of 20974\n",
      "processing 1000  of 20974\n",
      "processing 2000  of 20974\n",
      "processing 3000  of 20974\n",
      "processing 4000  of 20974\n",
      "processing 5000  of 20974\n",
      "processing 6000  of 20974\n",
      "processing 7000  of 20974\n",
      "processing 8000  of 20974\n",
      "processing 9000  of 20974\n",
      "processing 10000  of 20974\n",
      "processing 11000  of 20974\n",
      "processing 12000  of 20974\n",
      "processing 13000  of 20974\n",
      "processing 14000  of 20974\n",
      "processing 15000  of 20974\n",
      "processing 16000  of 20974\n",
      "processing 17000  of 20974\n",
      "processing 18000  of 20974\n",
      "processing 19000  of 20974\n",
      "processing 20000  of 20974\n"
     ]
    }
   ],
   "source": [
    "for i in range(len(amazon['REVIEW_TEXT'])):\n",
    "    if i%1000 == 0:\n",
    "        print('processing', i, ' of', len(amazon))\n",
    "    j = 0\n",
    "    for j, emotion in enumerate(emotions):\n",
    "        amazon.iloc[i, amazon.columns.get_loc(emotion)] = predictions_amazon[i][j]\n",
    "    predictions = np.argmax(predictions_amazon[i])\n",
    "    predictions = emotions[predictions]\n",
    "    amazon.iloc[i, amazon.columns.get_loc('PREDICTION')] = predictions"
   ]
  },
  {
   "cell_type": "code",
   "execution_count": 83,
   "metadata": {},
   "outputs": [
    {
     "data": {
      "text/html": [
       "<div>\n",
       "<style scoped>\n",
       "    .dataframe tbody tr th:only-of-type {\n",
       "        vertical-align: middle;\n",
       "    }\n",
       "\n",
       "    .dataframe tbody tr th {\n",
       "        vertical-align: top;\n",
       "    }\n",
       "\n",
       "    .dataframe thead th {\n",
       "        text-align: right;\n",
       "    }\n",
       "</style>\n",
       "<table border=\"1\" class=\"dataframe\">\n",
       "  <thead>\n",
       "    <tr style=\"text-align: right;\">\n",
       "      <th></th>\n",
       "      <th>REVIEW_TEXT</th>\n",
       "      <th>VERACITY</th>\n",
       "      <th>joy</th>\n",
       "      <th>fear</th>\n",
       "      <th>anger</th>\n",
       "      <th>sadness</th>\n",
       "      <th>neutral</th>\n",
       "      <th>PREDICTION</th>\n",
       "    </tr>\n",
       "  </thead>\n",
       "  <tbody>\n",
       "    <tr>\n",
       "      <th>0</th>\n",
       "      <td>When least you think so, this product will sav...</td>\n",
       "      <td>Fake</td>\n",
       "      <td>0.059971</td>\n",
       "      <td>0.038312</td>\n",
       "      <td>0.219190</td>\n",
       "      <td>0.028211</td>\n",
       "      <td>0.654315</td>\n",
       "      <td>neutral</td>\n",
       "    </tr>\n",
       "    <tr>\n",
       "      <th>1</th>\n",
       "      <td>Lithium batteries are something new introduced...</td>\n",
       "      <td>Fake</td>\n",
       "      <td>0.042664</td>\n",
       "      <td>0.104629</td>\n",
       "      <td>0.758266</td>\n",
       "      <td>0.060904</td>\n",
       "      <td>0.033536</td>\n",
       "      <td>anger</td>\n",
       "    </tr>\n",
       "    <tr>\n",
       "      <th>2</th>\n",
       "      <td>I purchased this swing for my baby. She is 6 m...</td>\n",
       "      <td>Fake</td>\n",
       "      <td>0.230921</td>\n",
       "      <td>0.130540</td>\n",
       "      <td>0.158822</td>\n",
       "      <td>0.117755</td>\n",
       "      <td>0.361962</td>\n",
       "      <td>neutral</td>\n",
       "    </tr>\n",
       "    <tr>\n",
       "      <th>3</th>\n",
       "      <td>I was looking for an inexpensive desk calcolat...</td>\n",
       "      <td>Fake</td>\n",
       "      <td>0.059857</td>\n",
       "      <td>0.497896</td>\n",
       "      <td>0.200699</td>\n",
       "      <td>0.081105</td>\n",
       "      <td>0.160443</td>\n",
       "      <td>fear</td>\n",
       "    </tr>\n",
       "    <tr>\n",
       "      <th>4</th>\n",
       "      <td>I only use it twice a week and the results are...</td>\n",
       "      <td>Fake</td>\n",
       "      <td>0.369998</td>\n",
       "      <td>0.238711</td>\n",
       "      <td>0.203988</td>\n",
       "      <td>0.066481</td>\n",
       "      <td>0.120823</td>\n",
       "      <td>joy</td>\n",
       "    </tr>\n",
       "    <tr>\n",
       "      <th>...</th>\n",
       "      <td>...</td>\n",
       "      <td>...</td>\n",
       "      <td>...</td>\n",
       "      <td>...</td>\n",
       "      <td>...</td>\n",
       "      <td>...</td>\n",
       "      <td>...</td>\n",
       "      <td>...</td>\n",
       "    </tr>\n",
       "    <tr>\n",
       "      <th>20969</th>\n",
       "      <td>I bought these for work.  I have high arches, ...</td>\n",
       "      <td>Real</td>\n",
       "      <td>0.133580</td>\n",
       "      <td>0.057402</td>\n",
       "      <td>0.251957</td>\n",
       "      <td>0.091467</td>\n",
       "      <td>0.465593</td>\n",
       "      <td>neutral</td>\n",
       "    </tr>\n",
       "    <tr>\n",
       "      <th>20970</th>\n",
       "      <td>Crocs are one of only two brands of shoes that...</td>\n",
       "      <td>Real</td>\n",
       "      <td>0.487293</td>\n",
       "      <td>0.088118</td>\n",
       "      <td>0.206472</td>\n",
       "      <td>0.060743</td>\n",
       "      <td>0.157374</td>\n",
       "      <td>joy</td>\n",
       "    </tr>\n",
       "    <tr>\n",
       "      <th>20971</th>\n",
       "      <td>I love moccasins  This fit like it was custom ...</td>\n",
       "      <td>Real</td>\n",
       "      <td>0.282923</td>\n",
       "      <td>0.291710</td>\n",
       "      <td>0.224478</td>\n",
       "      <td>0.050961</td>\n",
       "      <td>0.149929</td>\n",
       "      <td>fear</td>\n",
       "    </tr>\n",
       "    <tr>\n",
       "      <th>20972</th>\n",
       "      <td>I wish these were a little more durable. I got...</td>\n",
       "      <td>Real</td>\n",
       "      <td>0.125975</td>\n",
       "      <td>0.466806</td>\n",
       "      <td>0.229611</td>\n",
       "      <td>0.069143</td>\n",
       "      <td>0.108465</td>\n",
       "      <td>fear</td>\n",
       "    </tr>\n",
       "    <tr>\n",
       "      <th>20973</th>\n",
       "      <td>I have  been looking for a replacement for my ...</td>\n",
       "      <td>Real</td>\n",
       "      <td>0.085932</td>\n",
       "      <td>0.348715</td>\n",
       "      <td>0.279026</td>\n",
       "      <td>0.232102</td>\n",
       "      <td>0.054225</td>\n",
       "      <td>fear</td>\n",
       "    </tr>\n",
       "  </tbody>\n",
       "</table>\n",
       "<p>20974 rows × 8 columns</p>\n",
       "</div>"
      ],
      "text/plain": [
       "                                             REVIEW_TEXT VERACITY       joy  \\\n",
       "0      When least you think so, this product will sav...     Fake  0.059971   \n",
       "1      Lithium batteries are something new introduced...     Fake  0.042664   \n",
       "2      I purchased this swing for my baby. She is 6 m...     Fake  0.230921   \n",
       "3      I was looking for an inexpensive desk calcolat...     Fake  0.059857   \n",
       "4      I only use it twice a week and the results are...     Fake  0.369998   \n",
       "...                                                  ...      ...       ...   \n",
       "20969  I bought these for work.  I have high arches, ...     Real  0.133580   \n",
       "20970  Crocs are one of only two brands of shoes that...     Real  0.487293   \n",
       "20971  I love moccasins  This fit like it was custom ...     Real  0.282923   \n",
       "20972  I wish these were a little more durable. I got...     Real  0.125975   \n",
       "20973  I have  been looking for a replacement for my ...     Real  0.085932   \n",
       "\n",
       "           fear     anger   sadness   neutral PREDICTION  \n",
       "0      0.038312  0.219190  0.028211  0.654315    neutral  \n",
       "1      0.104629  0.758266  0.060904  0.033536      anger  \n",
       "2      0.130540  0.158822  0.117755  0.361962    neutral  \n",
       "3      0.497896  0.200699  0.081105  0.160443       fear  \n",
       "4      0.238711  0.203988  0.066481  0.120823        joy  \n",
       "...         ...       ...       ...       ...        ...  \n",
       "20969  0.057402  0.251957  0.091467  0.465593    neutral  \n",
       "20970  0.088118  0.206472  0.060743  0.157374        joy  \n",
       "20971  0.291710  0.224478  0.050961  0.149929       fear  \n",
       "20972  0.466806  0.229611  0.069143  0.108465       fear  \n",
       "20973  0.348715  0.279026  0.232102  0.054225       fear  \n",
       "\n",
       "[20974 rows x 8 columns]"
      ]
     },
     "execution_count": 83,
     "metadata": {},
     "output_type": "execute_result"
    }
   ],
   "source": [
    "amazon"
   ]
  },
  {
   "cell_type": "code",
   "execution_count": 84,
   "metadata": {},
   "outputs": [
    {
     "data": {
      "text/plain": [
       "<AxesSubplot:title={'center':'CNN 5 classes predictions'}>"
      ]
     },
     "execution_count": 84,
     "metadata": {},
     "output_type": "execute_result"
    },
    {
     "data": {
      "image/png": "[encoded data removed]",
      "text/plain": [
       "<Figure size 432x288 with 1 Axes>"
      ]
     },
     "metadata": {
      "needs_background": "light"
     },
     "output_type": "display_data"
    }
   ],
   "source": [
    "amazon.PREDICTION.value_counts().plot(kind='bar', title='CNN 5 classes predictions')"
   ]
  },
  {
   "cell_type": "code",
   "execution_count": 85,
   "metadata": {},
   "outputs": [],
   "source": [
    "amazon.to_csv('../data/results/amazon_cnn5.csv', index=False)"
   ]
  }
 ],
 "metadata": {
  "kernelspec": {
   "display_name": "Python 3",
   "language": "python",
   "name": "python3"
  },
  "language_info": {
   "codemirror_mode": {
    "name": "ipython",
    "version": 3
   },
   "file_extension": ".py",
   "mimetype": "text/x-python",
   "name": "python",
   "nbconvert_exporter": "python",
   "pygments_lexer": "ipython3",
   "version": "3.8.6"
  }
 },
 "nbformat": 4,
 "nbformat_minor": 4
}
