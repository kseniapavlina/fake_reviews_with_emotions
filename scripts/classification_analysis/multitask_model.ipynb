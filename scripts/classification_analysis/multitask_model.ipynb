{
 "cells": [
  {
   "cell_type": "markdown",
   "metadata": {
    "id": "3HGkH44zziiy"
   },
   "source": [
    "This notebook contains code for a multitask model that predicts veracity and emotion of a review simultaneously."
   ]
  },
  {
   "cell_type": "code",
   "execution_count": null,
   "metadata": {},
   "outputs": [],
   "source": [
    "# Run this line the first time you run thia notebook.\n",
    "# If running on Google Colab, resturt runtime after running the cell. \n",
    "!python -m pip install Keras==2.3.1 tensorflow==2.1.0"
   ]
  },
  {
   "cell_type": "code",
   "execution_count": 2,
   "metadata": {
    "colab": {
     "base_uri": "https://localhost:8080/"
    },
    "id": "11go5AUqvyET",
    "outputId": "4f330c1c-c1dc-4b0b-e8ea-e715a18aca57"
   },
   "outputs": [
    {
     "name": "stderr",
     "output_type": "stream",
     "text": [
      "Using TensorFlow backend.\n"
     ]
    }
   ],
   "source": [
    "import nltk\n",
    "import numpy as np\n",
    "import pandas as pd\n",
    "import re\n",
    "\n",
    "from keras.callbacks import EarlyStopping\n",
    "from keras.layers import Dense, LSTM, Conv1D, MaxPooling1D, Dropout, Input\n",
    "from keras.layers.embeddings import Embedding\n",
    "from keras.models import Model\n",
    "from keras.preprocessing.sequence import pad_sequences\n",
    "from keras.preprocessing.text import Tokenizer\n",
    "from keras.utils import plot_model\n",
    "from nltk.corpus import stopwords\n",
    "from nltk.stem.wordnet import WordNetLemmatizer\n",
    "from sklearn.metrics import classification_report, accuracy_score, f1_score\n",
    "from sklearn.model_selection import train_test_split\n",
    "from sklearn.utils import class_weight"
   ]
  },
  {
   "cell_type": "code",
   "execution_count": 3,
   "metadata": {
    "id": "EIitPJ5Yv1NX"
   },
   "outputs": [],
   "source": [
    "def clean_text(text):\n",
    "    \"\"\"\n",
    "    clean_text removes stop words and punctuation and lemmatizes the text.\n",
    "    \"\"\"\n",
    "    text = text.lower()\n",
    "             \n",
    "    # Process opeations and common punctuation.           \n",
    "    text = re.sub(r\",\", \" \", text)\n",
    "    text = re.sub(r\"\\.\", \" \", text)\n",
    "    text = re.sub(r\"!\", \" ! \", text)\n",
    "    text = re.sub(r\"\\/\", \" \", text)\n",
    "    text = re.sub(r\"\\^\", \" ^ \", text)\n",
    "    text = re.sub(r\"\\+\", \" + \", text)\n",
    "    text = re.sub(r\"\\-\", \" - \", text)\n",
    "    text = re.sub(r\"\\=\", \" = \", text)\n",
    "    \n",
    "    # Remove all remaining symbols.\n",
    "    text = re.sub(r'[^a-z0-9]', ' ', text)\n",
    "    \n",
    "    # Remove stopwords and lemmatize.\n",
    "    text = text.split()\n",
    "    stop_words = stopwords.words(\"english\")\n",
    "    text = [tok for tok in text if tok not in stop_words]\n",
    "    lemmatizer = WordNetLemmatizer()\n",
    "    text = [lemmatizer.lemmatize(w) for w in text]\n",
    "    return ' '.join(text)"
   ]
  },
  {
   "cell_type": "code",
   "execution_count": 4,
   "metadata": {
    "colab": {
     "base_uri": "https://localhost:8080/"
    },
    "id": "0yoRdasiv2Zk",
    "outputId": "8a8a3688-1acc-4704-96cf-ebcb9eef59e8"
   },
   "outputs": [
    {
     "name": "stdout",
     "output_type": "stream",
     "text": [
      "[nltk_data] Downloading package stopwords to /root/nltk_data...\n",
      "[nltk_data]   Unzipping corpora/stopwords.zip.\n"
     ]
    },
    {
     "data": {
      "text/plain": [
       "True"
      ]
     },
     "execution_count": 4,
     "metadata": {
      "tags": []
     },
     "output_type": "execute_result"
    }
   ],
   "source": [
    "nltk.download('stopwords')"
   ]
  },
  {
   "cell_type": "code",
   "execution_count": 5,
   "metadata": {
    "colab": {
     "base_uri": "https://localhost:8080/"
    },
    "id": "YIdzWwlswLb3",
    "outputId": "57f2dc02-fac0-4fd3-8268-6b5221b68fcd"
   },
   "outputs": [
    {
     "name": "stdout",
     "output_type": "stream",
     "text": [
      "[nltk_data] Downloading package wordnet to /root/nltk_data...\n",
      "[nltk_data]   Unzipping corpora/wordnet.zip.\n"
     ]
    },
    {
     "data": {
      "text/plain": [
       "True"
      ]
     },
     "execution_count": 5,
     "metadata": {
      "tags": []
     },
     "output_type": "execute_result"
    }
   ],
   "source": [
    "nltk.download('wordnet')"
   ]
  },
  {
   "cell_type": "code",
   "execution_count": 7,
   "metadata": {
    "id": "2PiAODIlv8AJ"
   },
   "outputs": [],
   "source": [
    "df = pd.read_csv('../../data/results/amazon_final.csv')"
   ]
  },
  {
   "cell_type": "code",
   "execution_count": 8,
   "metadata": {
    "id": "axLiZpPJwEM7"
   },
   "outputs": [],
   "source": [
    "# Only leave relevant entries for the task.\n",
    "amazon_multi = df[['REVIEW_TEXT', 'PREDICTION', 'VERACITY']].copy()"
   ]
  },
  {
   "cell_type": "code",
   "execution_count": 9,
   "metadata": {
    "id": "cl4Koq1vwFgd"
   },
   "outputs": [],
   "source": [
    "# Preprocess review texts.\n",
    "amazon_multi['REVIEW_TEXT'] = amazon_multi['REVIEW_TEXT'].apply(lambda x: clean_text(x))"
   ]
  },
  {
   "cell_type": "code",
   "execution_count": 10,
   "metadata": {
    "colab": {
     "base_uri": "https://localhost:8080/"
    },
    "id": "9zuBCktrwQjh",
    "outputId": "ab61f507-4d0e-4963-a004-d024cd6a9865"
   },
   "outputs": [
    {
     "name": "stdout",
     "output_type": "stream",
     "text": [
      "Number of unique words: 21766\n"
     ]
    }
   ],
   "source": [
    "# Get the number of unique words to choose proper vocabulary size.\n",
    "all_words = []\n",
    "for entry in amazon_multi['REVIEW_TEXT']:\n",
    "  all_words += entry.split()\n",
    "print('Number of unique words:', len(set(all_words)))"
   ]
  },
  {
   "cell_type": "code",
   "execution_count": 11,
   "metadata": {
    "id": "ppCsM-rowG0v"
   },
   "outputs": [],
   "source": [
    "vocabulary_size = 21000 \n",
    "tokenizer = Tokenizer(num_words=vocabulary_size)\n",
    "tokenizer.fit_on_texts(amazon_multi['REVIEW_TEXT'])\n",
    "sequences = tokenizer.texts_to_sequences(amazon_multi['REVIEW_TEXT'])"
   ]
  },
  {
   "cell_type": "code",
   "execution_count": 12,
   "metadata": {
    "id": "fXsH9_aZwOwn"
   },
   "outputs": [],
   "source": [
    "# Encode outputs.\n",
    "amazon_multi[\"PREDICTION\"].replace({\"joy\": 0, \"fear\": 1, 'neutral': 2, 'anger': 3, 'sadness': 4}, inplace=True)\n",
    "amazon_multi[\"VERACITY\"].replace({\"Fake\": 0, \"Real\": 1}, inplace=True)"
   ]
  },
  {
   "cell_type": "code",
   "execution_count": 13,
   "metadata": {
    "id": "cZ8RcYLawnPk"
   },
   "outputs": [],
   "source": [
    "# Define output columns.\n",
    "output_columns_all = ['PREDICTION', 'VERACITY']"
   ]
  },
  {
   "cell_type": "code",
   "execution_count": 14,
   "metadata": {
    "id": "5uarsZbcwofs"
   },
   "outputs": [],
   "source": [
    "# Pad sequences to the MAXLEN length.\n",
    "MAXLEN = 500\n",
    "X = pad_sequences(sequences, maxlen=MAXLEN)\n",
    "y = amazon_multi[output_columns_all]"
   ]
  },
  {
   "cell_type": "code",
   "execution_count": 45,
   "metadata": {
    "id": "Q3l4j5VowqZF"
   },
   "outputs": [],
   "source": [
    "# Leave 10% of data for test and split training test into training and validation subsets.\n",
    "X_train, X_test, y_train, y_test = train_test_split(X, y, test_size=0.1)\n",
    "X_train, X_dev, y_train, y_dev = train_test_split(X_train, y_train, test_size=0.1)"
   ]
  },
  {
   "cell_type": "code",
   "execution_count": 47,
   "metadata": {
    "id": "5WlMMf0XYmIH"
   },
   "outputs": [],
   "source": [
    "# Since data is highly imbalanced, define class weights.\n",
    "class_weights_categorical = class_weight.compute_class_weight('balanced',\n",
    "                                                 np.unique(y_train['PREDICTION']),\n",
    "                                                 y_train['PREDICTION'])\n",
    "class_weights_binary = class_weight.compute_class_weight('balanced',\n",
    "                                                 np.unique(y_train['VERACITY']),\n",
    "                                                 y_train['VERACITY'])\n",
    "classes_weights = {'VERACITY': class_weights_binary, 'PREDICTION': class_weights_categorical}"
   ]
  },
  {
   "cell_type": "code",
   "execution_count": 76,
   "metadata": {
    "id": "5GM42kgwxhev"
   },
   "outputs": [],
   "source": [
    "# Define model architecture.\n",
    "input = Input(shape=(MAXLEN,), name='input')\n",
    "x = Embedding(input_dim=vocabulary_size, output_dim=2, input_length=MAXLEN)(input)\n",
    "x = Dropout(0.3)(x)\n",
    "x = Conv1D(64 , 5, activation='relu')(x)\n",
    "x = MaxPooling1D(pool_size=4)(x)\n",
    "x = LSTM(100)(x) "
   ]
  },
  {
   "cell_type": "code",
   "execution_count": 77,
   "metadata": {
    "id": "UfRmhUsWxrnD"
   },
   "outputs": [],
   "source": [
    "# Store model outputs.\n",
    "output_array = [] \n",
    "metrics_array = {}\n",
    "loss_array = {}\n",
    "\n",
    "binary_output = Dense(1, activation='sigmoid', name='veracity_output')(x)\n",
    "output_array.append(binary_output)\n",
    "metrics_array['veracity_output'] = 'binary_accuracy'\n",
    "loss_array['veracity_output'] = 'binary_crossentropy'\n",
    "\n",
    "categorical_output = Dense(5, activation='softmax', name='categorical_output')(x)\n",
    "output_array.append(categorical_output)\n",
    "metrics_array['categorical_output'] = 'sparse_categorical_accuracy'\n",
    "loss_array['categorical_output'] = 'sparse_categorical_crossentropy'"
   ]
  },
  {
   "cell_type": "code",
   "execution_count": 79,
   "metadata": {
    "id": "yOeoAioPypi5"
   },
   "outputs": [],
   "source": [
    "model = Model(inputs=input, outputs=output_array)"
   ]
  },
  {
   "cell_type": "code",
   "execution_count": 80,
   "metadata": {
    "id": "FtjOyDPbyrLY"
   },
   "outputs": [],
   "source": [
    "model.compile(optimizer='adadelta',\n",
    "              loss=loss_array,\n",
    "              metrics = metrics_array)"
   ]
  },
  {
   "cell_type": "code",
   "execution_count": 81,
   "metadata": {
    "colab": {
     "base_uri": "https://localhost:8080/"
    },
    "id": "oTuxq_6Kyti5",
    "outputId": "cdd4f8dd-2c8a-4f7d-8c34-1ac3df117948"
   },
   "outputs": [
    {
     "name": "stdout",
     "output_type": "stream",
     "text": [
      "Model: \"model_5\"\n",
      "__________________________________________________________________________________________________\n",
      "Layer (type)                    Output Shape         Param #     Connected to                     \n",
      "==================================================================================================\n",
      "input (InputLayer)              (None, 500)          0                                            \n",
      "__________________________________________________________________________________________________\n",
      "embedding_5 (Embedding)         (None, 500, 2)       42000       input[0][0]                      \n",
      "__________________________________________________________________________________________________\n",
      "dropout_5 (Dropout)             (None, 500, 2)       0           embedding_5[0][0]                \n",
      "__________________________________________________________________________________________________\n",
      "conv1d_5 (Conv1D)               (None, 496, 64)      704         dropout_5[0][0]                  \n",
      "__________________________________________________________________________________________________\n",
      "max_pooling1d_5 (MaxPooling1D)  (None, 124, 64)      0           conv1d_5[0][0]                   \n",
      "__________________________________________________________________________________________________\n",
      "lstm_5 (LSTM)                   (None, 100)          66000       max_pooling1d_5[0][0]            \n",
      "__________________________________________________________________________________________________\n",
      "veracity_output (Dense)         (None, 1)            101         lstm_5[0][0]                     \n",
      "__________________________________________________________________________________________________\n",
      "categorical_output (Dense)      (None, 5)            505         lstm_5[0][0]                     \n",
      "==================================================================================================\n",
      "Total params: 109,310\n",
      "Trainable params: 109,310\n",
      "Non-trainable params: 0\n",
      "__________________________________________________________________________________________________\n",
      "None\n"
     ]
    }
   ],
   "source": [
    "print(model.summary())"
   ]
  },
  {
   "cell_type": "code",
   "execution_count": 82,
   "metadata": {
    "colab": {
     "base_uri": "https://localhost:8080/",
     "height": 661
    },
    "id": "o1k1bwQC1iaX",
    "outputId": "904bf28d-96c8-4a81-8e45-bcdc8a303251"
   },
   "outputs": [
    {
     "data": {
      "image/png": "[encoded data removed]",
      "text/plain": [
       "<IPython.core.display.Image object>"
      ]
     },
     "execution_count": 82,
     "metadata": {
      "tags": []
     },
     "output_type": "execute_result"
    }
   ],
   "source": [
    "plot_model(model, to_file='model_plot.png')"
   ]
  },
  {
   "cell_type": "code",
   "execution_count": 83,
   "metadata": {
    "id": "WrDlnrb-yvXh"
   },
   "outputs": [],
   "source": [
    "y_train_output = [y_train['VERACITY'], y_train['PREDICTION']]\n",
    "y_dev_output = [y_dev['VERACITY'], y_dev['PREDICTION']]"
   ]
  },
  {
   "cell_type": "code",
   "execution_count": 84,
   "metadata": {
    "id": "Ta8pAuWdzL5I"
   },
   "outputs": [],
   "source": [
    "early_stopping_monitor = EarlyStopping(\n",
    "    monitor='categorical_output_loss',\n",
    "    min_delta=0,\n",
    "    patience=3,\n",
    "    verbose=0,\n",
    "    mode='auto',\n",
    "    baseline=None,\n",
    "    restore_best_weights=True\n",
    ")\n"
   ]
  },
  {
   "cell_type": "code",
   "execution_count": 85,
   "metadata": {
    "colab": {
     "base_uri": "https://localhost:8080/"
    },
    "id": "KkZXE7wXy3aA",
    "outputId": "7a0da714-051c-4409-9b75-beebbda9cdcb"
   },
   "outputs": [
    {
     "name": "stderr",
     "output_type": "stream",
     "text": [
      "/usr/local/lib/python3.7/dist-packages/tensorflow_core/python/framework/indexed_slices.py:433: UserWarning: Converting sparse IndexedSlices to a dense Tensor of unknown shape. This may consume a large amount of memory.\n",
      "  \"Converting sparse IndexedSlices to a dense Tensor of unknown shape. \"\n"
     ]
    },
    {
     "name": "stdout",
     "output_type": "stream",
     "text": [
      "Train on 11327 samples, validate on 1259 samples\n",
      "Epoch 1/100\n",
      "11327/11327 [==============================] - 44s 4ms/step - loss: 1.9153 - veracity_output_loss: 0.6937 - categorical_output_loss: 1.2208 - veracity_output_binary_accuracy: 0.5130 - categorical_output_sparse_categorical_accuracy: 0.5681 - val_loss: 1.8192 - val_veracity_output_loss: 0.6907 - val_categorical_output_loss: 1.1275 - val_veracity_output_binary_accuracy: 0.5353 - val_categorical_output_sparse_categorical_accuracy: 0.5917\n",
      "Epoch 2/100\n",
      "11327/11327 [==============================] - 44s 4ms/step - loss: 1.8582 - veracity_output_loss: 0.6929 - categorical_output_loss: 1.1640 - veracity_output_binary_accuracy: 0.5157 - categorical_output_sparse_categorical_accuracy: 0.5742 - val_loss: 1.7779 - val_veracity_output_loss: 0.6896 - val_categorical_output_loss: 1.0872 - val_veracity_output_binary_accuracy: 0.5353 - val_categorical_output_sparse_categorical_accuracy: 0.5917\n",
      "Epoch 3/100\n",
      "11327/11327 [==============================] - 43s 4ms/step - loss: 1.7578 - veracity_output_loss: 0.6898 - categorical_output_loss: 1.0681 - veracity_output_binary_accuracy: 0.5345 - categorical_output_sparse_categorical_accuracy: 0.5972 - val_loss: 1.6669 - val_veracity_output_loss: 0.6946 - val_categorical_output_loss: 0.9707 - val_veracity_output_binary_accuracy: 0.5115 - val_categorical_output_sparse_categorical_accuracy: 0.6751\n",
      "Epoch 4/100\n",
      "11327/11327 [==============================] - 43s 4ms/step - loss: 1.6542 - veracity_output_loss: 0.6853 - categorical_output_loss: 0.9687 - veracity_output_binary_accuracy: 0.5424 - categorical_output_sparse_categorical_accuracy: 0.6474 - val_loss: 1.5333 - val_veracity_output_loss: 0.6789 - val_categorical_output_loss: 0.8531 - val_veracity_output_binary_accuracy: 0.5624 - val_categorical_output_sparse_categorical_accuracy: 0.7093\n",
      "Epoch 5/100\n",
      "11327/11327 [==============================] - 43s 4ms/step - loss: 1.5893 - veracity_output_loss: 0.6843 - categorical_output_loss: 0.9049 - veracity_output_binary_accuracy: 0.5502 - categorical_output_sparse_categorical_accuracy: 0.6743 - val_loss: 1.5351 - val_veracity_output_loss: 0.6835 - val_categorical_output_loss: 0.8507 - val_veracity_output_binary_accuracy: 0.5496 - val_categorical_output_sparse_categorical_accuracy: 0.7093\n",
      "Epoch 6/100\n",
      "11327/11327 [==============================] - 44s 4ms/step - loss: 1.5704 - veracity_output_loss: 0.6842 - categorical_output_loss: 0.8852 - veracity_output_binary_accuracy: 0.5481 - categorical_output_sparse_categorical_accuracy: 0.6830 - val_loss: 1.4841 - val_veracity_output_loss: 0.6774 - val_categorical_output_loss: 0.8056 - val_veracity_output_binary_accuracy: 0.5687 - val_categorical_output_sparse_categorical_accuracy: 0.7196\n",
      "Epoch 7/100\n",
      "11327/11327 [==============================] - 43s 4ms/step - loss: 1.5160 - veracity_output_loss: 0.6804 - categorical_output_loss: 0.8358 - veracity_output_binary_accuracy: 0.5566 - categorical_output_sparse_categorical_accuracy: 0.6979 - val_loss: 1.4549 - val_veracity_output_loss: 0.6760 - val_categorical_output_loss: 0.7781 - val_veracity_output_binary_accuracy: 0.5655 - val_categorical_output_sparse_categorical_accuracy: 0.7252\n",
      "Epoch 8/100\n",
      "11327/11327 [==============================] - 44s 4ms/step - loss: 1.4941 - veracity_output_loss: 0.6792 - categorical_output_loss: 0.8148 - veracity_output_binary_accuracy: 0.5549 - categorical_output_sparse_categorical_accuracy: 0.7038 - val_loss: 1.4494 - val_veracity_output_loss: 0.6752 - val_categorical_output_loss: 0.7734 - val_veracity_output_binary_accuracy: 0.5766 - val_categorical_output_sparse_categorical_accuracy: 0.7276\n",
      "Epoch 9/100\n",
      "11327/11327 [==============================] - 44s 4ms/step - loss: 1.4798 - veracity_output_loss: 0.6770 - categorical_output_loss: 0.8032 - veracity_output_binary_accuracy: 0.5605 - categorical_output_sparse_categorical_accuracy: 0.7095 - val_loss: 1.4584 - val_veracity_output_loss: 0.6770 - val_categorical_output_loss: 0.7806 - val_veracity_output_binary_accuracy: 0.5592 - val_categorical_output_sparse_categorical_accuracy: 0.7212\n",
      "Epoch 10/100\n",
      "11327/11327 [==============================] - 44s 4ms/step - loss: 1.4587 - veracity_output_loss: 0.6750 - categorical_output_loss: 0.7848 - veracity_output_binary_accuracy: 0.5603 - categorical_output_sparse_categorical_accuracy: 0.7207 - val_loss: 1.4672 - val_veracity_output_loss: 0.6719 - val_categorical_output_loss: 0.7940 - val_veracity_output_binary_accuracy: 0.5878 - val_categorical_output_sparse_categorical_accuracy: 0.7125\n",
      "Epoch 11/100\n",
      "11327/11327 [==============================] - 44s 4ms/step - loss: 1.4469 - veracity_output_loss: 0.6745 - categorical_output_loss: 0.7734 - veracity_output_binary_accuracy: 0.5625 - categorical_output_sparse_categorical_accuracy: 0.7239 - val_loss: 1.4441 - val_veracity_output_loss: 0.6761 - val_categorical_output_loss: 0.7671 - val_veracity_output_binary_accuracy: 0.5639 - val_categorical_output_sparse_categorical_accuracy: 0.7141\n",
      "Epoch 12/100\n",
      "11327/11327 [==============================] - 44s 4ms/step - loss: 1.4262 - veracity_output_loss: 0.6728 - categorical_output_loss: 0.7537 - veracity_output_binary_accuracy: 0.5720 - categorical_output_sparse_categorical_accuracy: 0.7321 - val_loss: 1.4143 - val_veracity_output_loss: 0.6718 - val_categorical_output_loss: 0.7417 - val_veracity_output_binary_accuracy: 0.5814 - val_categorical_output_sparse_categorical_accuracy: 0.7299\n",
      "Epoch 13/100\n",
      "11327/11327 [==============================] - 44s 4ms/step - loss: 1.4115 - veracity_output_loss: 0.6706 - categorical_output_loss: 0.7406 - veracity_output_binary_accuracy: 0.5778 - categorical_output_sparse_categorical_accuracy: 0.7374 - val_loss: 1.4075 - val_veracity_output_loss: 0.6705 - val_categorical_output_loss: 0.7362 - val_veracity_output_binary_accuracy: 0.5735 - val_categorical_output_sparse_categorical_accuracy: 0.7355\n",
      "Epoch 14/100\n",
      "11327/11327 [==============================] - 44s 4ms/step - loss: 1.3886 - veracity_output_loss: 0.6708 - categorical_output_loss: 0.7182 - veracity_output_binary_accuracy: 0.5770 - categorical_output_sparse_categorical_accuracy: 0.7442 - val_loss: 1.4406 - val_veracity_output_loss: 0.6706 - val_categorical_output_loss: 0.7692 - val_veracity_output_binary_accuracy: 0.5711 - val_categorical_output_sparse_categorical_accuracy: 0.7228\n",
      "Epoch 15/100\n",
      "11327/11327 [==============================] - 44s 4ms/step - loss: 1.3891 - veracity_output_loss: 0.6684 - categorical_output_loss: 0.7201 - veracity_output_binary_accuracy: 0.5841 - categorical_output_sparse_categorical_accuracy: 0.7421 - val_loss: 1.4073 - val_veracity_output_loss: 0.6752 - val_categorical_output_loss: 0.7312 - val_veracity_output_binary_accuracy: 0.5711 - val_categorical_output_sparse_categorical_accuracy: 0.7252\n",
      "Epoch 16/100\n",
      "11327/11327 [==============================] - 44s 4ms/step - loss: 1.3649 - veracity_output_loss: 0.6668 - categorical_output_loss: 0.6990 - veracity_output_binary_accuracy: 0.5879 - categorical_output_sparse_categorical_accuracy: 0.7521 - val_loss: 1.4547 - val_veracity_output_loss: 0.6819 - val_categorical_output_loss: 0.7721 - val_veracity_output_binary_accuracy: 0.5798 - val_categorical_output_sparse_categorical_accuracy: 0.7355\n",
      "Epoch 17/100\n",
      "11327/11327 [==============================] - 44s 4ms/step - loss: 1.3582 - veracity_output_loss: 0.6659 - categorical_output_loss: 0.6925 - veracity_output_binary_accuracy: 0.5911 - categorical_output_sparse_categorical_accuracy: 0.7506 - val_loss: 1.3943 - val_veracity_output_loss: 0.6708 - val_categorical_output_loss: 0.7227 - val_veracity_output_binary_accuracy: 0.5989 - val_categorical_output_sparse_categorical_accuracy: 0.7299\n",
      "Epoch 18/100\n",
      "11327/11327 [==============================] - 44s 4ms/step - loss: 1.3449 - veracity_output_loss: 0.6655 - categorical_output_loss: 0.6784 - veracity_output_binary_accuracy: 0.5932 - categorical_output_sparse_categorical_accuracy: 0.7584 - val_loss: 1.4392 - val_veracity_output_loss: 0.6727 - val_categorical_output_loss: 0.7656 - val_veracity_output_binary_accuracy: 0.5854 - val_categorical_output_sparse_categorical_accuracy: 0.7236\n",
      "Epoch 19/100\n",
      "11327/11327 [==============================] - 45s 4ms/step - loss: 1.3269 - veracity_output_loss: 0.6655 - categorical_output_loss: 0.6619 - veracity_output_binary_accuracy: 0.5923 - categorical_output_sparse_categorical_accuracy: 0.7664 - val_loss: 1.4105 - val_veracity_output_loss: 0.6717 - val_categorical_output_loss: 0.7379 - val_veracity_output_binary_accuracy: 0.5902 - val_categorical_output_sparse_categorical_accuracy: 0.7427\n",
      "Epoch 20/100\n",
      "11327/11327 [==============================] - 44s 4ms/step - loss: 1.3199 - veracity_output_loss: 0.6623 - categorical_output_loss: 0.6569 - veracity_output_binary_accuracy: 0.5932 - categorical_output_sparse_categorical_accuracy: 0.7673 - val_loss: 1.4360 - val_veracity_output_loss: 0.6675 - val_categorical_output_loss: 0.7672 - val_veracity_output_binary_accuracy: 0.5854 - val_categorical_output_sparse_categorical_accuracy: 0.7331\n",
      "Epoch 21/100\n",
      "11327/11327 [==============================] - 44s 4ms/step - loss: 1.3035 - veracity_output_loss: 0.6583 - categorical_output_loss: 0.6449 - veracity_output_binary_accuracy: 0.6071 - categorical_output_sparse_categorical_accuracy: 0.7762 - val_loss: 1.4000 - val_veracity_output_loss: 0.6665 - val_categorical_output_loss: 0.7325 - val_veracity_output_binary_accuracy: 0.5870 - val_categorical_output_sparse_categorical_accuracy: 0.7323\n",
      "Epoch 22/100\n",
      "11327/11327 [==============================] - 44s 4ms/step - loss: 1.3010 - veracity_output_loss: 0.6574 - categorical_output_loss: 0.6436 - veracity_output_binary_accuracy: 0.6094 - categorical_output_sparse_categorical_accuracy: 0.7698 - val_loss: 1.3859 - val_veracity_output_loss: 0.6644 - val_categorical_output_loss: 0.7204 - val_veracity_output_binary_accuracy: 0.5949 - val_categorical_output_sparse_categorical_accuracy: 0.7450\n",
      "Epoch 23/100\n",
      "11327/11327 [==============================] - 44s 4ms/step - loss: 1.2917 - veracity_output_loss: 0.6555 - categorical_output_loss: 0.6372 - veracity_output_binary_accuracy: 0.6100 - categorical_output_sparse_categorical_accuracy: 0.7801 - val_loss: 1.4311 - val_veracity_output_loss: 0.6658 - val_categorical_output_loss: 0.7645 - val_veracity_output_binary_accuracy: 0.5933 - val_categorical_output_sparse_categorical_accuracy: 0.7252\n",
      "Epoch 24/100\n",
      "11327/11327 [==============================] - 44s 4ms/step - loss: 1.2812 - veracity_output_loss: 0.6540 - categorical_output_loss: 0.6268 - veracity_output_binary_accuracy: 0.6120 - categorical_output_sparse_categorical_accuracy: 0.7796 - val_loss: 1.3890 - val_veracity_output_loss: 0.6633 - val_categorical_output_loss: 0.7243 - val_veracity_output_binary_accuracy: 0.5997 - val_categorical_output_sparse_categorical_accuracy: 0.7379\n",
      "Epoch 25/100\n",
      "11327/11327 [==============================] - 44s 4ms/step - loss: 1.2688 - veracity_output_loss: 0.6530 - categorical_output_loss: 0.6158 - veracity_output_binary_accuracy: 0.6113 - categorical_output_sparse_categorical_accuracy: 0.7837 - val_loss: 1.4305 - val_veracity_output_loss: 0.6692 - val_categorical_output_loss: 0.7604 - val_veracity_output_binary_accuracy: 0.5997 - val_categorical_output_sparse_categorical_accuracy: 0.7188\n",
      "Epoch 26/100\n",
      "11327/11327 [==============================] - 44s 4ms/step - loss: 1.2568 - veracity_output_loss: 0.6504 - categorical_output_loss: 0.6057 - veracity_output_binary_accuracy: 0.6146 - categorical_output_sparse_categorical_accuracy: 0.7849 - val_loss: 1.4310 - val_veracity_output_loss: 0.6714 - val_categorical_output_loss: 0.7589 - val_veracity_output_binary_accuracy: 0.5925 - val_categorical_output_sparse_categorical_accuracy: 0.7180\n",
      "Epoch 27/100\n",
      "11327/11327 [==============================] - 44s 4ms/step - loss: 1.2453 - veracity_output_loss: 0.6470 - categorical_output_loss: 0.5973 - veracity_output_binary_accuracy: 0.6221 - categorical_output_sparse_categorical_accuracy: 0.7926 - val_loss: 1.3908 - val_veracity_output_loss: 0.6599 - val_categorical_output_loss: 0.7295 - val_veracity_output_binary_accuracy: 0.5925 - val_categorical_output_sparse_categorical_accuracy: 0.7450\n",
      "Epoch 28/100\n",
      "11327/11327 [==============================] - 44s 4ms/step - loss: 1.2343 - veracity_output_loss: 0.6444 - categorical_output_loss: 0.5895 - veracity_output_binary_accuracy: 0.6263 - categorical_output_sparse_categorical_accuracy: 0.7941 - val_loss: 1.4049 - val_veracity_output_loss: 0.6789 - val_categorical_output_loss: 0.7243 - val_veracity_output_binary_accuracy: 0.5870 - val_categorical_output_sparse_categorical_accuracy: 0.7427\n",
      "Epoch 29/100\n",
      "11327/11327 [==============================] - 44s 4ms/step - loss: 1.2348 - veracity_output_loss: 0.6435 - categorical_output_loss: 0.5921 - veracity_output_binary_accuracy: 0.6262 - categorical_output_sparse_categorical_accuracy: 0.7899 - val_loss: 1.4084 - val_veracity_output_loss: 0.6688 - val_categorical_output_loss: 0.7383 - val_veracity_output_binary_accuracy: 0.6037 - val_categorical_output_sparse_categorical_accuracy: 0.7339\n",
      "Epoch 30/100\n",
      "11327/11327 [==============================] - 44s 4ms/step - loss: 1.2319 - veracity_output_loss: 0.6424 - categorical_output_loss: 0.5887 - veracity_output_binary_accuracy: 0.6258 - categorical_output_sparse_categorical_accuracy: 0.7921 - val_loss: 1.4047 - val_veracity_output_loss: 0.6617 - val_categorical_output_loss: 0.7413 - val_veracity_output_binary_accuracy: 0.5973 - val_categorical_output_sparse_categorical_accuracy: 0.7466\n",
      "Epoch 31/100\n",
      "11327/11327 [==============================] - 44s 4ms/step - loss: 1.2164 - veracity_output_loss: 0.6397 - categorical_output_loss: 0.5774 - veracity_output_binary_accuracy: 0.6275 - categorical_output_sparse_categorical_accuracy: 0.7969 - val_loss: 1.3977 - val_veracity_output_loss: 0.6584 - val_categorical_output_loss: 0.7381 - val_veracity_output_binary_accuracy: 0.6068 - val_categorical_output_sparse_categorical_accuracy: 0.7355\n",
      "Epoch 32/100\n",
      "11327/11327 [==============================] - 44s 4ms/step - loss: 1.2102 - veracity_output_loss: 0.6350 - categorical_output_loss: 0.5738 - veracity_output_binary_accuracy: 0.6347 - categorical_output_sparse_categorical_accuracy: 0.7952 - val_loss: 1.3764 - val_veracity_output_loss: 0.6533 - val_categorical_output_loss: 0.7217 - val_veracity_output_binary_accuracy: 0.6084 - val_categorical_output_sparse_categorical_accuracy: 0.7538\n",
      "Epoch 33/100\n",
      "11327/11327 [==============================] - 43s 4ms/step - loss: 1.1998 - veracity_output_loss: 0.6316 - categorical_output_loss: 0.5691 - veracity_output_binary_accuracy: 0.6429 - categorical_output_sparse_categorical_accuracy: 0.8001 - val_loss: 1.3857 - val_veracity_output_loss: 0.6560 - val_categorical_output_loss: 0.7286 - val_veracity_output_binary_accuracy: 0.6021 - val_categorical_output_sparse_categorical_accuracy: 0.7292\n",
      "Epoch 34/100\n",
      "11327/11327 [==============================] - 44s 4ms/step - loss: 1.1910 - veracity_output_loss: 0.6281 - categorical_output_loss: 0.5632 - veracity_output_binary_accuracy: 0.6383 - categorical_output_sparse_categorical_accuracy: 0.7992 - val_loss: 1.5435 - val_veracity_output_loss: 0.6772 - val_categorical_output_loss: 0.8645 - val_veracity_output_binary_accuracy: 0.5830 - val_categorical_output_sparse_categorical_accuracy: 0.7085\n",
      "Epoch 35/100\n",
      "11327/11327 [==============================] - 44s 4ms/step - loss: 1.1813 - veracity_output_loss: 0.6269 - categorical_output_loss: 0.5544 - veracity_output_binary_accuracy: 0.6437 - categorical_output_sparse_categorical_accuracy: 0.8010 - val_loss: 1.3936 - val_veracity_output_loss: 0.6587 - val_categorical_output_loss: 0.7334 - val_veracity_output_binary_accuracy: 0.6052 - val_categorical_output_sparse_categorical_accuracy: 0.7387\n",
      "Epoch 36/100\n",
      "11327/11327 [==============================] - 44s 4ms/step - loss: 1.1676 - veracity_output_loss: 0.6208 - categorical_output_loss: 0.5471 - veracity_output_binary_accuracy: 0.6478 - categorical_output_sparse_categorical_accuracy: 0.8069 - val_loss: 1.3856 - val_veracity_output_loss: 0.6555 - val_categorical_output_loss: 0.7287 - val_veracity_output_binary_accuracy: 0.6044 - val_categorical_output_sparse_categorical_accuracy: 0.7379\n",
      "Epoch 37/100\n",
      "11327/11327 [==============================] - 44s 4ms/step - loss: 1.1591 - veracity_output_loss: 0.6173 - categorical_output_loss: 0.5406 - veracity_output_binary_accuracy: 0.6518 - categorical_output_sparse_categorical_accuracy: 0.8060 - val_loss: 1.3816 - val_veracity_output_loss: 0.6515 - val_categorical_output_loss: 0.7285 - val_veracity_output_binary_accuracy: 0.6116 - val_categorical_output_sparse_categorical_accuracy: 0.7403\n",
      "Epoch 38/100\n",
      "11327/11327 [==============================] - 44s 4ms/step - loss: 1.1508 - veracity_output_loss: 0.6094 - categorical_output_loss: 0.5421 - veracity_output_binary_accuracy: 0.6583 - categorical_output_sparse_categorical_accuracy: 0.8088 - val_loss: 1.3842 - val_veracity_output_loss: 0.6498 - val_categorical_output_loss: 0.7331 - val_veracity_output_binary_accuracy: 0.6100 - val_categorical_output_sparse_categorical_accuracy: 0.7323\n",
      "Epoch 39/100\n",
      "11327/11327 [==============================] - 45s 4ms/step - loss: 1.1478 - veracity_output_loss: 0.6102 - categorical_output_loss: 0.5377 - veracity_output_binary_accuracy: 0.6588 - categorical_output_sparse_categorical_accuracy: 0.8074 - val_loss: 1.4096 - val_veracity_output_loss: 0.6570 - val_categorical_output_loss: 0.7506 - val_veracity_output_binary_accuracy: 0.6076 - val_categorical_output_sparse_categorical_accuracy: 0.7419\n",
      "Epoch 40/100\n",
      "11327/11327 [==============================] - 44s 4ms/step - loss: 1.1350 - veracity_output_loss: 0.6034 - categorical_output_loss: 0.5312 - veracity_output_binary_accuracy: 0.6649 - categorical_output_sparse_categorical_accuracy: 0.8066 - val_loss: 1.4221 - val_veracity_output_loss: 0.6578 - val_categorical_output_loss: 0.7628 - val_veracity_output_binary_accuracy: 0.6076 - val_categorical_output_sparse_categorical_accuracy: 0.7220\n",
      "Epoch 41/100\n",
      "11327/11327 [==============================] - 44s 4ms/step - loss: 1.1294 - veracity_output_loss: 0.5961 - categorical_output_loss: 0.5343 - veracity_output_binary_accuracy: 0.6724 - categorical_output_sparse_categorical_accuracy: 0.8034 - val_loss: 1.3908 - val_veracity_output_loss: 0.6578 - val_categorical_output_loss: 0.7315 - val_veracity_output_binary_accuracy: 0.6084 - val_categorical_output_sparse_categorical_accuracy: 0.7363\n",
      "Epoch 42/100\n",
      "11327/11327 [==============================] - 44s 4ms/step - loss: 1.1078 - veracity_output_loss: 0.5914 - categorical_output_loss: 0.5162 - veracity_output_binary_accuracy: 0.6789 - categorical_output_sparse_categorical_accuracy: 0.8135 - val_loss: 1.3973 - val_veracity_output_loss: 0.6496 - val_categorical_output_loss: 0.7461 - val_veracity_output_binary_accuracy: 0.6132 - val_categorical_output_sparse_categorical_accuracy: 0.7268\n",
      "Epoch 43/100\n",
      "11327/11327 [==============================] - 44s 4ms/step - loss: 1.1167 - veracity_output_loss: 0.5914 - categorical_output_loss: 0.5257 - veracity_output_binary_accuracy: 0.6774 - categorical_output_sparse_categorical_accuracy: 0.8112 - val_loss: 1.3937 - val_veracity_output_loss: 0.6507 - val_categorical_output_loss: 0.7414 - val_veracity_output_binary_accuracy: 0.6156 - val_categorical_output_sparse_categorical_accuracy: 0.7355\n",
      "Epoch 44/100\n",
      "11327/11327 [==============================] - 44s 4ms/step - loss: 1.1023 - veracity_output_loss: 0.5830 - categorical_output_loss: 0.5200 - veracity_output_binary_accuracy: 0.6864 - categorical_output_sparse_categorical_accuracy: 0.8120 - val_loss: 1.4318 - val_veracity_output_loss: 0.6570 - val_categorical_output_loss: 0.7733 - val_veracity_output_binary_accuracy: 0.6140 - val_categorical_output_sparse_categorical_accuracy: 0.7244\n",
      "Epoch 45/100\n",
      "11327/11327 [==============================] - 44s 4ms/step - loss: 1.0843 - veracity_output_loss: 0.5795 - categorical_output_loss: 0.5046 - veracity_output_binary_accuracy: 0.6869 - categorical_output_sparse_categorical_accuracy: 0.8224 - val_loss: 1.4075 - val_veracity_output_loss: 0.6589 - val_categorical_output_loss: 0.7473 - val_veracity_output_binary_accuracy: 0.6187 - val_categorical_output_sparse_categorical_accuracy: 0.7323\n",
      "Epoch 46/100\n",
      "11327/11327 [==============================] - 44s 4ms/step - loss: 1.0841 - veracity_output_loss: 0.5741 - categorical_output_loss: 0.5088 - veracity_output_binary_accuracy: 0.6888 - categorical_output_sparse_categorical_accuracy: 0.8155 - val_loss: 1.4386 - val_veracity_output_loss: 0.6712 - val_categorical_output_loss: 0.7659 - val_veracity_output_binary_accuracy: 0.6108 - val_categorical_output_sparse_categorical_accuracy: 0.7188\n",
      "Epoch 47/100\n",
      "11327/11327 [==============================] - 44s 4ms/step - loss: 1.0717 - veracity_output_loss: 0.5715 - categorical_output_loss: 0.5002 - veracity_output_binary_accuracy: 0.6921 - categorical_output_sparse_categorical_accuracy: 0.8212 - val_loss: 1.4503 - val_veracity_output_loss: 0.6585 - val_categorical_output_loss: 0.7901 - val_veracity_output_binary_accuracy: 0.6156 - val_categorical_output_sparse_categorical_accuracy: 0.7212\n",
      "Epoch 48/100\n",
      "11327/11327 [==============================] - 44s 4ms/step - loss: 1.0596 - veracity_output_loss: 0.5623 - categorical_output_loss: 0.4967 - veracity_output_binary_accuracy: 0.6941 - categorical_output_sparse_categorical_accuracy: 0.8263 - val_loss: 1.4567 - val_veracity_output_loss: 0.6705 - val_categorical_output_loss: 0.7842 - val_veracity_output_binary_accuracy: 0.6076 - val_categorical_output_sparse_categorical_accuracy: 0.7307\n",
      "Epoch 49/100\n",
      "11327/11327 [==============================] - 44s 4ms/step - loss: 1.0499 - veracity_output_loss: 0.5583 - categorical_output_loss: 0.4920 - veracity_output_binary_accuracy: 0.7077 - categorical_output_sparse_categorical_accuracy: 0.8264 - val_loss: 1.4970 - val_veracity_output_loss: 0.6701 - val_categorical_output_loss: 0.8247 - val_veracity_output_binary_accuracy: 0.6180 - val_categorical_output_sparse_categorical_accuracy: 0.7077\n",
      "Epoch 50/100\n",
      "11327/11327 [==============================] - 44s 4ms/step - loss: 1.0504 - veracity_output_loss: 0.5573 - categorical_output_loss: 0.4937 - veracity_output_binary_accuracy: 0.7035 - categorical_output_sparse_categorical_accuracy: 0.8241 - val_loss: 1.4578 - val_veracity_output_loss: 0.6642 - val_categorical_output_loss: 0.7921 - val_veracity_output_binary_accuracy: 0.6037 - val_categorical_output_sparse_categorical_accuracy: 0.7133\n",
      "Epoch 51/100\n",
      "11327/11327 [==============================] - 44s 4ms/step - loss: 1.0381 - veracity_output_loss: 0.5531 - categorical_output_loss: 0.4832 - veracity_output_binary_accuracy: 0.7108 - categorical_output_sparse_categorical_accuracy: 0.8298 - val_loss: 1.4658 - val_veracity_output_loss: 0.6793 - val_categorical_output_loss: 0.7843 - val_veracity_output_binary_accuracy: 0.6029 - val_categorical_output_sparse_categorical_accuracy: 0.7236\n",
      "Epoch 52/100\n",
      "11327/11327 [==============================] - 44s 4ms/step - loss: 1.0384 - veracity_output_loss: 0.5464 - categorical_output_loss: 0.4918 - veracity_output_binary_accuracy: 0.7123 - categorical_output_sparse_categorical_accuracy: 0.8268 - val_loss: 1.4704 - val_veracity_output_loss: 0.6844 - val_categorical_output_loss: 0.7836 - val_veracity_output_binary_accuracy: 0.5997 - val_categorical_output_sparse_categorical_accuracy: 0.7212\n",
      "Epoch 53/100\n",
      "11327/11327 [==============================] - 44s 4ms/step - loss: 1.0258 - veracity_output_loss: 0.5369 - categorical_output_loss: 0.4878 - veracity_output_binary_accuracy: 0.7216 - categorical_output_sparse_categorical_accuracy: 0.8263 - val_loss: 1.4713 - val_veracity_output_loss: 0.6770 - val_categorical_output_loss: 0.7922 - val_veracity_output_binary_accuracy: 0.6021 - val_categorical_output_sparse_categorical_accuracy: 0.7236\n",
      "Epoch 54/100\n",
      "11327/11327 [==============================] - 44s 4ms/step - loss: 1.0125 - veracity_output_loss: 0.5337 - categorical_output_loss: 0.4786 - veracity_output_binary_accuracy: 0.7213 - categorical_output_sparse_categorical_accuracy: 0.8315 - val_loss: 1.4737 - val_veracity_output_loss: 0.6844 - val_categorical_output_loss: 0.7871 - val_veracity_output_binary_accuracy: 0.6108 - val_categorical_output_sparse_categorical_accuracy: 0.7212\n",
      "Epoch 55/100\n",
      "11327/11327 [==============================] - 44s 4ms/step - loss: 1.0027 - veracity_output_loss: 0.5277 - categorical_output_loss: 0.4742 - veracity_output_binary_accuracy: 0.7245 - categorical_output_sparse_categorical_accuracy: 0.8330 - val_loss: 1.5852 - val_veracity_output_loss: 0.6819 - val_categorical_output_loss: 0.9012 - val_veracity_output_binary_accuracy: 0.6068 - val_categorical_output_sparse_categorical_accuracy: 0.6871\n",
      "Epoch 56/100\n",
      "11327/11327 [==============================] - 44s 4ms/step - loss: 1.0016 - veracity_output_loss: 0.5245 - categorical_output_loss: 0.4767 - veracity_output_binary_accuracy: 0.7328 - categorical_output_sparse_categorical_accuracy: 0.8331 - val_loss: 1.4616 - val_veracity_output_loss: 0.6858 - val_categorical_output_loss: 0.7740 - val_veracity_output_binary_accuracy: 0.6211 - val_categorical_output_sparse_categorical_accuracy: 0.7276\n",
      "Epoch 57/100\n",
      "11327/11327 [==============================] - 44s 4ms/step - loss: 0.9969 - veracity_output_loss: 0.5189 - categorical_output_loss: 0.4784 - veracity_output_binary_accuracy: 0.7352 - categorical_output_sparse_categorical_accuracy: 0.8343 - val_loss: 1.5096 - val_veracity_output_loss: 0.6825 - val_categorical_output_loss: 0.8250 - val_veracity_output_binary_accuracy: 0.6100 - val_categorical_output_sparse_categorical_accuracy: 0.7093\n",
      "Epoch 58/100\n",
      "11327/11327 [==============================] - 44s 4ms/step - loss: 0.9850 - veracity_output_loss: 0.5207 - categorical_output_loss: 0.4644 - veracity_output_binary_accuracy: 0.7285 - categorical_output_sparse_categorical_accuracy: 0.8334 - val_loss: 1.4849 - val_veracity_output_loss: 0.6803 - val_categorical_output_loss: 0.8023 - val_veracity_output_binary_accuracy: 0.6164 - val_categorical_output_sparse_categorical_accuracy: 0.7252\n",
      "Epoch 59/100\n",
      "11327/11327 [==============================] - 44s 4ms/step - loss: 0.9842 - veracity_output_loss: 0.5135 - categorical_output_loss: 0.4703 - veracity_output_binary_accuracy: 0.7377 - categorical_output_sparse_categorical_accuracy: 0.8303 - val_loss: 1.5374 - val_veracity_output_loss: 0.7149 - val_categorical_output_loss: 0.8202 - val_veracity_output_binary_accuracy: 0.5957 - val_categorical_output_sparse_categorical_accuracy: 0.7109\n",
      "Epoch 60/100\n",
      "11327/11327 [==============================] - 44s 4ms/step - loss: 0.9744 - veracity_output_loss: 0.5076 - categorical_output_loss: 0.4674 - veracity_output_binary_accuracy: 0.7489 - categorical_output_sparse_categorical_accuracy: 0.8399 - val_loss: 1.5374 - val_veracity_output_loss: 0.6937 - val_categorical_output_loss: 0.8417 - val_veracity_output_binary_accuracy: 0.5997 - val_categorical_output_sparse_categorical_accuracy: 0.7045\n",
      "Epoch 61/100\n",
      "11327/11327 [==============================] - 44s 4ms/step - loss: 0.9716 - veracity_output_loss: 0.5110 - categorical_output_loss: 0.4600 - veracity_output_binary_accuracy: 0.7377 - categorical_output_sparse_categorical_accuracy: 0.8362 - val_loss: 1.4927 - val_veracity_output_loss: 0.6828 - val_categorical_output_loss: 0.8074 - val_veracity_output_binary_accuracy: 0.6092 - val_categorical_output_sparse_categorical_accuracy: 0.7292\n",
      "Epoch 62/100\n",
      "11327/11327 [==============================] - 44s 4ms/step - loss: 0.9612 - veracity_output_loss: 0.5026 - categorical_output_loss: 0.4581 - veracity_output_binary_accuracy: 0.7466 - categorical_output_sparse_categorical_accuracy: 0.8382 - val_loss: 1.4882 - val_veracity_output_loss: 0.6823 - val_categorical_output_loss: 0.8039 - val_veracity_output_binary_accuracy: 0.6172 - val_categorical_output_sparse_categorical_accuracy: 0.7141\n",
      "Epoch 63/100\n",
      "11327/11327 [==============================] - 43s 4ms/step - loss: 0.9522 - veracity_output_loss: 0.4990 - categorical_output_loss: 0.4530 - veracity_output_binary_accuracy: 0.7487 - categorical_output_sparse_categorical_accuracy: 0.8419 - val_loss: 1.5499 - val_veracity_output_loss: 0.6894 - val_categorical_output_loss: 0.8583 - val_veracity_output_binary_accuracy: 0.6005 - val_categorical_output_sparse_categorical_accuracy: 0.6998\n",
      "Epoch 64/100\n",
      "11327/11327 [==============================] - 44s 4ms/step - loss: 0.9537 - veracity_output_loss: 0.4924 - categorical_output_loss: 0.4621 - veracity_output_binary_accuracy: 0.7537 - categorical_output_sparse_categorical_accuracy: 0.8348 - val_loss: 1.5230 - val_veracity_output_loss: 0.7248 - val_categorical_output_loss: 0.7957 - val_veracity_output_binary_accuracy: 0.6029 - val_categorical_output_sparse_categorical_accuracy: 0.7339\n",
      "Epoch 65/100\n",
      "11327/11327 [==============================] - 44s 4ms/step - loss: 0.9435 - veracity_output_loss: 0.4922 - categorical_output_loss: 0.4512 - veracity_output_binary_accuracy: 0.7518 - categorical_output_sparse_categorical_accuracy: 0.8414 - val_loss: 1.5352 - val_veracity_output_loss: 0.6927 - val_categorical_output_loss: 0.8403 - val_veracity_output_binary_accuracy: 0.6148 - val_categorical_output_sparse_categorical_accuracy: 0.7085\n",
      "Epoch 66/100\n",
      "11327/11327 [==============================] - 44s 4ms/step - loss: 0.9514 - veracity_output_loss: 0.4897 - categorical_output_loss: 0.4614 - veracity_output_binary_accuracy: 0.7563 - categorical_output_sparse_categorical_accuracy: 0.8382 - val_loss: 1.5584 - val_veracity_output_loss: 0.6976 - val_categorical_output_loss: 0.8586 - val_veracity_output_binary_accuracy: 0.6060 - val_categorical_output_sparse_categorical_accuracy: 0.6982\n",
      "Epoch 67/100\n",
      "11327/11327 [==============================] - 44s 4ms/step - loss: 0.9416 - veracity_output_loss: 0.4841 - categorical_output_loss: 0.4574 - veracity_output_binary_accuracy: 0.7551 - categorical_output_sparse_categorical_accuracy: 0.8402 - val_loss: 1.5118 - val_veracity_output_loss: 0.7041 - val_categorical_output_loss: 0.8055 - val_veracity_output_binary_accuracy: 0.6060 - val_categorical_output_sparse_categorical_accuracy: 0.7292\n",
      "Epoch 68/100\n",
      "11327/11327 [==============================] - 44s 4ms/step - loss: 0.9368 - veracity_output_loss: 0.4806 - categorical_output_loss: 0.4555 - veracity_output_binary_accuracy: 0.7587 - categorical_output_sparse_categorical_accuracy: 0.8379 - val_loss: 1.5815 - val_veracity_output_loss: 0.7243 - val_categorical_output_loss: 0.8547 - val_veracity_output_binary_accuracy: 0.6013 - val_categorical_output_sparse_categorical_accuracy: 0.7053\n"
     ]
    },
    {
     "data": {
      "text/plain": [
       "<keras.callbacks.callbacks.History at 0x7fb534fc9090>"
      ]
     },
     "execution_count": 85,
     "metadata": {
      "tags": []
     },
     "output_type": "execute_result"
    }
   ],
   "source": [
    "model.fit(X_train, y_train_output,\n",
    "          epochs=100, \n",
    "          batch_size=128,\n",
    "          class_weight=classes_weights, \n",
    "          verbose=1, \n",
    "          validation_data=(X_dev,y_dev_output),\n",
    "          callbacks=[early_stopping_monitor])"
   ]
  },
  {
   "cell_type": "code",
   "execution_count": 86,
   "metadata": {
    "colab": {
     "base_uri": "https://localhost:8080/"
    },
    "id": "cMob7bGW_ABS",
    "outputId": "a65b4f86-59f5-4a1a-e8c5-ce8fa3a7d195"
   },
   "outputs": [
    {
     "name": "stdout",
     "output_type": "stream",
     "text": [
      "Veracity prediction accuracy:\n",
      "\n",
      "              precision    recall  f1-score   support\n",
      "\n",
      "        Fake       0.66      0.68      0.67       758\n",
      "        Real       0.61      0.59      0.60       641\n",
      "\n",
      "    accuracy                           0.64      1399\n",
      "   macro avg       0.64      0.64      0.64      1399\n",
      "weighted avg       0.64      0.64      0.64      1399\n",
      "\n",
      "Emotion classification accuracy:\n",
      "\n",
      "              precision    recall  f1-score   support\n",
      "\n",
      "         joy       0.86      0.81      0.84       784\n",
      "        fear       0.17      0.06      0.09        68\n",
      "     neutral       0.33      0.52      0.40       193\n",
      "       anger       0.66      0.66      0.66       316\n",
      "     sadness       0.83      0.26      0.40        38\n",
      "\n",
      "    accuracy                           0.69      1399\n",
      "   macro avg       0.57      0.46      0.48      1399\n",
      "weighted avg       0.71      0.69      0.69      1399\n",
      "\n"
     ]
    }
   ],
   "source": [
    "THRESHOLD = 0.5\n",
    "y_pred = model.predict(X_test)\n",
    "\n",
    "# Veracity Output.\n",
    "y_pred[0][y_pred[0] >= THRESHOLD] = 1\n",
    "y_pred[0][y_pred[0] < THRESHOLD] = 0\n",
    "print('Veracity prediction accuracy:\\n')\n",
    "print(classification_report(y_test['VERACITY'], y_pred[0], target_names=['Fake', 'Real']))\n",
    "\n",
    "# Emotion Classification Output.\n",
    "y_pred_emo = np.argmax(y_pred[1], axis=1)\n",
    "print('Emotion classification accuracy:\\n')\n",
    "print(classification_report(y_test['PREDICTION'], y_pred_emo, target_names=['joy', 'fear', 'neutral', 'anger', 'sadness']))"
   ]
  },
  {
   "cell_type": "code",
   "execution_count": 87,
   "metadata": {
    "id": "nlQbAf09GQOI"
   },
   "outputs": [],
   "source": [
    "model.save('../../trained_models/multitask_model.h5')"
   ]
  },
  {
   "cell_type": "code",
   "execution_count": null,
   "metadata": {
    "id": "-B0SA1qqK8Rf"
   },
   "outputs": [],
   "source": []
  }
 ],
 "metadata": {
  "colab": {
   "collapsed_sections": [],
   "name": "dissertation_multitask_final.ipynb",
   "provenance": []
  },
  "kernelspec": {
   "display_name": "Python 3",
   "language": "python",
   "name": "python3"
  },
  "language_info": {
   "codemirror_mode": {
    "name": "ipython",
    "version": 3
   },
   "file_extension": ".py",
   "mimetype": "text/x-python",
   "name": "python",
   "nbconvert_exporter": "python",
   "pygments_lexer": "ipython3",
   "version": "3.8.6"
  }
 },
 "nbformat": 4,
 "nbformat_minor": 1
}
