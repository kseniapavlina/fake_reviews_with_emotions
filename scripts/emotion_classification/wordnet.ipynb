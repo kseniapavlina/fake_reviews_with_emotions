{
 "cells": [
  {
   "cell_type": "markdown",
   "metadata": {},
   "source": [
    "This notebook obtains emotion classification using DepecheMood (https://arxiv.org/abs/1405.1605) WordNet with the help of textacy API (https://textacy.readthedocs.io/en/stable/)."
   ]
  },
  {
   "cell_type": "code",
   "execution_count": 1,
   "metadata": {},
   "outputs": [],
   "source": [
    "import pandas as pd\n",
    "import textacy.resources"
   ]
  },
  {
   "cell_type": "code",
   "execution_count": 8,
   "metadata": {},
   "outputs": [],
   "source": [
    "# Obtain preprocessed dataset.\n",
    "amazon = pd.read_csv('../../data/preprocessed/amazon.csv')"
   ]
  },
  {
   "cell_type": "code",
   "execution_count": 9,
   "metadata": {},
   "outputs": [
    {
     "data": {
      "text/plain": [
       "{'name': 'depeche_mood',\n",
       " 'site_url': 'http://www.depechemood.eu',\n",
       " 'publication_url': 'https://arxiv.org/abs/1810.03660',\n",
       " 'description': 'A simple tool to analyze the emotions evoked by a text.'}"
      ]
     },
     "execution_count": 9,
     "metadata": {},
     "output_type": "execute_result"
    }
   ],
   "source": [
    "# Download the data and save contents to disk (needs to be done only once)\n",
    "# lemmapos describes text preprocessing (tokenization, lemmatization, and part-of-speech tagging)\n",
    "rs = textacy.resources.DepecheMood(lang=\"en\", word_rep=\"lemmapos\")\n",
    "rs.download()\n",
    "rs.info"
   ]
  },
  {
   "cell_type": "code",
   "execution_count": 10,
   "metadata": {},
   "outputs": [],
   "source": [
    "# Define DepecheMood emotions\n",
    "wordnet_emotions = ['AFRAID', 'AMUSED', 'ANGRY', 'ANNOYED', 'DONT_CARE', 'HAPPY', 'INSPIRED', 'SAD']"
   ]
  },
  {
   "cell_type": "code",
   "execution_count": 11,
   "metadata": {},
   "outputs": [
    {
     "data": {
      "text/html": [
       "<div>\n",
       "<style scoped>\n",
       "    .dataframe tbody tr th:only-of-type {\n",
       "        vertical-align: middle;\n",
       "    }\n",
       "\n",
       "    .dataframe tbody tr th {\n",
       "        vertical-align: top;\n",
       "    }\n",
       "\n",
       "    .dataframe thead th {\n",
       "        text-align: right;\n",
       "    }\n",
       "</style>\n",
       "<table border=\"1\" class=\"dataframe\">\n",
       "  <thead>\n",
       "    <tr style=\"text-align: right;\">\n",
       "      <th></th>\n",
       "      <th>REVIEW_TEXT</th>\n",
       "      <th>VERACITY</th>\n",
       "      <th>PREDICTION</th>\n",
       "      <th>AFRAID</th>\n",
       "      <th>AMUSED</th>\n",
       "      <th>ANGRY</th>\n",
       "      <th>ANNOYED</th>\n",
       "      <th>DONT_CARE</th>\n",
       "      <th>HAPPY</th>\n",
       "      <th>INSPIRED</th>\n",
       "      <th>SAD</th>\n",
       "    </tr>\n",
       "  </thead>\n",
       "  <tbody>\n",
       "    <tr>\n",
       "      <th>0</th>\n",
       "      <td>When least you think so, this product will sav...</td>\n",
       "      <td>Fake</td>\n",
       "      <td>0</td>\n",
       "      <td>0</td>\n",
       "      <td>0</td>\n",
       "      <td>0</td>\n",
       "      <td>0</td>\n",
       "      <td>0</td>\n",
       "      <td>0</td>\n",
       "      <td>0</td>\n",
       "      <td>0</td>\n",
       "    </tr>\n",
       "    <tr>\n",
       "      <th>1</th>\n",
       "      <td>Lithium batteries are something new introduced...</td>\n",
       "      <td>Fake</td>\n",
       "      <td>0</td>\n",
       "      <td>0</td>\n",
       "      <td>0</td>\n",
       "      <td>0</td>\n",
       "      <td>0</td>\n",
       "      <td>0</td>\n",
       "      <td>0</td>\n",
       "      <td>0</td>\n",
       "      <td>0</td>\n",
       "    </tr>\n",
       "    <tr>\n",
       "      <th>2</th>\n",
       "      <td>I purchased this swing for my baby. She is 6 m...</td>\n",
       "      <td>Fake</td>\n",
       "      <td>0</td>\n",
       "      <td>0</td>\n",
       "      <td>0</td>\n",
       "      <td>0</td>\n",
       "      <td>0</td>\n",
       "      <td>0</td>\n",
       "      <td>0</td>\n",
       "      <td>0</td>\n",
       "      <td>0</td>\n",
       "    </tr>\n",
       "    <tr>\n",
       "      <th>3</th>\n",
       "      <td>I was looking for an inexpensive desk calcolat...</td>\n",
       "      <td>Fake</td>\n",
       "      <td>0</td>\n",
       "      <td>0</td>\n",
       "      <td>0</td>\n",
       "      <td>0</td>\n",
       "      <td>0</td>\n",
       "      <td>0</td>\n",
       "      <td>0</td>\n",
       "      <td>0</td>\n",
       "      <td>0</td>\n",
       "    </tr>\n",
       "    <tr>\n",
       "      <th>4</th>\n",
       "      <td>I only use it twice a week and the results are...</td>\n",
       "      <td>Fake</td>\n",
       "      <td>0</td>\n",
       "      <td>0</td>\n",
       "      <td>0</td>\n",
       "      <td>0</td>\n",
       "      <td>0</td>\n",
       "      <td>0</td>\n",
       "      <td>0</td>\n",
       "      <td>0</td>\n",
       "      <td>0</td>\n",
       "    </tr>\n",
       "    <tr>\n",
       "      <th>...</th>\n",
       "      <td>...</td>\n",
       "      <td>...</td>\n",
       "      <td>...</td>\n",
       "      <td>...</td>\n",
       "      <td>...</td>\n",
       "      <td>...</td>\n",
       "      <td>...</td>\n",
       "      <td>...</td>\n",
       "      <td>...</td>\n",
       "      <td>...</td>\n",
       "      <td>...</td>\n",
       "    </tr>\n",
       "    <tr>\n",
       "      <th>20969</th>\n",
       "      <td>I bought these for work.  I have high arches, ...</td>\n",
       "      <td>Real</td>\n",
       "      <td>0</td>\n",
       "      <td>0</td>\n",
       "      <td>0</td>\n",
       "      <td>0</td>\n",
       "      <td>0</td>\n",
       "      <td>0</td>\n",
       "      <td>0</td>\n",
       "      <td>0</td>\n",
       "      <td>0</td>\n",
       "    </tr>\n",
       "    <tr>\n",
       "      <th>20970</th>\n",
       "      <td>Crocs are one of only two brands of shoes that...</td>\n",
       "      <td>Real</td>\n",
       "      <td>0</td>\n",
       "      <td>0</td>\n",
       "      <td>0</td>\n",
       "      <td>0</td>\n",
       "      <td>0</td>\n",
       "      <td>0</td>\n",
       "      <td>0</td>\n",
       "      <td>0</td>\n",
       "      <td>0</td>\n",
       "    </tr>\n",
       "    <tr>\n",
       "      <th>20971</th>\n",
       "      <td>I love moccasins  This fit like it was custom ...</td>\n",
       "      <td>Real</td>\n",
       "      <td>0</td>\n",
       "      <td>0</td>\n",
       "      <td>0</td>\n",
       "      <td>0</td>\n",
       "      <td>0</td>\n",
       "      <td>0</td>\n",
       "      <td>0</td>\n",
       "      <td>0</td>\n",
       "      <td>0</td>\n",
       "    </tr>\n",
       "    <tr>\n",
       "      <th>20972</th>\n",
       "      <td>I wish these were a little more durable. I got...</td>\n",
       "      <td>Real</td>\n",
       "      <td>0</td>\n",
       "      <td>0</td>\n",
       "      <td>0</td>\n",
       "      <td>0</td>\n",
       "      <td>0</td>\n",
       "      <td>0</td>\n",
       "      <td>0</td>\n",
       "      <td>0</td>\n",
       "      <td>0</td>\n",
       "    </tr>\n",
       "    <tr>\n",
       "      <th>20973</th>\n",
       "      <td>I have  been looking for a replacement for my ...</td>\n",
       "      <td>Real</td>\n",
       "      <td>0</td>\n",
       "      <td>0</td>\n",
       "      <td>0</td>\n",
       "      <td>0</td>\n",
       "      <td>0</td>\n",
       "      <td>0</td>\n",
       "      <td>0</td>\n",
       "      <td>0</td>\n",
       "      <td>0</td>\n",
       "    </tr>\n",
       "  </tbody>\n",
       "</table>\n",
       "<p>20974 rows × 11 columns</p>\n",
       "</div>"
      ],
      "text/plain": [
       "                                             REVIEW_TEXT VERACITY  PREDICTION  \\\n",
       "0      When least you think so, this product will sav...     Fake           0   \n",
       "1      Lithium batteries are something new introduced...     Fake           0   \n",
       "2      I purchased this swing for my baby. She is 6 m...     Fake           0   \n",
       "3      I was looking for an inexpensive desk calcolat...     Fake           0   \n",
       "4      I only use it twice a week and the results are...     Fake           0   \n",
       "...                                                  ...      ...         ...   \n",
       "20969  I bought these for work.  I have high arches, ...     Real           0   \n",
       "20970  Crocs are one of only two brands of shoes that...     Real           0   \n",
       "20971  I love moccasins  This fit like it was custom ...     Real           0   \n",
       "20972  I wish these were a little more durable. I got...     Real           0   \n",
       "20973  I have  been looking for a replacement for my ...     Real           0   \n",
       "\n",
       "       AFRAID  AMUSED  ANGRY  ANNOYED  DONT_CARE  HAPPY  INSPIRED  SAD  \n",
       "0           0       0      0        0          0      0         0    0  \n",
       "1           0       0      0        0          0      0         0    0  \n",
       "2           0       0      0        0          0      0         0    0  \n",
       "3           0       0      0        0          0      0         0    0  \n",
       "4           0       0      0        0          0      0         0    0  \n",
       "...       ...     ...    ...      ...        ...    ...       ...  ...  \n",
       "20969       0       0      0        0          0      0         0    0  \n",
       "20970       0       0      0        0          0      0         0    0  \n",
       "20971       0       0      0        0          0      0         0    0  \n",
       "20972       0       0      0        0          0      0         0    0  \n",
       "20973       0       0      0        0          0      0         0    0  \n",
       "\n",
       "[20974 rows x 11 columns]"
      ]
     },
     "execution_count": 11,
     "metadata": {},
     "output_type": "execute_result"
    }
   ],
   "source": [
    "# Prepare amazon csv for recording results.\n",
    "amazon['PREDICTION'] = 0\n",
    "for emotion in wordnet_emotions:\n",
    "    amazon[emotion] = 0\n",
    "amazon"
   ]
  },
  {
   "cell_type": "code",
   "execution_count": 12,
   "metadata": {},
   "outputs": [
    {
     "name": "stdout",
     "output_type": "stream",
     "text": [
      "Processing 0  of 20974\n",
      "Processing 1000  of 20974\n",
      "Processing 2000  of 20974\n",
      "Processing 3000  of 20974\n",
      "Processing 4000  of 20974\n",
      "Processing 5000  of 20974\n",
      "Processing 6000  of 20974\n",
      "Processing 7000  of 20974\n",
      "Processing 8000  of 20974\n",
      "Processing 9000  of 20974\n",
      "Processing 10000  of 20974\n",
      "Processing 11000  of 20974\n",
      "Processing 12000  of 20974\n",
      "Processing 13000  of 20974\n",
      "Processing 14000  of 20974\n",
      "Processing 15000  of 20974\n",
      "Processing 16000  of 20974\n",
      "Processing 17000  of 20974\n",
      "Processing 18000  of 20974\n",
      "Processing 19000  of 20974\n",
      "Processing 20000  of 20974\n"
     ]
    }
   ],
   "source": [
    "# Obtain classification results.\n",
    "for i in range(len(amazon['REVIEW_TEXT'])):\n",
    "    if i%1000 == 0:\n",
    "        print('Processing', i, ' of 20974')\n",
    "    text = textacy.make_spacy_doc(amazon['REVIEW_TEXT'][i], lang='en_core_web_sm')\n",
    "    out = rs.get_emotional_valence(text)\n",
    "    for emotion in wordnet_emotions:\n",
    "        amazon.iloc[i, amazon.columns.get_loc(emotion)] = out[emotion]\n",
    "    amazon.iloc[i, amazon.columns.get_loc('PREDICTION')] = max(out, key=out.get)"
   ]
  },
  {
   "cell_type": "markdown",
   "metadata": {},
   "source": [
    "Let us see emotion predictions distribution"
   ]
  },
  {
   "cell_type": "code",
   "execution_count": 13,
   "metadata": {},
   "outputs": [
    {
     "data": {
      "text/plain": [
       "<AxesSubplot:title={'center':'Wordnet Emotion Predictions'}, xlabel='Emotion Class', ylabel='Reviews Count'>"
      ]
     },
     "execution_count": 13,
     "metadata": {},
     "output_type": "execute_result"
    },
    {
     "data": {
      "image/png": "[encoded data removed]",
      "text/plain": [
       "<Figure size 432x288 with 1 Axes>"
      ]
     },
     "metadata": {
      "needs_background": "light"
     },
     "output_type": "display_data"
    }
   ],
   "source": [
    "amazon.PREDICTION.value_counts().plot(kind='bar', title='Wordnet Emotion Predictions', rot=45, xlabel='Emotion Class', ylabel = 'Reviews Count')"
   ]
  },
  {
   "cell_type": "markdown",
   "metadata": {},
   "source": [
    "Clearly, INSPIRED overpowers other classes - this class will be removed and values will be normalised to find new matching classes."
   ]
  },
  {
   "cell_type": "code",
   "execution_count": 10,
   "metadata": {},
   "outputs": [],
   "source": [
    "# Create a copy of a dataframe to reduce emotions count.\n",
    "amazon_no_inspired = amazon.copy()\n",
    "amazon_no_inspired.drop(columns=['INSPIRED'], inplace=True)"
   ]
  },
  {
   "cell_type": "code",
   "execution_count": 11,
   "metadata": {},
   "outputs": [
    {
     "name": "stdout",
     "output_type": "stream",
     "text": [
      "Processing 0  of 20974\n",
      "Processing 1000  of 20974\n",
      "Processing 2000  of 20974\n",
      "Processing 3000  of 20974\n",
      "Processing 4000  of 20974\n",
      "Processing 5000  of 20974\n",
      "Processing 6000  of 20974\n",
      "Processing 7000  of 20974\n",
      "Processing 8000  of 20974\n",
      "Processing 9000  of 20974\n",
      "Processing 10000  of 20974\n",
      "Processing 11000  of 20974\n",
      "Processing 12000  of 20974\n",
      "Processing 13000  of 20974\n",
      "Processing 14000  of 20974\n",
      "Processing 15000  of 20974\n",
      "Processing 16000  of 20974\n",
      "Processing 17000  of 20974\n",
      "Processing 18000  of 20974\n",
      "Processing 19000  of 20974\n",
      "Processing 20000  of 20974\n"
     ]
    }
   ],
   "source": [
    "for i in range(len(amazon_no_inspired)):\n",
    "    if i%1000 == 0:\n",
    "        print('Processing', i, ' of 20974')\n",
    "    vals = []\n",
    "    # Record probabilities for all emotions but INSPIRED and normalise.\n",
    "    for emotion in wordnet_emotions:\n",
    "        if emotion != 'INSPIRED':\n",
    "            vals.append(amazon_no_inspired[emotion][i])\n",
    "    norm_vals = [val/sum(vals) for val in vals]\n",
    "    # Record the new normalised values.\n",
    "    j = 0\n",
    "    for emotion in wordnet_emotions:\n",
    "        if emotion != 'INSPIRED':\n",
    "            amazon_no_inspired.iloc[i, amazon_no_inspired.columns.get_loc(emotion)] = norm_vals[j]\n",
    "            j += 1\n",
    "    # Obtain new predictions.\n",
    "    out = {}\n",
    "    for emotion in wordnet_emotions:\n",
    "        if emotion != 'INSPIRED':\n",
    "            out[emotion] = amazon_no_inspired[emotion][i]\n",
    "    amazon_no_inspired.iloc[i, amazon_no_inspired.columns.get_loc('PREDICTION')] = max(out, key=out.get)"
   ]
  },
  {
   "cell_type": "markdown",
   "metadata": {},
   "source": [
    "Check new emotion distribution."
   ]
  },
  {
   "cell_type": "code",
   "execution_count": 7,
   "metadata": {},
   "outputs": [
    {
     "data": {
      "text/plain": [
       "<AxesSubplot:title={'center':'Wordnet Emotion Predictions (without INSPIRED)'}, xlabel='Emotion Class', ylabel='Reviews Count'>"
      ]
     },
     "execution_count": 7,
     "metadata": {},
     "output_type": "execute_result"
    },
    {
     "data": {
      "image/png": "[encoded data removed]",
      "text/plain": [
       "<Figure size 432x288 with 1 Axes>"
      ]
     },
     "metadata": {
      "needs_background": "light"
     },
     "output_type": "display_data"
    }
   ],
   "source": [
    "# Plot new distribution.\n",
    "amazon_no_inspired.PREDICTION.value_counts().plot(kind='bar', title='Wordnet Emotion Predictions (without INSPIRED)', rot=45, xlabel='Emotion Class', ylabel = 'Reviews Count')"
   ]
  },
  {
   "cell_type": "code",
   "execution_count": 15,
   "metadata": {},
   "outputs": [],
   "source": [
    "# Save results.\n",
    "amazon_no_inspired.to_csv('../../data/results/amazon_wordnet.csv', index=False)"
   ]
  },
  {
   "cell_type": "code",
   "execution_count": null,
   "metadata": {},
   "outputs": [],
   "source": []
  }
 ],
 "metadata": {
  "kernelspec": {
   "display_name": "Python 3",
   "language": "python",
   "name": "python3"
  },
  "language_info": {
   "codemirror_mode": {
    "name": "ipython",
    "version": 3
   },
   "file_extension": ".py",
   "mimetype": "text/x-python",
   "name": "python",
   "nbconvert_exporter": "python",
   "pygments_lexer": "ipython3",
   "version": "3.8.6"
  }
 },
 "nbformat": 4,
 "nbformat_minor": 4
}
