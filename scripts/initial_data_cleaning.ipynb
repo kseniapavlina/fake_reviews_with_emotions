{
 "cells": [
  {
   "cell_type": "code",
   "execution_count": 2,
   "metadata": {},
   "outputs": [],
   "source": [
    "import nltk\n",
    "import pandas as pd\n",
    "import re\n",
    "\n",
    "from langdetect import detect"
   ]
  },
  {
   "cell_type": "markdown",
   "metadata": {},
   "source": [
    "The script assumes it is run from 'scripts' directory."
   ]
  },
  {
   "cell_type": "code",
   "execution_count": 7,
   "metadata": {},
   "outputs": [],
   "source": [
    "amazon_initial = pd.read_csv('../data/amazon_initial.csv')"
   ]
  },
  {
   "cell_type": "markdown",
   "metadata": {},
   "source": [
    "In this project we only work with texts of the reviews and associated veracity.<br />\n",
    "Dataset source: https://www.kaggle.com/lievgarcia/amazon-reviews"
   ]
  },
  {
   "cell_type": "code",
   "execution_count": 3,
   "metadata": {},
   "outputs": [
    {
     "data": {
      "text/html": [
       "<div>\n",
       "<style scoped>\n",
       "    .dataframe tbody tr th:only-of-type {\n",
       "        vertical-align: middle;\n",
       "    }\n",
       "\n",
       "    .dataframe tbody tr th {\n",
       "        vertical-align: top;\n",
       "    }\n",
       "\n",
       "    .dataframe thead th {\n",
       "        text-align: right;\n",
       "    }\n",
       "</style>\n",
       "<table border=\"1\" class=\"dataframe\">\n",
       "  <thead>\n",
       "    <tr style=\"text-align: right;\">\n",
       "      <th></th>\n",
       "      <th>REVIEW_TEXT</th>\n",
       "      <th>VERACITY</th>\n",
       "    </tr>\n",
       "  </thead>\n",
       "  <tbody>\n",
       "    <tr>\n",
       "      <th>0</th>\n",
       "      <td>When least you think so, this product will sav...</td>\n",
       "      <td>Fake</td>\n",
       "    </tr>\n",
       "    <tr>\n",
       "      <th>1</th>\n",
       "      <td>Lithium batteries are something new introduced...</td>\n",
       "      <td>Fake</td>\n",
       "    </tr>\n",
       "    <tr>\n",
       "      <th>2</th>\n",
       "      <td>I purchased this swing for my baby. She is 6 m...</td>\n",
       "      <td>Fake</td>\n",
       "    </tr>\n",
       "    <tr>\n",
       "      <th>3</th>\n",
       "      <td>I was looking for an inexpensive desk calcolat...</td>\n",
       "      <td>Fake</td>\n",
       "    </tr>\n",
       "    <tr>\n",
       "      <th>4</th>\n",
       "      <td>I only use it twice a week and the results are...</td>\n",
       "      <td>Fake</td>\n",
       "    </tr>\n",
       "    <tr>\n",
       "      <th>...</th>\n",
       "      <td>...</td>\n",
       "      <td>...</td>\n",
       "    </tr>\n",
       "    <tr>\n",
       "      <th>20995</th>\n",
       "      <td>I bought these for work.  I have high arches, ...</td>\n",
       "      <td>Real</td>\n",
       "    </tr>\n",
       "    <tr>\n",
       "      <th>20996</th>\n",
       "      <td>Crocs are one of only two brands of shoes that...</td>\n",
       "      <td>Real</td>\n",
       "    </tr>\n",
       "    <tr>\n",
       "      <th>20997</th>\n",
       "      <td>I love moccasins  This fit like it was custom ...</td>\n",
       "      <td>Real</td>\n",
       "    </tr>\n",
       "    <tr>\n",
       "      <th>20998</th>\n",
       "      <td>I wish these were a little more durable. I got...</td>\n",
       "      <td>Real</td>\n",
       "    </tr>\n",
       "    <tr>\n",
       "      <th>20999</th>\n",
       "      <td>I've been looking for a replacement for my bel...</td>\n",
       "      <td>Real</td>\n",
       "    </tr>\n",
       "  </tbody>\n",
       "</table>\n",
       "<p>21000 rows × 2 columns</p>\n",
       "</div>"
      ],
      "text/plain": [
       "                                             REVIEW_TEXT VERACITY\n",
       "0      When least you think so, this product will sav...     Fake\n",
       "1      Lithium batteries are something new introduced...     Fake\n",
       "2      I purchased this swing for my baby. She is 6 m...     Fake\n",
       "3      I was looking for an inexpensive desk calcolat...     Fake\n",
       "4      I only use it twice a week and the results are...     Fake\n",
       "...                                                  ...      ...\n",
       "20995  I bought these for work.  I have high arches, ...     Real\n",
       "20996  Crocs are one of only two brands of shoes that...     Real\n",
       "20997  I love moccasins  This fit like it was custom ...     Real\n",
       "20998  I wish these were a little more durable. I got...     Real\n",
       "20999  I've been looking for a replacement for my bel...     Real\n",
       "\n",
       "[21000 rows x 2 columns]"
      ]
     },
     "execution_count": 3,
     "metadata": {},
     "output_type": "execute_result"
    }
   ],
   "source": [
    "amazon = amazon_initial[['REVIEW_TEXT', 'LABEL']].copy()\n",
    "amazon.rename(columns={'LABEL': 'VERACITY'}, inplace=True)\n",
    "amazon['VERACITY'] = amazon['VERACITY'].map({'__label1__': 'Fake', '__label2__': 'Real'})\n",
    "amazon"
   ]
  },
  {
   "cell_type": "markdown",
   "metadata": {},
   "source": [
    "First, remove all non-English entries."
   ]
  },
  {
   "cell_type": "code",
   "execution_count": 4,
   "metadata": {},
   "outputs": [],
   "source": [
    "amazon['lang'] = amazon['REVIEW_TEXT'].apply(lambda x: detect(x))\n",
    "amazon = amazon.loc[amazon['lang'] == 'en'].copy()\n",
    "amazon.reset_index(drop=True, inplace=True)\n",
    "amazon.drop(columns=['lang'], inplace = True)"
   ]
  },
  {
   "cell_type": "code",
   "execution_count": 5,
   "metadata": {},
   "outputs": [],
   "source": [
    "def clean_text(text):\n",
    "    \"\"\"Return a version of text cleaned of common contractions and non-standard.\"\"\"\n",
    "    \n",
    "    # Process common contractions.\n",
    "    text = re.sub(r\"can't\", 'cannot', text)\n",
    "    text = re.sub(r\"\\'ve\", ' have ', text)\n",
    "    text = re.sub(r\"n't\", ' not ', text)\n",
    "    text = re.sub(r\"im\", 'I am ', text)\n",
    "    text = re.sub(r\"i'm\", 'I am ', text)\n",
    "    text = re.sub(r\"\\'ll\", ' will ', text)    \n",
    "    text = re.sub(r\"\\'s\", ' ', text)\n",
    "    \n",
    "    # Remove <br> HTML tag.\n",
    "    text = re.sub(r\"<br />\", ' ', text)\n",
    "    \n",
    "    # Remove remaining numbers and non-standard punctuation.\n",
    "    text = re.sub(r'[^a-zA-Z0-9\\.\\,\\!\\?\\:\\)\\(\\;]', ' ', text)\n",
    "\n",
    "    return text"
   ]
  },
  {
   "cell_type": "code",
   "execution_count": 6,
   "metadata": {},
   "outputs": [
    {
     "data": {
      "text/html": [
       "<div>\n",
       "<style scoped>\n",
       "    .dataframe tbody tr th:only-of-type {\n",
       "        vertical-align: middle;\n",
       "    }\n",
       "\n",
       "    .dataframe tbody tr th {\n",
       "        vertical-align: top;\n",
       "    }\n",
       "\n",
       "    .dataframe thead th {\n",
       "        text-align: right;\n",
       "    }\n",
       "</style>\n",
       "<table border=\"1\" class=\"dataframe\">\n",
       "  <thead>\n",
       "    <tr style=\"text-align: right;\">\n",
       "      <th></th>\n",
       "      <th>REVIEW_TEXT</th>\n",
       "      <th>VERACITY</th>\n",
       "    </tr>\n",
       "  </thead>\n",
       "  <tbody>\n",
       "    <tr>\n",
       "      <th>0</th>\n",
       "      <td>When least you think so, this product will sav...</td>\n",
       "      <td>Fake</td>\n",
       "    </tr>\n",
       "    <tr>\n",
       "      <th>1</th>\n",
       "      <td>Lithium batteries are something new introduced...</td>\n",
       "      <td>Fake</td>\n",
       "    </tr>\n",
       "    <tr>\n",
       "      <th>2</th>\n",
       "      <td>I purchased this swing for my baby. She is 6 m...</td>\n",
       "      <td>Fake</td>\n",
       "    </tr>\n",
       "    <tr>\n",
       "      <th>3</th>\n",
       "      <td>I was looking for an inexpensive desk calcolat...</td>\n",
       "      <td>Fake</td>\n",
       "    </tr>\n",
       "    <tr>\n",
       "      <th>4</th>\n",
       "      <td>I only use it twice a week and the results are...</td>\n",
       "      <td>Fake</td>\n",
       "    </tr>\n",
       "    <tr>\n",
       "      <th>...</th>\n",
       "      <td>...</td>\n",
       "      <td>...</td>\n",
       "    </tr>\n",
       "    <tr>\n",
       "      <th>20969</th>\n",
       "      <td>I bought these for work.  I have high arches, ...</td>\n",
       "      <td>Real</td>\n",
       "    </tr>\n",
       "    <tr>\n",
       "      <th>20970</th>\n",
       "      <td>Crocs are one of only two brands of shoes that...</td>\n",
       "      <td>Real</td>\n",
       "    </tr>\n",
       "    <tr>\n",
       "      <th>20971</th>\n",
       "      <td>I love moccasins  This fit like it was custom ...</td>\n",
       "      <td>Real</td>\n",
       "    </tr>\n",
       "    <tr>\n",
       "      <th>20972</th>\n",
       "      <td>I wish these were a little more durable. I got...</td>\n",
       "      <td>Real</td>\n",
       "    </tr>\n",
       "    <tr>\n",
       "      <th>20973</th>\n",
       "      <td>I have  been looking for a replacement for my ...</td>\n",
       "      <td>Real</td>\n",
       "    </tr>\n",
       "  </tbody>\n",
       "</table>\n",
       "<p>20974 rows × 2 columns</p>\n",
       "</div>"
      ],
      "text/plain": [
       "                                             REVIEW_TEXT VERACITY\n",
       "0      When least you think so, this product will sav...     Fake\n",
       "1      Lithium batteries are something new introduced...     Fake\n",
       "2      I purchased this swing for my baby. She is 6 m...     Fake\n",
       "3      I was looking for an inexpensive desk calcolat...     Fake\n",
       "4      I only use it twice a week and the results are...     Fake\n",
       "...                                                  ...      ...\n",
       "20969  I bought these for work.  I have high arches, ...     Real\n",
       "20970  Crocs are one of only two brands of shoes that...     Real\n",
       "20971  I love moccasins  This fit like it was custom ...     Real\n",
       "20972  I wish these were a little more durable. I got...     Real\n",
       "20973  I have  been looking for a replacement for my ...     Real\n",
       "\n",
       "[20974 rows x 2 columns]"
      ]
     },
     "execution_count": 6,
     "metadata": {},
     "output_type": "execute_result"
    }
   ],
   "source": [
    "amazon['REVIEW_TEXT'] = amazon['REVIEW_TEXT'].apply(lambda x: clean_text(x))\n",
    "amazon"
   ]
  },
  {
   "cell_type": "code",
   "execution_count": 8,
   "metadata": {},
   "outputs": [],
   "source": [
    "amazon.to_csv('data/preprocessed/amazon.csv', index=False)"
   ]
  }
 ],
 "metadata": {
  "kernelspec": {
   "display_name": "Python 3",
   "language": "python",
   "name": "python3"
  },
  "language_info": {
   "codemirror_mode": {
    "name": "ipython",
    "version": 3
   },
   "file_extension": ".py",
   "mimetype": "text/x-python",
   "name": "python",
   "nbconvert_exporter": "python",
   "pygments_lexer": "ipython3",
   "version": "3.8.6"
  }
 },
 "nbformat": 4,
 "nbformat_minor": 4
}
