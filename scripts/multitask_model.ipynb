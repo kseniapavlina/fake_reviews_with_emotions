{
 "cells": [
  {
   "cell_type": "markdown",
   "metadata": {
    "colab": {
     "base_uri": "https://localhost:8080/"
    },
    "id": "3HGkH44zziiy",
    "outputId": "ece8b587-d2cb-4869-e592-62836d2613be"
   },
   "source": [
    "This notebook contains code and results for multitask model predicting veracity and emotion simultaneously."
   ]
  },
  {
   "cell_type": "code",
   "execution_count": null,
   "metadata": {},
   "outputs": [],
   "source": [
    "# Run this line the first time you run this notebook, then comment it out. \n",
    "# If running on Google Colab, resturt runtime after running. \n",
    "!python -m pip install Keras==2.3.1 tensorflow==2.1.0"
   ]
  },
  {
   "cell_type": "code",
   "execution_count": 27,
   "metadata": {
    "id": "11go5AUqvyET"
   },
   "outputs": [],
   "source": [
    "import nltk\n",
    "import numpy as np\n",
    "import pandas as pd\n",
    "import re\n",
    "\n",
    "from keras.callbacks import EarlyStopping\n",
    "from keras.layers import Dense, LSTM, Conv1D, MaxPooling1D, Dropout, Input\n",
    "from keras.layers.embeddings import Embedding\n",
    "from keras.models import Model\n",
    "from keras.preprocessing.sequence import pad_sequences\n",
    "from keras.preprocessing.text import Tokenizer\n",
    "from keras.utils import plot_model\n",
    "from nltk.corpus import stopwords\n",
    "from nltk.stem.wordnet import WordNetLemmatizer\n",
    "from sklearn.metrics import classification_report, accuracy_score, f1_score\n",
    "from sklearn.model_selection import train_test_split\n",
    "from sklearn.utils import class_weight"
   ]
  },
  {
   "cell_type": "code",
   "execution_count": 2,
   "metadata": {
    "id": "EIitPJ5Yv1NX"
   },
   "outputs": [],
   "source": [
    "def clean_text(text):\n",
    "    text = text.lower()\n",
    "             \n",
    "    # Process opeations and common punctuation.           \n",
    "    text = re.sub(r\",\", \" \", text)\n",
    "    text = re.sub(r\"\\.\", \" \", text)\n",
    "    text = re.sub(r\"!\", \" ! \", text)\n",
    "    text = re.sub(r\"\\/\", \" \", text)\n",
    "    text = re.sub(r\"\\^\", \" ^ \", text)\n",
    "    text = re.sub(r\"\\+\", \" + \", text)\n",
    "    text = re.sub(r\"\\-\", \" - \", text)\n",
    "    text = re.sub(r\"\\=\", \" = \", text)\n",
    "    \n",
    "    # Remove all remaining symbols.\n",
    "    text = re.sub(r'[^a-z0-9]', ' ', text)\n",
    "    \n",
    "    # Remove stopwords and lemmatize.\n",
    "    text = text.split()\n",
    "    stop_words = stopwords.words(\"english\")\n",
    "    text = [tok for tok in text if tok not in stop_words]\n",
    "    lemmatizer = WordNetLemmatizer()\n",
    "    text = [lemmatizer.lemmatize(w) for w in text]\n",
    "    return ' '.join(text)"
   ]
  },
  {
   "cell_type": "code",
   "execution_count": 3,
   "metadata": {
    "colab": {
     "base_uri": "https://localhost:8080/"
    },
    "id": "0yoRdasiv2Zk",
    "outputId": "2e3d1c13-d70b-4b74-dcbd-ec81af93a61c"
   },
   "outputs": [
    {
     "name": "stdout",
     "output_type": "stream",
     "text": [
      "[nltk_data] Downloading package stopwords to /root/nltk_data...\n",
      "[nltk_data]   Unzipping corpora/stopwords.zip.\n"
     ]
    },
    {
     "data": {
      "text/plain": [
       "True"
      ]
     },
     "execution_count": 3,
     "metadata": {
      "tags": []
     },
     "output_type": "execute_result"
    }
   ],
   "source": [
    "nltk.download('stopwords')"
   ]
  },
  {
   "cell_type": "code",
   "execution_count": 4,
   "metadata": {
    "colab": {
     "base_uri": "https://localhost:8080/"
    },
    "id": "YIdzWwlswLb3",
    "outputId": "763cca7d-c9c0-482d-99d6-ef0b6db2153e"
   },
   "outputs": [
    {
     "name": "stdout",
     "output_type": "stream",
     "text": [
      "[nltk_data] Downloading package wordnet to /root/nltk_data...\n",
      "[nltk_data]   Unzipping corpora/wordnet.zip.\n"
     ]
    },
    {
     "data": {
      "text/plain": [
       "True"
      ]
     },
     "execution_count": 4,
     "metadata": {
      "tags": []
     },
     "output_type": "execute_result"
    }
   ],
   "source": [
    "nltk.download('wordnet')"
   ]
  },
  {
   "cell_type": "code",
   "execution_count": 6,
   "metadata": {
    "id": "2PiAODIlv8AJ"
   },
   "outputs": [],
   "source": [
    "df = pd.read_csv('../data/results/amazon_final.csv')"
   ]
  },
  {
   "cell_type": "code",
   "execution_count": 7,
   "metadata": {
    "id": "axLiZpPJwEM7"
   },
   "outputs": [],
   "source": [
    "# Only leave relevant entries for the task.\n",
    "amazon_multi = df[['REVIEW_TEXT', 'PREDICTION', 'VERACITY']].copy()"
   ]
  },
  {
   "cell_type": "code",
   "execution_count": 8,
   "metadata": {
    "id": "cl4Koq1vwFgd"
   },
   "outputs": [],
   "source": [
    "amazon_multi['REVIEW_TEXT'] = amazon_multi['REVIEW_TEXT'].apply(lambda x: clean_text(x))"
   ]
  },
  {
   "cell_type": "code",
   "execution_count": 9,
   "metadata": {
    "colab": {
     "base_uri": "https://localhost:8080/"
    },
    "id": "9zuBCktrwQjh",
    "outputId": "d8201ca6-615f-4188-9821-7c7c01ace479"
   },
   "outputs": [
    {
     "name": "stdout",
     "output_type": "stream",
     "text": [
      "Number of unique words: 21749\n"
     ]
    }
   ],
   "source": [
    "# Get the number of unique words to choose proper vocabulary size.\n",
    "all_words = []\n",
    "for entry in amazon_multi['REVIEW_TEXT']:\n",
    "    all_words += entry.split()\n",
    "print('Number of unique words:', len(set(all_words)))"
   ]
  },
  {
   "cell_type": "code",
   "execution_count": 10,
   "metadata": {
    "id": "ppCsM-rowG0v"
   },
   "outputs": [],
   "source": [
    "vocabulary_size = 21000 \n",
    "tokenizer = Tokenizer(num_words=vocabulary_size)\n",
    "tokenizer.fit_on_texts(amazon_multi['REVIEW_TEXT'])\n",
    "sequences = tokenizer.texts_to_sequences(amazon_multi['REVIEW_TEXT'])"
   ]
  },
  {
   "cell_type": "code",
   "execution_count": 11,
   "metadata": {
    "id": "fXsH9_aZwOwn"
   },
   "outputs": [],
   "source": [
    "# Encode outputs.\n",
    "amazon_multi[\"PREDICTION\"].replace({\"joy\": 0, \"fear\": 1, 'neutral': 2, 'anger': 3, 'sadness': 4}, inplace=True)\n",
    "amazon_multi[\"VERACITY\"].replace({\"Fake\": 0, \"Real\": 1}, inplace=True)"
   ]
  },
  {
   "cell_type": "code",
   "execution_count": 12,
   "metadata": {
    "id": "cZ8RcYLawnPk"
   },
   "outputs": [],
   "source": [
    "output_columns_all = ['PREDICTION', 'VERACITY']"
   ]
  },
  {
   "cell_type": "code",
   "execution_count": 13,
   "metadata": {
    "id": "5uarsZbcwofs"
   },
   "outputs": [],
   "source": [
    "# Pads sequences to the same length: MAXLEN\n",
    "MAXLEN = 500\n",
    "X = pad_sequences(sequences, maxlen=MAXLEN)\n",
    "y = amazon_multi[output_columns_all]"
   ]
  },
  {
   "cell_type": "code",
   "execution_count": 41,
   "metadata": {
    "id": "Q3l4j5VowqZF"
   },
   "outputs": [],
   "source": [
    "# Leave 10% of data for test, and split training test into training and validation subsets.\n",
    "X_train, X_test, y_train, y_test = train_test_split(X, y, test_size=0.1)\n",
    "X_train, X_dev, y_train, y_dev = train_test_split(X_train, y_train, test_size=0.1)"
   ]
  },
  {
   "cell_type": "code",
   "execution_count": 42,
   "metadata": {
    "id": "wCla-TxLwvfe"
   },
   "outputs": [],
   "source": [
    "output_columns_binary = ['VERACITY']\n",
    "output_columns_categorical = ['PREDICTION']"
   ]
  },
  {
   "cell_type": "code",
   "execution_count": 43,
   "metadata": {
    "id": "5WlMMf0XYmIH"
   },
   "outputs": [],
   "source": [
    "# Since data is highly imbalanced, define class weights.\n",
    "class_weights_categorical = class_weight.compute_class_weight('balanced',\n",
    "                                                 np.unique(y_train['PREDICTION']),\n",
    "                                                 y_train['PREDICTION'])\n",
    "class_weights_binary = class_weight.compute_class_weight('balanced',\n",
    "                                                 np.unique(y_train['VERACITY']),\n",
    "                                                 y_train['VERACITY'])\n",
    "classes_weights = {'VERACITY': class_weights_binary, 'PREDICTION': class_weights_categorical}"
   ]
  },
  {
   "cell_type": "code",
   "execution_count": 44,
   "metadata": {
    "id": "5GM42kgwxhev"
   },
   "outputs": [],
   "source": [
    "# Define model architecture.\n",
    "input = Input(shape=(MAXLEN,), name='input')\n",
    "x = Embedding(input_dim=vocabulary_size, output_dim=2, input_length=MAXLEN)(input)\n",
    "x = Dropout(0.3)(x)\n",
    "x = Conv1D(64 , 5, activation='relu')(x)\n",
    "x = MaxPooling1D(pool_size=4)(x)\n",
    "x = LSTM(100)(x) "
   ]
  },
  {
   "cell_type": "code",
   "execution_count": 45,
   "metadata": {
    "id": "UfRmhUsWxrnD"
   },
   "outputs": [],
   "source": [
    "output_array = [] \n",
    "metrics_array = {}\n",
    "loss_array = {}\n",
    "\n",
    "binary_output = Dense(1, activation='sigmoid', name='veracity_output')(x)\n",
    "output_array.append(binary_output)\n",
    "metrics_array['veracity_output'] = 'binary_accuracy'\n",
    "loss_array['veracity_output'] = 'binary_crossentropy'"
   ]
  },
  {
   "cell_type": "code",
   "execution_count": 46,
   "metadata": {
    "id": "om2fx1j4x6R8"
   },
   "outputs": [],
   "source": [
    "categorical_output = Dense(5, activation='softmax', name='categorical_output')(x)\n",
    "output_array.append(categorical_output)\n",
    "metrics_array['categorical_output'] = 'sparse_categorical_accuracy'\n",
    "loss_array['categorical_output'] = 'sparse_categorical_crossentropy'"
   ]
  },
  {
   "cell_type": "code",
   "execution_count": 47,
   "metadata": {
    "id": "yOeoAioPypi5"
   },
   "outputs": [],
   "source": [
    "model = Model(inputs=input, outputs=output_array)"
   ]
  },
  {
   "cell_type": "code",
   "execution_count": 48,
   "metadata": {
    "id": "FtjOyDPbyrLY"
   },
   "outputs": [],
   "source": [
    "model.compile(optimizer='adam',\n",
    "              loss=loss_array,\n",
    "              metrics = metrics_array)"
   ]
  },
  {
   "cell_type": "code",
   "execution_count": 49,
   "metadata": {
    "colab": {
     "base_uri": "https://localhost:8080/"
    },
    "id": "oTuxq_6Kyti5",
    "outputId": "11ebbf35-f512-4369-907a-651c7d140a5e"
   },
   "outputs": [
    {
     "name": "stdout",
     "output_type": "stream",
     "text": [
      "Model: \"model_3\"\n",
      "__________________________________________________________________________________________________\n",
      "Layer (type)                    Output Shape         Param #     Connected to                     \n",
      "==================================================================================================\n",
      "input (InputLayer)              (None, 500)          0                                            \n",
      "__________________________________________________________________________________________________\n",
      "embedding_3 (Embedding)         (None, 500, 2)       42000       input[0][0]                      \n",
      "__________________________________________________________________________________________________\n",
      "dropout_3 (Dropout)             (None, 500, 2)       0           embedding_3[0][0]                \n",
      "__________________________________________________________________________________________________\n",
      "conv1d_3 (Conv1D)               (None, 496, 64)      704         dropout_3[0][0]                  \n",
      "__________________________________________________________________________________________________\n",
      "max_pooling1d_3 (MaxPooling1D)  (None, 124, 64)      0           conv1d_3[0][0]                   \n",
      "__________________________________________________________________________________________________\n",
      "lstm_3 (LSTM)                   (None, 100)          66000       max_pooling1d_3[0][0]            \n",
      "__________________________________________________________________________________________________\n",
      "veracity_output (Dense)         (None, 1)            101         lstm_3[0][0]                     \n",
      "__________________________________________________________________________________________________\n",
      "categorical_output (Dense)      (None, 5)            505         lstm_3[0][0]                     \n",
      "==================================================================================================\n",
      "Total params: 109,310\n",
      "Trainable params: 109,310\n",
      "Non-trainable params: 0\n",
      "__________________________________________________________________________________________________\n",
      "None\n"
     ]
    }
   ],
   "source": [
    "print(model.summary())"
   ]
  },
  {
   "cell_type": "code",
   "execution_count": 50,
   "metadata": {
    "colab": {
     "base_uri": "https://localhost:8080/",
     "height": 661
    },
    "id": "o1k1bwQC1iaX",
    "outputId": "971d01e3-9c69-46aa-cd2c-91ea97dcea21"
   },
   "outputs": [
    {
     "data": {
      "image/png": "[encoded data removed]",
      "text/plain": [
       "<IPython.core.display.Image object>"
      ]
     },
     "execution_count": 50,
     "metadata": {
      "tags": []
     },
     "output_type": "execute_result"
    }
   ],
   "source": [
    "plot_model(model, to_file='model_plot.png')"
   ]
  },
  {
   "cell_type": "code",
   "execution_count": 51,
   "metadata": {
    "colab": {
     "base_uri": "https://localhost:8080/",
     "height": 753
    },
    "id": "g9Q-7oEP2KMW",
    "outputId": "2462650c-728b-49b9-d4ed-9cf0050f8e78"
   },
   "outputs": [
    {
     "data": {
      "image/png": "[encoded data removed]",
      "text/plain": [
       "<IPython.core.display.Image object>"
      ]
     },
     "execution_count": 51,
     "metadata": {
      "tags": []
     },
     "output_type": "execute_result"
    }
   ],
   "source": [
    "plot_model(model, to_file='model_plot.png', show_shapes=True, show_layer_names=False,)"
   ]
  },
  {
   "cell_type": "code",
   "execution_count": 52,
   "metadata": {
    "id": "WrDlnrb-yvXh"
   },
   "outputs": [],
   "source": [
    "y_train_output = [y_train['VERACITY'], y_train['PREDICTION']]\n",
    "y_dev_output = [y_dev['VERACITY'], y_dev['PREDICTION']]"
   ]
  },
  {
   "cell_type": "code",
   "execution_count": 53,
   "metadata": {
    "id": "Ta8pAuWdzL5I"
   },
   "outputs": [],
   "source": [
    "early_stopping_monitor = EarlyStopping(\n",
    "    monitor='categorical_output_loss',\n",
    "    min_delta=0,\n",
    "    patience=2,\n",
    "    verbose=0,\n",
    "    mode='auto',\n",
    "    baseline=None,\n",
    "    restore_best_weights=True\n",
    ")\n"
   ]
  },
  {
   "cell_type": "code",
   "execution_count": 54,
   "metadata": {
    "colab": {
     "base_uri": "https://localhost:8080/"
    },
    "id": "KkZXE7wXy3aA",
    "outputId": "e137644a-432c-4060-a04e-02d7b414b5ec"
   },
   "outputs": [
    {
     "name": "stderr",
     "output_type": "stream",
     "text": [
      "/usr/local/lib/python3.7/dist-packages/tensorflow_core/python/framework/indexed_slices.py:433: UserWarning: Converting sparse IndexedSlices to a dense Tensor of unknown shape. This may consume a large amount of memory.\n",
      "  \"Converting sparse IndexedSlices to a dense Tensor of unknown shape. \"\n"
     ]
    },
    {
     "name": "stdout",
     "output_type": "stream",
     "text": [
      "Train on 11303 samples, validate on 1256 samples\n",
      "Epoch 1/50\n",
      "11303/11303 [==============================] - 41s 4ms/step - loss: 1.8980 - veracity_output_loss: 0.6938 - categorical_output_loss: 1.2044 - veracity_output_binary_accuracy: 0.5158 - categorical_output_sparse_categorical_accuracy: 0.5731 - val_loss: 1.8734 - val_veracity_output_loss: 0.6925 - val_categorical_output_loss: 1.1793 - val_veracity_output_binary_accuracy: 0.5175 - val_categorical_output_sparse_categorical_accuracy: 0.5661\n",
      "Epoch 2/50\n",
      "11303/11303 [==============================] - 40s 4ms/step - loss: 1.7204 - veracity_output_loss: 0.6883 - categorical_output_loss: 1.0298 - veracity_output_binary_accuracy: 0.5339 - categorical_output_sparse_categorical_accuracy: 0.6141 - val_loss: 1.6336 - val_veracity_output_loss: 0.6838 - val_categorical_output_loss: 0.9481 - val_veracity_output_binary_accuracy: 0.5629 - val_categorical_output_sparse_categorical_accuracy: 0.6831\n",
      "Epoch 3/50\n",
      "11303/11303 [==============================] - 40s 4ms/step - loss: 1.5421 - veracity_output_loss: 0.6820 - categorical_output_loss: 0.8605 - veracity_output_binary_accuracy: 0.5484 - categorical_output_sparse_categorical_accuracy: 0.6900 - val_loss: 1.5320 - val_veracity_output_loss: 0.6798 - val_categorical_output_loss: 0.8511 - val_veracity_output_binary_accuracy: 0.5605 - val_categorical_output_sparse_categorical_accuracy: 0.7014\n",
      "Epoch 4/50\n",
      "11303/11303 [==============================] - 40s 4ms/step - loss: 1.4736 - veracity_output_loss: 0.6827 - categorical_output_loss: 0.7916 - veracity_output_binary_accuracy: 0.5523 - categorical_output_sparse_categorical_accuracy: 0.7164 - val_loss: 1.5272 - val_veracity_output_loss: 0.6828 - val_categorical_output_loss: 0.8430 - val_veracity_output_binary_accuracy: 0.5374 - val_categorical_output_sparse_categorical_accuracy: 0.6982\n",
      "Epoch 5/50\n",
      "11303/11303 [==============================] - 40s 4ms/step - loss: 1.4140 - veracity_output_loss: 0.6785 - categorical_output_loss: 0.7368 - veracity_output_binary_accuracy: 0.5645 - categorical_output_sparse_categorical_accuracy: 0.7351 - val_loss: 1.4775 - val_veracity_output_loss: 0.6771 - val_categorical_output_loss: 0.7999 - val_veracity_output_binary_accuracy: 0.5454 - val_categorical_output_sparse_categorical_accuracy: 0.7110\n",
      "Epoch 6/50\n",
      "11303/11303 [==============================] - 40s 4ms/step - loss: 1.3638 - veracity_output_loss: 0.6756 - categorical_output_loss: 0.6878 - veracity_output_binary_accuracy: 0.5671 - categorical_output_sparse_categorical_accuracy: 0.7543 - val_loss: 1.4714 - val_veracity_output_loss: 0.6759 - val_categorical_output_loss: 0.7955 - val_veracity_output_binary_accuracy: 0.5518 - val_categorical_output_sparse_categorical_accuracy: 0.7166\n",
      "Epoch 7/50\n",
      "11303/11303 [==============================] - 40s 4ms/step - loss: 1.3234 - veracity_output_loss: 0.6726 - categorical_output_loss: 0.6499 - veracity_output_binary_accuracy: 0.5698 - categorical_output_sparse_categorical_accuracy: 0.7634 - val_loss: 1.4953 - val_veracity_output_loss: 0.6774 - val_categorical_output_loss: 0.8177 - val_veracity_output_binary_accuracy: 0.5653 - val_categorical_output_sparse_categorical_accuracy: 0.7142\n",
      "Epoch 8/50\n",
      "11303/11303 [==============================] - 41s 4ms/step - loss: 1.2911 - veracity_output_loss: 0.6687 - categorical_output_loss: 0.6215 - veracity_output_binary_accuracy: 0.5770 - categorical_output_sparse_categorical_accuracy: 0.7771 - val_loss: 1.4807 - val_veracity_output_loss: 0.6737 - val_categorical_output_loss: 0.8069 - val_veracity_output_binary_accuracy: 0.5772 - val_categorical_output_sparse_categorical_accuracy: 0.7197\n",
      "Epoch 9/50\n",
      "11303/11303 [==============================] - 41s 4ms/step - loss: 1.2753 - veracity_output_loss: 0.6629 - categorical_output_loss: 0.6131 - veracity_output_binary_accuracy: 0.5910 - categorical_output_sparse_categorical_accuracy: 0.7824 - val_loss: 1.4869 - val_veracity_output_loss: 0.6757 - val_categorical_output_loss: 0.8108 - val_veracity_output_binary_accuracy: 0.5661 - val_categorical_output_sparse_categorical_accuracy: 0.7174\n",
      "Epoch 10/50\n",
      "11303/11303 [==============================] - 41s 4ms/step - loss: 1.2408 - veracity_output_loss: 0.6618 - categorical_output_loss: 0.5782 - veracity_output_binary_accuracy: 0.5936 - categorical_output_sparse_categorical_accuracy: 0.7930 - val_loss: 1.5108 - val_veracity_output_loss: 0.6714 - val_categorical_output_loss: 0.8395 - val_veracity_output_binary_accuracy: 0.5764 - val_categorical_output_sparse_categorical_accuracy: 0.7038\n",
      "Epoch 11/50\n",
      "11303/11303 [==============================] - 41s 4ms/step - loss: 1.2234 - veracity_output_loss: 0.6560 - categorical_output_loss: 0.5672 - veracity_output_binary_accuracy: 0.6041 - categorical_output_sparse_categorical_accuracy: 0.7974 - val_loss: 1.5107 - val_veracity_output_loss: 0.6717 - val_categorical_output_loss: 0.8393 - val_veracity_output_binary_accuracy: 0.5908 - val_categorical_output_sparse_categorical_accuracy: 0.7038\n",
      "Epoch 12/50\n",
      "11303/11303 [==============================] - 41s 4ms/step - loss: 1.2076 - veracity_output_loss: 0.6510 - categorical_output_loss: 0.5586 - veracity_output_binary_accuracy: 0.6087 - categorical_output_sparse_categorical_accuracy: 0.8021 - val_loss: 1.5533 - val_veracity_output_loss: 0.6752 - val_categorical_output_loss: 0.8780 - val_veracity_output_binary_accuracy: 0.5717 - val_categorical_output_sparse_categorical_accuracy: 0.6799\n",
      "Epoch 13/50\n",
      "11303/11303 [==============================] - 40s 4ms/step - loss: 1.1814 - veracity_output_loss: 0.6434 - categorical_output_loss: 0.5393 - veracity_output_binary_accuracy: 0.6207 - categorical_output_sparse_categorical_accuracy: 0.8042 - val_loss: 1.5615 - val_veracity_output_loss: 0.6932 - val_categorical_output_loss: 0.8679 - val_veracity_output_binary_accuracy: 0.5637 - val_categorical_output_sparse_categorical_accuracy: 0.6903\n",
      "Epoch 14/50\n",
      "11303/11303 [==============================] - 41s 4ms/step - loss: 1.1533 - veracity_output_loss: 0.6367 - categorical_output_loss: 0.5166 - veracity_output_binary_accuracy: 0.6289 - categorical_output_sparse_categorical_accuracy: 0.8178 - val_loss: 1.5483 - val_veracity_output_loss: 0.6740 - val_categorical_output_loss: 0.8733 - val_veracity_output_binary_accuracy: 0.5756 - val_categorical_output_sparse_categorical_accuracy: 0.6943\n",
      "Epoch 15/50\n",
      "11303/11303 [==============================] - 40s 4ms/step - loss: 1.1528 - veracity_output_loss: 0.6277 - categorical_output_loss: 0.5241 - veracity_output_binary_accuracy: 0.6438 - categorical_output_sparse_categorical_accuracy: 0.8112 - val_loss: 1.5929 - val_veracity_output_loss: 0.6870 - val_categorical_output_loss: 0.9051 - val_veracity_output_binary_accuracy: 0.5828 - val_categorical_output_sparse_categorical_accuracy: 0.6887\n",
      "Epoch 16/50\n",
      "11303/11303 [==============================] - 40s 4ms/step - loss: 1.1208 - veracity_output_loss: 0.6156 - categorical_output_loss: 0.5048 - veracity_output_binary_accuracy: 0.6529 - categorical_output_sparse_categorical_accuracy: 0.8222 - val_loss: 1.6160 - val_veracity_output_loss: 0.7000 - val_categorical_output_loss: 0.9150 - val_veracity_output_binary_accuracy: 0.5748 - val_categorical_output_sparse_categorical_accuracy: 0.6839\n",
      "Epoch 17/50\n",
      "11303/11303 [==============================] - 41s 4ms/step - loss: 1.1041 - veracity_output_loss: 0.6071 - categorical_output_loss: 0.4974 - veracity_output_binary_accuracy: 0.6631 - categorical_output_sparse_categorical_accuracy: 0.8249 - val_loss: 1.6290 - val_veracity_output_loss: 0.6840 - val_categorical_output_loss: 0.9430 - val_veracity_output_binary_accuracy: 0.5764 - val_categorical_output_sparse_categorical_accuracy: 0.6839\n",
      "Epoch 18/50\n",
      "11303/11303 [==============================] - 41s 4ms/step - loss: 1.0928 - veracity_output_loss: 0.5984 - categorical_output_loss: 0.4958 - veracity_output_binary_accuracy: 0.6703 - categorical_output_sparse_categorical_accuracy: 0.8270 - val_loss: 1.6070 - val_veracity_output_loss: 0.6895 - val_categorical_output_loss: 0.9165 - val_veracity_output_binary_accuracy: 0.5725 - val_categorical_output_sparse_categorical_accuracy: 0.6967\n",
      "Epoch 19/50\n",
      "11303/11303 [==============================] - 41s 4ms/step - loss: 1.0797 - veracity_output_loss: 0.5876 - categorical_output_loss: 0.4922 - veracity_output_binary_accuracy: 0.6742 - categorical_output_sparse_categorical_accuracy: 0.8266 - val_loss: 1.6157 - val_veracity_output_loss: 0.6882 - val_categorical_output_loss: 0.9269 - val_veracity_output_binary_accuracy: 0.5796 - val_categorical_output_sparse_categorical_accuracy: 0.6967\n",
      "Epoch 20/50\n",
      "11303/11303 [==============================] - 41s 4ms/step - loss: 1.0469 - veracity_output_loss: 0.5758 - categorical_output_loss: 0.4709 - veracity_output_binary_accuracy: 0.6899 - categorical_output_sparse_categorical_accuracy: 0.8357 - val_loss: 1.6722 - val_veracity_output_loss: 0.7072 - val_categorical_output_loss: 0.9631 - val_veracity_output_binary_accuracy: 0.5725 - val_categorical_output_sparse_categorical_accuracy: 0.6847\n",
      "Epoch 21/50\n",
      "11303/11303 [==============================] - 40s 4ms/step - loss: 1.0428 - veracity_output_loss: 0.5655 - categorical_output_loss: 0.4787 - veracity_output_binary_accuracy: 0.6969 - categorical_output_sparse_categorical_accuracy: 0.8318 - val_loss: 1.6445 - val_veracity_output_loss: 0.7011 - val_categorical_output_loss: 0.9424 - val_veracity_output_binary_accuracy: 0.5645 - val_categorical_output_sparse_categorical_accuracy: 0.6943\n",
      "Epoch 22/50\n",
      "11303/11303 [==============================] - 40s 4ms/step - loss: 1.0292 - veracity_output_loss: 0.5547 - categorical_output_loss: 0.4735 - veracity_output_binary_accuracy: 0.7053 - categorical_output_sparse_categorical_accuracy: 0.8318 - val_loss: 1.6535 - val_veracity_output_loss: 0.7101 - val_categorical_output_loss: 0.9425 - val_veracity_output_binary_accuracy: 0.5645 - val_categorical_output_sparse_categorical_accuracy: 0.6903\n"
     ]
    },
    {
     "data": {
      "text/plain": [
       "<keras.callbacks.callbacks.History at 0x7f5c411facd0>"
      ]
     },
     "execution_count": 54,
     "metadata": {
      "tags": []
     },
     "output_type": "execute_result"
    }
   ],
   "source": [
    "model.fit(X_train, y_train_output,\n",
    "          epochs=50, \n",
    "          batch_size=128,\n",
    "          class_weight=classes_weights, \n",
    "          verbose=1, \n",
    "          validation_data=(X_dev,y_dev_output),\n",
    "          callbacks=[early_stopping_monitor])"
   ]
  },
  {
   "cell_type": "code",
   "execution_count": 66,
   "metadata": {
    "colab": {
     "base_uri": "https://localhost:8080/"
    },
    "id": "TmKckNUu0LoS",
    "outputId": "ee12cba5-de1d-416b-d682-21a010447a91"
   },
   "outputs": [
    {
     "name": "stdout",
     "output_type": "stream",
     "text": [
      "Veracity prediction accuracy:\n",
      "\n",
      "              precision    recall  f1-score   support\n",
      "\n",
      "        Fake       0.65      0.45      0.53       746\n",
      "        Real       0.53      0.72      0.61       650\n",
      "\n",
      "    accuracy                           0.58      1396\n",
      "   macro avg       0.59      0.58      0.57      1396\n",
      "weighted avg       0.59      0.58      0.57      1396\n",
      "\n",
      "Emotion classification accuracy:\n",
      "\n",
      "              precision    recall  f1-score   support\n",
      "\n",
      "         joy       0.89      0.80      0.84       797\n",
      "        fear       0.14      0.03      0.05        63\n",
      "     neutral       0.31      0.53      0.39       186\n",
      "       anger       0.60      0.66      0.63       313\n",
      "     sadness       0.00      0.00      0.00        37\n",
      "\n",
      "    accuracy                           0.68      1396\n",
      "   macro avg       0.39      0.41      0.38      1396\n",
      "weighted avg       0.69      0.68      0.68      1396\n",
      "\n"
     ]
    },
    {
     "name": "stderr",
     "output_type": "stream",
     "text": [
      "/usr/local/lib/python3.7/dist-packages/sklearn/metrics/_classification.py:1272: UndefinedMetricWarning: Precision and F-score are ill-defined and being set to 0.0 in labels with no predicted samples. Use `zero_division` parameter to control this behavior.\n",
      "  _warn_prf(average, modifier, msg_start, len(result))\n"
     ]
    }
   ],
   "source": [
    "THRESHOLD = 0.5\n",
    "y_pred = model.predict(X_test)\n",
    "\n",
    "# Veracity Output.\n",
    "y_pred[0][y_pred[0]>=THRESHOLD] = 1\n",
    "y_pred[0][y_pred[0]<THRESHOLD] = 0\n",
    "print('Veracity prediction accuracy:\\n')\n",
    "print(classification_report(y_test[output_columns_binary[0]], y_pred[0], target_names=['Fake', 'Real']))\n",
    "\n",
    "# Emotion Classification Output\n",
    "y_pred_emo = np.argmax(y_pred[1], axis=1)\n",
    "print('Emotion classification accuracy:\\n')\n",
    "print(classification_report(y_test[output_columns_categorical], y_pred_emo, target_names=['joy', 'fear', 'neutral', 'anger', 'sadness']))"
   ]
  },
  {
   "cell_type": "code",
   "execution_count": null,
   "metadata": {
    "id": "nlQbAf09GQOI"
   },
   "outputs": [],
   "source": [
    "model.save('../trained_models/multitask_model.h5')"
   ]
  }
 ],
 "metadata": {
  "colab": {
   "collapsed_sections": [],
   "name": "dissertation_multitask_final.ipynb",
   "provenance": []
  },
  "kernelspec": {
   "display_name": "Python 3",
   "language": "python",
   "name": "python3"
  },
  "language_info": {
   "codemirror_mode": {
    "name": "ipython",
    "version": 3
   },
   "file_extension": ".py",
   "mimetype": "text/x-python",
   "name": "python",
   "nbconvert_exporter": "python",
   "pygments_lexer": "ipython3",
   "version": "3.8.6"
  }
 },
 "nbformat": 4,
 "nbformat_minor": 1
}
