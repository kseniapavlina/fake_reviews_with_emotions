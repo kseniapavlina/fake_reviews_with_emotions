{
 "cells": [
  {
   "cell_type": "code",
   "execution_count": 4,
   "metadata": {
    "id": "NPyedNToaszi"
   },
   "outputs": [],
   "source": [
    "import keras\n",
    "import matplotlib.pyplot as plt\n",
    "import numpy as np\n",
    "import os\n",
    "import pandas as pd\n",
    "import re\n",
    "import seaborn as sn\n",
    "import urllib.request\n",
    "import zipfile\n",
    "\n",
    "from keras.callbacks import EarlyStopping\n",
    "from keras.layers import Embedding, Conv1D, GlobalMaxPooling1D, Dense\n",
    "from keras.models import Sequential\n",
    "from keras.preprocessing.text import Tokenizer\n",
    "from keras.preprocessing.sequence import pad_sequences\n",
    "from keras.utils import to_categorical\n",
    "from nltk.tokenize import word_tokenize\n",
    "from sklearn.metrics import accuracy_score, f1_score, confusion_matrix, classification_report\n",
    "from sklearn.model_selection import train_test_split"
   ]
  },
  {
   "cell_type": "code",
   "execution_count": 5,
   "metadata": {
    "id": "WgBVEPOHatZh"
   },
   "outputs": [],
   "source": [
    "num_classes = 7\n",
    "\n",
    "# Number of dimensions for word embeddings.\n",
    "embed_num_dims = 300\n",
    "\n",
    "max_seq_len = 500"
   ]
  },
  {
   "cell_type": "code",
   "execution_count": 6,
   "metadata": {
    "id": "-uM5gFuSU_D0"
   },
   "outputs": [],
   "source": [
    "data = pd.read_csv('../../data/training_data/data_train_7_classes.csv')"
   ]
  },
  {
   "cell_type": "code",
   "execution_count": null,
   "metadata": {
    "id": "fkRMHRRPa4U3"
   },
   "outputs": [],
   "source": [
    "# Define emotion classes\n",
    "emotions = ['neutral', 'anger', 'disgust', 'fear', 'happiness', 'sadness', 'surprise']"
   ]
  },
  {
   "cell_type": "code",
   "execution_count": null,
   "metadata": {
    "colab": {
     "base_uri": "https://localhost:8080/"
    },
    "id": "GGswKJama-ds",
    "outputId": "bba8d27d-333b-4c03-836f-e313dbe5b207"
   },
   "outputs": [
    {
     "data": {
      "text/plain": [
       "neutral      15573\n",
       "happiness     7885\n",
       "surprise      1823\n",
       "sadness       1150\n",
       "anger         1022\n",
       "disgust        353\n",
       "fear           174\n",
       "Name: Emotion, dtype: int64"
      ]
     },
     "execution_count": 6,
     "metadata": {
      "tags": []
     },
     "output_type": "execute_result"
    }
   ],
   "source": [
    "# Data is very skewed, so drop some entries from over populated classes to reduce training time and bias.\n",
    "data = data.drop(data[data['Emotion'].eq('neutral')].sample(70000).index)\n",
    "data = data.drop(data[data['Emotion'].eq('happiness')].sample(5000).index)\n",
    "data.Emotion.value_counts()"
   ]
  },
  {
   "cell_type": "code",
   "execution_count": null,
   "metadata": {
    "id": "KcVSqLFybAt9"
   },
   "outputs": [],
   "source": [
    "# # Split training data into training and test sets.\n",
    "X_train, X_test, y_train, y_test = train_test_split(data.Text, data.Emotion,\n",
    "                                                  stratify=data.Emotion, \n",
    "                                                  shuffle=True,\n",
    "                                                  test_size=0.1)\n",
    "X_test = X_test.tolist()\n",
    "\n",
    "# # Split training data into training and validation sets.\n",
    "X_train, X_dev, y_train, y_dev = train_test_split(X_train, y_train,\n",
    "                                                  stratify=y_train, \n",
    "                                                  shuffle=True,\n",
    "                                                  test_size=0.2)\n",
    "X_train = X_train.tolist()\n",
    "X_dev = X_dev.tolist()"
   ]
  },
  {
   "cell_type": "code",
   "execution_count": null,
   "metadata": {
    "id": "gJUUldHIbGYh"
   },
   "outputs": [],
   "source": [
    "def clean_text(text):\n",
    "    \"\"\"Clean text and tokenise.\"\"\" \n",
    "    text = text.lower()\n",
    "    \n",
    "    # Remove common contractions.\n",
    "    text = re.sub(r\"can't\", 'cannot', text)\n",
    "    text = re.sub(r\"\\'s\",' ', text)\n",
    "    text = re.sub(r\"\\'ve\", ' have ', text)\n",
    "    text = re.sub(r\"n't\", ' not ', text)\n",
    "    text = re.sub(r\" im \", ' i am ', text)\n",
    "    text = re.sub(r\"i'm\", 'i am ', text)\n",
    "    text = re.sub(r\"\\'re\", ' are ', text)\n",
    "    text = re.sub(r\"\\'ll\", ' will ', text)\n",
    "    \n",
    "    # Remove hashtags and tags.\n",
    "    text = re.sub(r\"(#[\\d\\w\\.]+)\", '', text)\n",
    "    text = re.sub(r\"(@[\\d\\w\\.]+)\", '', text)    \n",
    "                \n",
    "    # Remove operations and process punctuation.           \n",
    "    text = re.sub(r\",\", \" \", text)\n",
    "    text = re.sub(r\"\\.\", \" \", text)\n",
    "    text = re.sub(r\"!\", \" ! \", text)\n",
    "    text = re.sub(r\"\\/\", \" \", text)\n",
    "    text = re.sub(r\"\\^\", \" ^ \", text)\n",
    "    text = re.sub(r\"\\+\", \" + \", text)\n",
    "    text = re.sub(r\"\\-\", \" - \", text)\n",
    "    text = re.sub(r\"\\=\", \" = \", text)\n",
    "  \n",
    "    # Remove remaining punctuation and missed symbols.\n",
    "    text = re.sub(r'[^a-zA-Z0-9]', ' ', text)\n",
    "\n",
    "    text = word_tokenize(text)\n",
    "    return ' '.join(text)"
   ]
  },
  {
   "cell_type": "code",
   "execution_count": null,
   "metadata": {
    "colab": {
     "base_uri": "https://localhost:8080/"
    },
    "id": "RojvuPCLbRBl",
    "outputId": "ec8d6a39-7c26-40b4-fbf2-a3172870e92d"
   },
   "outputs": [
    {
     "name": "stdout",
     "output_type": "stream",
     "text": [
      "[nltk_data] Downloading package punkt to /root/nltk_data...\n",
      "[nltk_data]   Unzipping tokenizers/punkt.zip.\n"
     ]
    },
    {
     "data": {
      "text/plain": [
       "True"
      ]
     },
     "execution_count": 9,
     "metadata": {
      "tags": []
     },
     "output_type": "execute_result"
    }
   ],
   "source": [
    "import nltk\n",
    "nltk.download('punkt')"
   ]
  },
  {
   "cell_type": "code",
   "execution_count": null,
   "metadata": {
    "id": "-RZPmdLqbLWC"
   },
   "outputs": [],
   "source": [
    "texts = [clean_text(text) for text in data.Text]\n",
    "\n",
    "texts_train = [clean_text(text) for text in X_train]\n",
    "texts_dev = [clean_text(text) for text in X_dev]\n",
    "texts_test = [clean_text(text) for text in X_test]"
   ]
  },
  {
   "cell_type": "code",
   "execution_count": null,
   "metadata": {
    "id": "5AS2EGMabPFP"
   },
   "outputs": [],
   "source": [
    "tokenizer = Tokenizer()\n",
    "tokenizer.fit_on_texts(texts)\n",
    "\n",
    "seq_train = tokenizer.texts_to_sequences(texts_train)\n",
    "seq_dev = tokenizer.texts_to_sequences(texts_dev)\n",
    "seq_test = tokenizer.texts_to_sequences(texts_test)\n",
    "\n",
    "index_of_words = tokenizer.word_index\n",
    "\n",
    "# Reserve 1 for padding.\n",
    "vocab_size = len(index_of_words) + 1"
   ]
  },
  {
   "cell_type": "code",
   "execution_count": null,
   "metadata": {
    "id": "fGrFfQ2lbUXE"
   },
   "outputs": [],
   "source": [
    "X_train_pad = pad_sequences(seq_train, maxlen = max_seq_len)\n",
    "X_dev_pad = pad_sequences(seq_dev, maxlen = max_seq_len)\n",
    "X_test_pad = pad_sequences(seq_test, maxlen = max_seq_len)"
   ]
  },
  {
   "cell_type": "code",
   "execution_count": null,
   "metadata": {
    "id": "DFyEbDl7bWCp"
   },
   "outputs": [],
   "source": [
    "# Assign integer labels to y values.\n",
    "encoding = {\n",
    "    'neutral': 0,\n",
    "    'anger': 1,\n",
    "    'disgust': 2,\n",
    "    'fear': 3,\n",
    "    'happiness': 4,\n",
    "    'sadness': 5,\n",
    "    'surprise': 6\n",
    "}\n",
    "\n",
    "y_train = [encoding[x] for x in y_train]\n",
    "y_dev = [encoding[x] for x in y_dev]\n",
    "y_test = [encoding[x] for x in y_test]"
   ]
  },
  {
   "cell_type": "code",
   "execution_count": null,
   "metadata": {
    "id": "gJsqa4BAbXIe"
   },
   "outputs": [],
   "source": [
    "y_train = to_categorical(y_train)\n",
    "y_dev = to_categorical(y_dev)\n",
    "y_test = to_categorical(y_test)"
   ]
  },
  {
   "cell_type": "code",
   "execution_count": null,
   "metadata": {
    "id": "P-HVZq8ebYRn"
   },
   "outputs": [],
   "source": [
    "def create_embedding_matrix(filepath, word_index, embedding_dim, vocab_size):\n",
    "    embedding_matrix = np.zeros((vocab_size, embedding_dim))\n",
    "    with open(filepath) as f:\n",
    "        for line in f:\n",
    "            word, *vector = line.split()\n",
    "            if word in word_index:\n",
    "                idx = word_index[word] \n",
    "                embedding_matrix[idx] = np.array(\n",
    "                    vector, dtype=np.float32)[:embedding_dim]\n",
    "    return embedding_matrix"
   ]
  },
  {
   "cell_type": "code",
   "execution_count": null,
   "metadata": {
    "colab": {
     "base_uri": "https://localhost:8080/"
    },
    "id": "DLf2jnB0bZfe",
    "outputId": "f2466e79-b9d2-48c2-f203-8962a46f16c7"
   },
   "outputs": [
    {
     "name": "stdout",
     "output_type": "stream",
     "text": [
      "Geting word vectors...\n",
      "Done.\n"
     ]
    }
   ],
   "source": [
    "fname = 'embeddings/wiki-news-300d-1M.vec'\n",
    "if not os.path.isfile(fname):\n",
    "    print('Geting word vectors...')\n",
    "    urllib.request.urlretrieve('https://dl.fbaipublicfiles.com/fasttext/vectors-english/wiki-news-300d-1M.vec.zip',\n",
    "                              'wiki-news-300d-1M.vec.zip')\n",
    "    with zipfile.ZipFile('wiki-news-300d-1M.vec.zip', 'r') as zip_ref:\n",
    "        zip_ref.extractall('embeddings')\n",
    "    print('Done.')\n",
    "    os.remove('wiki-news-300d-1M.vec.zip')"
   ]
  },
  {
   "cell_type": "code",
   "execution_count": null,
   "metadata": {
    "id": "QZYfO_w-baix"
   },
   "outputs": [],
   "source": [
    "embedding_matrix = create_embedding_matrix(fname, index_of_words, embed_num_dims, vocab_size)"
   ]
  },
  {
   "cell_type": "code",
   "execution_count": null,
   "metadata": {
    "id": "NGy4taybbdWM"
   },
   "outputs": [],
   "source": [
    "# The following hyperparameters have been tried before settling on the best ones.\n",
    "# A model has been created for each set and performances compared, code is omitted for clarity.\n",
    "kernel_sizes = [3, 5]\n",
    "filters = [64, 128, 256]\n",
    "learning_rates = [0.01, 0.001, 0.0001]\n",
    "max_seq_length = [300, 500]"
   ]
  },
  {
   "cell_type": "code",
   "execution_count": 46,
   "metadata": {
    "colab": {
     "base_uri": "https://localhost:8080/"
    },
    "id": "-oDz-ZDZbeqN",
    "outputId": "908d1d20-4307-45b5-f8f2-e363d90de918"
   },
   "outputs": [
    {
     "name": "stdout",
     "output_type": "stream",
     "text": [
      "Model: \"sequential_3\"\n",
      "_________________________________________________________________\n",
      "Layer (type)                 Output Shape              Param #   \n",
      "=================================================================\n",
      "embedding_3 (Embedding)      (None, 500, 300)          3417000   \n",
      "_________________________________________________________________\n",
      "conv1d_3 (Conv1D)            (None, 498, 256)          230656    \n",
      "_________________________________________________________________\n",
      "global_max_pooling1d_3 (Glob (None, 256)               0         \n",
      "_________________________________________________________________\n",
      "dense_6 (Dense)              (None, 256)               65792     \n",
      "_________________________________________________________________\n",
      "dense_7 (Dense)              (None, 7)                 1799      \n",
      "=================================================================\n",
      "Total params: 3,715,247\n",
      "Trainable params: 298,247\n",
      "Non-trainable params: 3,417,000\n",
      "_________________________________________________________________\n"
     ]
    }
   ],
   "source": [
    "# Define final model.\n",
    "kernel_size = 3\n",
    "filters = 256\n",
    "\n",
    "embedding_layer = Embedding(vocab_size,\n",
    "                            embed_num_dims,\n",
    "                            input_length = max_seq_len,\n",
    "                            weights = [embedding_matrix],\n",
    "                            trainable=False)\n",
    "\n",
    "model = Sequential()\n",
    "model.add(embedding_layer)\n",
    "model.add(Conv1D(filters, kernel_size, activation='relu'))\n",
    "model.add(GlobalMaxPooling1D())\n",
    "model.add(Dense(256, activation='relu'))\n",
    "model.add(Dense(num_classes, activation='softmax'))\n",
    "\n",
    "opt = keras.optimizers.Adam(learning_rate=0.0001)\n",
    "model.compile(loss = 'categorical_crossentropy', optimizer = opt, metrics = ['accuracy'])\n",
    "model.summary()"
   ]
  },
  {
   "cell_type": "code",
   "execution_count": 47,
   "metadata": {
    "colab": {
     "base_uri": "https://localhost:8080/"
    },
    "id": "l3IVTy0Pbiww",
    "outputId": "b28a7a5e-74e1-4e44-8237-8e86a9c887d7"
   },
   "outputs": [
    {
     "name": "stdout",
     "output_type": "stream",
     "text": [
      "Epoch 1/50\n",
      "315/315 [==============================] - 8s 23ms/step - loss: 1.3343 - accuracy: 0.5522 - val_loss: 1.0398 - val_accuracy: 0.6540\n",
      "Epoch 2/50\n",
      "315/315 [==============================] - 7s 22ms/step - loss: 0.9977 - accuracy: 0.6634 - val_loss: 0.9187 - val_accuracy: 0.6825\n",
      "Epoch 3/50\n",
      "315/315 [==============================] - 7s 22ms/step - loss: 0.8719 - accuracy: 0.6900 - val_loss: 0.8435 - val_accuracy: 0.7062\n",
      "Epoch 4/50\n",
      "315/315 [==============================] - 7s 22ms/step - loss: 0.7919 - accuracy: 0.7163 - val_loss: 0.8120 - val_accuracy: 0.7115\n",
      "Epoch 5/50\n",
      "315/315 [==============================] - 7s 22ms/step - loss: 0.7450 - accuracy: 0.7298 - val_loss: 0.8020 - val_accuracy: 0.7139\n",
      "Epoch 6/50\n",
      "315/315 [==============================] - 7s 22ms/step - loss: 0.7151 - accuracy: 0.7410 - val_loss: 0.7832 - val_accuracy: 0.7187\n",
      "Epoch 7/50\n",
      "315/315 [==============================] - 7s 22ms/step - loss: 0.6741 - accuracy: 0.7578 - val_loss: 0.7787 - val_accuracy: 0.7197\n",
      "Epoch 8/50\n",
      "315/315 [==============================] - 7s 22ms/step - loss: 0.6387 - accuracy: 0.7695 - val_loss: 0.7821 - val_accuracy: 0.7211\n",
      "Epoch 9/50\n",
      "315/315 [==============================] - 7s 22ms/step - loss: 0.6114 - accuracy: 0.7804 - val_loss: 0.7679 - val_accuracy: 0.7240\n",
      "Epoch 10/50\n",
      "315/315 [==============================] - 7s 22ms/step - loss: 0.5683 - accuracy: 0.8007 - val_loss: 0.7699 - val_accuracy: 0.7254\n",
      "Epoch 11/50\n",
      "315/315 [==============================] - 7s 22ms/step - loss: 0.5484 - accuracy: 0.8112 - val_loss: 0.7653 - val_accuracy: 0.7242\n",
      "Epoch 12/50\n",
      "315/315 [==============================] - 7s 22ms/step - loss: 0.5155 - accuracy: 0.8246 - val_loss: 0.7706 - val_accuracy: 0.7201\n",
      "Epoch 13/50\n",
      "315/315 [==============================] - 7s 22ms/step - loss: 0.4851 - accuracy: 0.8356 - val_loss: 0.7678 - val_accuracy: 0.7266\n"
     ]
    }
   ],
   "source": [
    "batch_size = 64\n",
    "max_epochs = 50\n",
    "early_stopping_monitor = EarlyStopping(\n",
    "    monitor='val_loss',\n",
    "    min_delta=0,\n",
    "    patience=2,\n",
    "    verbose=0,\n",
    "    mode='auto',\n",
    "    baseline=None,\n",
    "    restore_best_weights=True\n",
    ")\n",
    "\n",
    "history = model.fit(X_train_pad, y_train, \n",
    "                    batch_size=batch_size,\n",
    "                    epochs=max_epochs,\n",
    "                    validation_data=(X_dev_pad, y_dev),\n",
    "                    callbacks=[early_stopping_monitor])"
   ]
  },
  {
   "cell_type": "code",
   "execution_count": 48,
   "metadata": {
    "colab": {
     "base_uri": "https://localhost:8080/",
     "height": 572
    },
    "id": "G75gxtpNbkrB",
    "outputId": "7f2141f6-d22d-4f1a-cc10-7aeaba53ea65"
   },
   "outputs": [
    {
     "data": {
      "image/png": "[encoded data removed]",
      "text/plain": [
       "<Figure size 432x288 with 1 Axes>"
      ]
     },
     "metadata": {
      "needs_background": "light",
      "tags": []
     },
     "output_type": "display_data"
    },
    {
     "data": {
      "image/png": "[encoded data removed]",
      "text/plain": [
       "<Figure size 432x288 with 1 Axes>"
      ]
     },
     "metadata": {
      "needs_background": "light",
      "tags": []
     },
     "output_type": "display_data"
    }
   ],
   "source": [
    "# Plot loss and accuracy.\n",
    "plt.plot(history.history['accuracy'])\n",
    "plt.plot(history.history['val_accuracy'])\n",
    "plt.title('Model Accuracy')\n",
    "plt.ylabel('Accuracy')\n",
    "plt.xlabel('Epoch')\n",
    "plt.legend(['Training Accuracy', 'Validation Accuracy'], loc='upper left')\n",
    "plt.show()\n",
    "\n",
    "plt.plot(history.history['loss'])\n",
    "plt.plot(history.history['val_loss'])\n",
    "plt.title('Model Loss')\n",
    "plt.ylabel('Loss')\n",
    "plt.xlabel('Epoch')\n",
    "plt.legend(['Training Loss', 'Validation Loss'], loc='upper left')\n",
    "plt.show()"
   ]
  },
  {
   "cell_type": "code",
   "execution_count": 49,
   "metadata": {
    "id": "Og0ksU1jb3kR"
   },
   "outputs": [],
   "source": [
    "# See test set results.\n",
    "predictions = model.predict(X_test_pad)\n",
    "predictions = np.argmax(predictions, axis=1)\n",
    "predictions = [emotions[pred] for pred in predictions]"
   ]
  },
  {
   "cell_type": "code",
   "execution_count": 50,
   "metadata": {
    "id": "RayInMsKdleg"
   },
   "outputs": [],
   "source": [
    "y_test_emo = [emotions[np.where(i == 1)[0][0]] for i in y_test]"
   ]
  },
  {
   "cell_type": "code",
   "execution_count": 52,
   "metadata": {
    "colab": {
     "base_uri": "https://localhost:8080/"
    },
    "id": "bpfELrI1cOf6",
    "outputId": "33a8834a-c543-493e-8c60-e321582046e0"
   },
   "outputs": [
    {
     "name": "stdout",
     "output_type": "stream",
     "text": [
      "CNN 7 classes classification report: \n",
      "              precision    recall  f1-score   support\n",
      "\n",
      "       anger     0.4490    0.2157    0.2914       102\n",
      "     disgust     0.0000    0.0000    0.0000        35\n",
      "        fear     0.0000    0.0000    0.0000        18\n",
      "   happiness     0.7064    0.6679    0.6866       789\n",
      "     neutral     0.7350    0.8446    0.7860      1557\n",
      "     sadness     0.4948    0.4174    0.4528       115\n",
      "    surprise     0.7607    0.4890    0.5953       182\n",
      "\n",
      "    accuracy                         0.7152      2798\n",
      "   macro avg     0.4494    0.3764    0.4017      2798\n",
      "weighted avg     0.6944    0.7152    0.6990      2798\n",
      "\n"
     ]
    },
    {
     "name": "stderr",
     "output_type": "stream",
     "text": [
      "/usr/local/lib/python3.7/dist-packages/sklearn/metrics/_classification.py:1272: UndefinedMetricWarning: Precision and F-score are ill-defined and being set to 0.0 in labels with no predicted samples. Use `zero_division` parameter to control this behavior.\n",
      "  _warn_prf(average, modifier, msg_start, len(result))\n"
     ]
    }
   ],
   "source": [
    "print('CNN 7 classes classification report: ') \n",
    "print(classification_report(y_test_emo, predictions, digits=4))"
   ]
  },
  {
   "cell_type": "code",
   "execution_count": 53,
   "metadata": {
    "colab": {
     "base_uri": "https://localhost:8080/",
     "height": 473
    },
    "id": "nri6G9cqcPgh",
    "outputId": "72d6b50e-0458-404a-fb1d-e61e67062168"
   },
   "outputs": [
    {
     "data": {
      "text/plain": [
       "Text(0.5, 1.0, 'CNN 7 classes confusion matrix')"
      ]
     },
     "execution_count": 53,
     "metadata": {
      "tags": []
     },
     "output_type": "execute_result"
    },
    {
     "data": {
      "image/png": "[encoded data removed]",
      "text/plain": [
       "<Figure size 648x504 with 2 Axes>"
      ]
     },
     "metadata": {
      "needs_background": "light",
      "tags": []
     },
     "output_type": "display_data"
    }
   ],
   "source": [
    "# Get confusion matrix.\n",
    "df_cm = pd.DataFrame(confusion_matrix(y_test_emo, predictions), index = [i for i in ['anger', 'disgust', 'fear', 'happiness', 'neutral', 'sadness', 'surprise']],\n",
    "                  columns = [i for i in ['anger', 'disgust', 'fear', 'happiness', 'neutral', 'sadness', 'surprise']])\n",
    "plt.figure(figsize = (9,7))\n",
    "hm = sn.heatmap(df_cm, annot=True, fmt='g')\n",
    "hm.set_xlabel('Predicted Values')\n",
    "hm.set_ylabel('Real Values')\n",
    "hm.set_title('CNN 7 classes confusion matrix')"
   ]
  },
  {
   "cell_type": "code",
   "execution_count": null,
   "metadata": {
    "id": "FApyOOjIfHCf"
   },
   "outputs": [],
   "source": []
  }
 ],
 "metadata": {
  "accelerator": "GPU",
  "colab": {
   "collapsed_sections": [],
   "name": "dissertation_cnn_7.ipynb",
   "provenance": []
  },
  "kernelspec": {
   "display_name": "Python 3",
   "language": "python",
   "name": "python3"
  },
  "language_info": {
   "codemirror_mode": {
    "name": "ipython",
    "version": 3
   },
   "file_extension": ".py",
   "mimetype": "text/x-python",
   "name": "python",
   "nbconvert_exporter": "python",
   "pygments_lexer": "ipython3",
   "version": "3.8.6"
  }
 },
 "nbformat": 4,
 "nbformat_minor": 1
}
