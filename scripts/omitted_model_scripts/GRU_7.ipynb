{
 "cells": [
  {
   "cell_type": "code",
   "execution_count": null,
   "metadata": {
    "id": "1nv8M4HBidYr"
   },
   "outputs": [],
   "source": [
    "import keras\n",
    "import matplotlib.pyplot as plt\n",
    "import numpy as np\n",
    "import os\n",
    "import pandas as pd\n",
    "import re\n",
    "import seaborn as sn\n",
    "import urllib.request\n",
    "import zipfile\n",
    "\n",
    "from keras.callbacks import EarlyStopping\n",
    "from keras.layers import Embedding, Bidirectional, LSTM, GRU, Dense\n",
    "from keras.models import Sequential\n",
    "from keras.preprocessing.text import Tokenizer\n",
    "from keras.preprocessing.sequence import pad_sequences\n",
    "from keras.utils import to_categorical\n",
    "from nltk.tokenize import word_tokenize\n",
    "from sklearn.metrics import accuracy_score, f1_score, confusion_matrix, classification_report\n",
    "from sklearn.model_selection import train_test_split"
   ]
  },
  {
   "cell_type": "code",
   "execution_count": null,
   "metadata": {
    "id": "9OrkmRdfid1s"
   },
   "outputs": [],
   "source": [
    "# Number of labels: joy, anger, fear, sadness, neutral\n",
    "num_classes = 7\n",
    "\n",
    "# Number of dimensions for word embedding\n",
    "embed_num_dims = 300\n",
    "\n",
    "# Max input length (max number of words) \n",
    "max_seq_len = 500\n",
    "\n",
    "emotions = ['neutral', 'anger', 'disgust', 'fear', 'happiness', 'sadness', 'surprise']"
   ]
  },
  {
   "cell_type": "code",
   "execution_count": null,
   "metadata": {
    "id": "lQkVxmfpitwP"
   },
   "outputs": [],
   "source": [
    "data = pd.read_csv('../../data/training_data/data_train_7_classes.csv')"
   ]
  },
  {
   "cell_type": "code",
   "execution_count": null,
   "metadata": {
    "colab": {
     "base_uri": "https://localhost:8080/"
    },
    "id": "LSUEmhGhi2i6",
    "outputId": "40e92298-c535-4790-c395-a275905549a8"
   },
   "outputs": [
    {
     "data": {
      "text/plain": [
       "neutral      15573\n",
       "happiness     7885\n",
       "surprise      1823\n",
       "sadness       1150\n",
       "anger         1022\n",
       "disgust        353\n",
       "fear           174\n",
       "Name: Emotion, dtype: int64"
      ]
     },
     "execution_count": 11,
     "metadata": {
      "tags": []
     },
     "output_type": "execute_result"
    }
   ],
   "source": [
    "# Data is very skewed, so drop some entries from over populated classes to reduce training time and bias.\n",
    "data = data.drop(data[data['Emotion'].eq('neutral')].sample(70000).index)\n",
    "data = data.drop(data[data['Emotion'].eq('happiness')].sample(5000).index)\n",
    "data.Emotion.value_counts()"
   ]
  },
  {
   "cell_type": "code",
   "execution_count": null,
   "metadata": {
    "id": "2c6LFOr9i6Rk"
   },
   "outputs": [],
   "source": [
    "# # Split training data into training and test sets.\n",
    "X_train, X_test, y_train, y_test = train_test_split(data.Text, data.Emotion,\n",
    "                                                  stratify=data.Emotion, \n",
    "                                                  shuffle=True,\n",
    "                                                  test_size=0.1)\n",
    "X_test = X_test.tolist()\n",
    "\n",
    "# # Split training data into training and validation sets.\n",
    "X_train, X_dev, y_train, y_dev = train_test_split(X_train, y_train,\n",
    "                                                  stratify=y_train, \n",
    "                                                  shuffle=True,\n",
    "                                                  test_size=0.2)\n",
    "X_train = X_train.tolist()\n",
    "X_dev = X_dev.tolist()"
   ]
  },
  {
   "cell_type": "code",
   "execution_count": null,
   "metadata": {
    "id": "PDaNfKxUi8Bu"
   },
   "outputs": [],
   "source": [
    "def clean_text(text):\n",
    "    \"\"\"Clean text and tokenise.\"\"\" \n",
    "    text = text.lower()\n",
    "    \n",
    "    # Remove common contractions.\n",
    "    text = re.sub(r\"can't\", 'cannot', text)\n",
    "    text = re.sub(r\"\\'s\",' ', text)\n",
    "    text = re.sub(r\"\\'ve\", ' have ', text)\n",
    "    text = re.sub(r\"n't\", ' not ', text)\n",
    "    text = re.sub(r\" im \", ' i am ', text)\n",
    "    text = re.sub(r\"i'm\", 'i am ', text)\n",
    "    text = re.sub(r\"\\'re\", ' are ', text)\n",
    "    text = re.sub(r\"\\'ll\", ' will ', text)\n",
    "    \n",
    "    # Remove hashtags and tags.\n",
    "    text = re.sub(r\"(#[\\d\\w\\.]+)\", '', text)\n",
    "    text = re.sub(r\"(@[\\d\\w\\.]+)\", '', text)    \n",
    "                \n",
    "    # Remove operations and process punctuation.           \n",
    "    text = re.sub(r\",\", \" \", text)\n",
    "    text = re.sub(r\"\\.\", \" \", text)\n",
    "    text = re.sub(r\"!\", \" ! \", text)\n",
    "    text = re.sub(r\"\\/\", \" \", text)\n",
    "    text = re.sub(r\"\\^\", \" ^ \", text)\n",
    "    text = re.sub(r\"\\+\", \" + \", text)\n",
    "    text = re.sub(r\"\\-\", \" - \", text)\n",
    "    text = re.sub(r\"\\=\", \" = \", text)\n",
    "  \n",
    "    # Remove remaining punctuation and missed symbols.\n",
    "    text = re.sub(r'[^a-zA-Z0-9]', ' ', text)\n",
    "\n",
    "    text = word_tokenize(text)\n",
    "    return ' '.join(text)"
   ]
  },
  {
   "cell_type": "code",
   "execution_count": null,
   "metadata": {
    "colab": {
     "base_uri": "https://localhost:8080/"
    },
    "id": "68gW0hKbi9z5",
    "outputId": "1a50a181-9d34-4351-dd5c-7825db4c46fc"
   },
   "outputs": [
    {
     "name": "stdout",
     "output_type": "stream",
     "text": [
      "[nltk_data] Downloading package punkt to /root/nltk_data...\n",
      "[nltk_data]   Unzipping tokenizers/punkt.zip.\n"
     ]
    },
    {
     "data": {
      "text/plain": [
       "True"
      ]
     },
     "execution_count": 14,
     "metadata": {
      "tags": []
     },
     "output_type": "execute_result"
    }
   ],
   "source": [
    "import nltk\n",
    "nltk.download('punkt')"
   ]
  },
  {
   "cell_type": "code",
   "execution_count": null,
   "metadata": {
    "id": "yaSfCxt6jCMQ"
   },
   "outputs": [],
   "source": [
    "texts = [clean_text(text) for text in data.Text]\n",
    "\n",
    "texts_train = [clean_text(text) for text in X_train]\n",
    "texts_dev = [clean_text(text) for text in X_dev]\n",
    "texts_test = [clean_text(text) for text in X_test]"
   ]
  },
  {
   "cell_type": "code",
   "execution_count": null,
   "metadata": {
    "id": "gz47tDDAjDsq"
   },
   "outputs": [],
   "source": [
    "tokenizer = Tokenizer()\n",
    "tokenizer.fit_on_texts(texts)\n",
    "\n",
    "seq_train = tokenizer.texts_to_sequences(texts_train)\n",
    "seq_dev = tokenizer.texts_to_sequences(texts_dev)\n",
    "seq_test = tokenizer.texts_to_sequences(texts_test)\n",
    "\n",
    "index_of_words = tokenizer.word_index\n",
    "\n",
    "# Reserve 1 for padding.\n",
    "vocab_size = len(index_of_words) + 1"
   ]
  },
  {
   "cell_type": "code",
   "execution_count": null,
   "metadata": {
    "id": "9u4lanqVjE6D"
   },
   "outputs": [],
   "source": [
    "X_train_pad = pad_sequences(seq_train, maxlen = max_seq_len)\n",
    "X_dev_pad = pad_sequences(seq_dev, maxlen = max_seq_len)\n",
    "X_test_pad = pad_sequences(seq_test, maxlen = max_seq_len)"
   ]
  },
  {
   "cell_type": "code",
   "execution_count": null,
   "metadata": {
    "id": "Q30TUu1AjGOb"
   },
   "outputs": [],
   "source": [
    "# Assign integer labels to y values.\n",
    "encoding = {\n",
    "    'neutral': 0,\n",
    "    'anger': 1,\n",
    "    'disgust': 2,\n",
    "    'fear': 3,\n",
    "    'happiness': 4,\n",
    "    'sadness': 5,\n",
    "    'surprise': 6\n",
    "}\n",
    "\n",
    "y_train = [encoding[x] for x in y_train]\n",
    "y_dev = [encoding[x] for x in y_dev]\n",
    "y_test = [encoding[x] for x in y_test]"
   ]
  },
  {
   "cell_type": "code",
   "execution_count": null,
   "metadata": {
    "id": "gy626EuHjHQq"
   },
   "outputs": [],
   "source": [
    "y_train = to_categorical(y_train)\n",
    "y_dev = to_categorical(y_dev)\n",
    "y_test = to_categorical(y_test)"
   ]
  },
  {
   "cell_type": "code",
   "execution_count": null,
   "metadata": {
    "id": "59ieXMXAjIkJ"
   },
   "outputs": [],
   "source": [
    "def create_embedding_matrix(filepath, word_index, embedding_dim, vocab_size):\n",
    "    embedding_matrix = np.zeros((vocab_size, embedding_dim))\n",
    "    with open(filepath) as f:\n",
    "        for line in f:\n",
    "            word, *vector = line.split()\n",
    "            if word in word_index:\n",
    "                idx = word_index[word] \n",
    "                embedding_matrix[idx] = np.array(\n",
    "                    vector, dtype=np.float32)[:embedding_dim]\n",
    "    return embedding_matrix"
   ]
  },
  {
   "cell_type": "code",
   "execution_count": null,
   "metadata": {
    "colab": {
     "base_uri": "https://localhost:8080/"
    },
    "id": "AYOZL3QLjJkW",
    "outputId": "67357bde-0aaa-4697-9f13-e4e1bc59786f"
   },
   "outputs": [
    {
     "name": "stdout",
     "output_type": "stream",
     "text": [
      "Geting word vectors...\n",
      "Done.\n"
     ]
    }
   ],
   "source": [
    "fname = 'embeddings/wiki-news-300d-1M.vec'\n",
    "if not os.path.isfile(fname):\n",
    "    print('Geting word vectors...')\n",
    "    urllib.request.urlretrieve('https://dl.fbaipublicfiles.com/fasttext/vectors-english/wiki-news-300d-1M.vec.zip',\n",
    "                              'wiki-news-300d-1M.vec.zip')\n",
    "    with zipfile.ZipFile('wiki-news-300d-1M.vec.zip', 'r') as zip_ref:\n",
    "        zip_ref.extractall('embeddings')\n",
    "    print('Done.')\n",
    "    os.remove('wiki-news-300d-1M.vec.zip')"
   ]
  },
  {
   "cell_type": "code",
   "execution_count": null,
   "metadata": {
    "id": "L-1a-BmzjK37"
   },
   "outputs": [],
   "source": [
    "embedding_matrix = create_embedding_matrix(fname, index_of_words, embed_num_dims, vocab_size)"
   ]
  },
  {
   "cell_type": "code",
   "execution_count": null,
   "metadata": {
    "id": "pGX7ogvajMqL"
   },
   "outputs": [],
   "source": [
    "# The following hyperparameters have been tried before settling on the best ones.\n",
    "# A model has been created for each set and performances compared, code is omitted for clarity.\n",
    "dropout = [0.1, 0.2]\n",
    "rec_dropout = 0.1\n",
    "batches = [64, 128]\n",
    "gru_output_size = [64,128]"
   ]
  },
  {
   "cell_type": "code",
   "execution_count": null,
   "metadata": {
    "colab": {
     "base_uri": "https://localhost:8080/"
    },
    "id": "ooH1q7F2jPBI",
    "outputId": "848c4601-8818-4a67-fbda-5ac84f3ddc9a"
   },
   "outputs": [
    {
     "name": "stdout",
     "output_type": "stream",
     "text": [
      "WARNING:tensorflow:Layer gru will not use cuDNN kernel since it doesn't meet the cuDNN kernel criteria. It will use generic GPU kernel as fallback when running on GPU\n",
      "WARNING:tensorflow:Layer gru will not use cuDNN kernel since it doesn't meet the cuDNN kernel criteria. It will use generic GPU kernel as fallback when running on GPU\n",
      "WARNING:tensorflow:Layer gru will not use cuDNN kernel since it doesn't meet the cuDNN kernel criteria. It will use generic GPU kernel as fallback when running on GPU\n",
      "Model: \"sequential\"\n",
      "_________________________________________________________________\n",
      "Layer (type)                 Output Shape              Param #   \n",
      "=================================================================\n",
      "embedding (Embedding)        (None, 500, 300)          3366300   \n",
      "_________________________________________________________________\n",
      "bidirectional (Bidirectional (None, 256)               330240    \n",
      "_________________________________________________________________\n",
      "dense (Dense)                (None, 7)                 1799      \n",
      "=================================================================\n",
      "Total params: 3,698,339\n",
      "Trainable params: 332,039\n",
      "Non-trainable params: 3,366,300\n",
      "_________________________________________________________________\n"
     ]
    }
   ],
   "source": [
    "# Define final model.\n",
    "embedding_layer = Embedding(vocab_size,\n",
    "                         embed_num_dims,\n",
    "                         input_length = max_seq_len,\n",
    "                         weights = [embedding_matrix],\n",
    "                         trainable=False)\n",
    "\n",
    "model = Sequential()\n",
    "model.add(embedding_layer)\n",
    "model.add(Bidirectional(GRU(units=128,\n",
    "                      dropout=0.2,\n",
    "                      recurrent_dropout=0.1)))\n",
    "model.add(Dense(num_classes, activation='softmax'))\n",
    "model.compile(loss = 'categorical_crossentropy', optimizer = 'adam', metrics = ['accuracy'])\n",
    "model.summary()"
   ]
  },
  {
   "cell_type": "code",
   "execution_count": null,
   "metadata": {
    "colab": {
     "base_uri": "https://localhost:8080/"
    },
    "id": "BS86s2HXjbbN",
    "outputId": "879f90e1-5661-4065-dc02-3301f5b03be0"
   },
   "outputs": [
    {
     "name": "stdout",
     "output_type": "stream",
     "text": [
      "Epoch 1/50\n",
      "315/315 [==============================] - 1285s 4s/step - loss: 1.1942 - accuracy: 0.5994 - val_loss: 0.9184 - val_accuracy: 0.6758\n",
      "Epoch 2/50\n",
      "315/315 [==============================] - 1286s 4s/step - loss: 0.8855 - accuracy: 0.6817 - val_loss: 0.8337 - val_accuracy: 0.7006\n",
      "Epoch 3/50\n",
      "315/315 [==============================] - 1292s 4s/step - loss: 0.8191 - accuracy: 0.7036 - val_loss: 0.8153 - val_accuracy: 0.7038\n",
      "Epoch 4/50\n",
      "315/315 [==============================] - 1319s 4s/step - loss: 0.7903 - accuracy: 0.7120 - val_loss: 0.7968 - val_accuracy: 0.7103\n",
      "Epoch 5/50\n",
      "315/315 [==============================] - 1320s 4s/step - loss: 0.7655 - accuracy: 0.7179 - val_loss: 0.7894 - val_accuracy: 0.7113\n",
      "Epoch 6/50\n",
      "315/315 [==============================] - 1300s 4s/step - loss: 0.7402 - accuracy: 0.7250 - val_loss: 0.7822 - val_accuracy: 0.7125\n",
      "Epoch 7/50\n",
      "315/315 [==============================] - 1309s 4s/step - loss: 0.7144 - accuracy: 0.7325 - val_loss: 0.7989 - val_accuracy: 0.7129\n",
      "Epoch 8/50\n",
      "315/315 [==============================] - 1321s 4s/step - loss: 0.7051 - accuracy: 0.7374 - val_loss: 0.7756 - val_accuracy: 0.7080\n",
      "Epoch 9/50\n",
      "315/315 [==============================] - 1328s 4s/step - loss: 0.6583 - accuracy: 0.7554 - val_loss: 0.7769 - val_accuracy: 0.7131\n",
      "Epoch 10/50\n",
      "315/315 [==============================] - 1359s 4s/step - loss: 0.6675 - accuracy: 0.7509 - val_loss: 0.7926 - val_accuracy: 0.7159\n"
     ]
    }
   ],
   "source": [
    "batch_size = 64\n",
    "max_epochs = 50\n",
    "\n",
    "early_stopping_monitor = EarlyStopping(\n",
    "    monitor='val_loss',\n",
    "    min_delta=0,\n",
    "    patience=2,\n",
    "    verbose=0,\n",
    "    mode='auto',\n",
    "    baseline=None,\n",
    "    restore_best_weights=True\n",
    ")\n",
    "\n",
    "history = model.fit(X_train_pad, y_train, \n",
    "                    batch_size=batch_size,\n",
    "                    epochs=max_epochs,\n",
    "                    validation_data=(X_dev_pad, y_dev),\n",
    "                    callbacks=[early_stopping_monitor])"
   ]
  },
  {
   "cell_type": "code",
   "execution_count": null,
   "metadata": {
    "colab": {
     "base_uri": "https://localhost:8080/",
     "height": 573
    },
    "id": "jHfm0ETLj_gu",
    "outputId": "418dde6d-5008-4334-97ce-e642082f8615"
   },
   "outputs": [
    {
     "data": {
      "image/png": "[encoded data removed]",
      "text/plain": [
       "<Figure size 432x288 with 1 Axes>"
      ]
     },
     "metadata": {
      "needs_background": "light",
      "tags": []
     },
     "output_type": "display_data"
    },
    {
     "data": {
      "image/png": "[encoded data removed]",
      "text/plain": [
       "<Figure size 432x288 with 1 Axes>"
      ]
     },
     "metadata": {
      "needs_background": "light",
      "tags": []
     },
     "output_type": "display_data"
    }
   ],
   "source": [
    "# Plot loss and accuracy.\n",
    "plt.plot(history.history['accuracy'])\n",
    "plt.plot(history.history['val_accuracy'])\n",
    "plt.title('Model Accuracy')\n",
    "plt.ylabel('Accuracy')\n",
    "plt.xlabel('Epoch')\n",
    "plt.legend(['Training Accuracy', 'Validation Accuracy'], loc='upper left')\n",
    "plt.show()\n",
    "\n",
    "plt.plot(history.history['loss'])\n",
    "plt.plot(history.history['val_loss'])\n",
    "plt.title('Model Loss')\n",
    "plt.ylabel('Loss')\n",
    "plt.xlabel('Epoch')\n",
    "plt.legend(['Training Loss', 'Validation Loss'], loc='upper left')\n",
    "plt.show()"
   ]
  },
  {
   "cell_type": "code",
   "execution_count": null,
   "metadata": {
    "id": "eRPB-dZukHZy"
   },
   "outputs": [],
   "source": [
    "# See test set results.\n",
    "predictions = model.predict(X_test_pad)\n",
    "predictions = np.argmax(predictions, axis=1)\n",
    "predictions = [emotions[pred] for pred in predictions]"
   ]
  },
  {
   "cell_type": "code",
   "execution_count": null,
   "metadata": {
    "id": "i2JixQj0kJGB"
   },
   "outputs": [],
   "source": [
    "y_test_emo = [emotions[np.where(i == 1)[0][0]] for i in y_test]"
   ]
  },
  {
   "cell_type": "code",
   "execution_count": null,
   "metadata": {
    "colab": {
     "base_uri": "https://localhost:8080/"
    },
    "id": "ilki5tehkKU5",
    "outputId": "38b2f121-2d54-4a65-9e04-8213f5aa3f12"
   },
   "outputs": [
    {
     "name": "stdout",
     "output_type": "stream",
     "text": [
      "GRU 7 classes classification report: \n",
      "              precision    recall  f1-score   support\n",
      "\n",
      "       anger     0.4528    0.2353    0.3097       102\n",
      "     disgust     0.7500    0.1714    0.2791        35\n",
      "        fear     0.6667    0.1111    0.1905        18\n",
      "   happiness     0.7044    0.7098    0.7071       789\n",
      "     neutral     0.7513    0.8439    0.7949      1557\n",
      "     sadness     0.6078    0.2696    0.3735       115\n",
      "    surprise     0.7914    0.6044    0.6854       182\n",
      "\n",
      "    accuracy                         0.7316      2798\n",
      "   macro avg     0.6749    0.4208    0.4772      2798\n",
      "weighted avg     0.7233    0.7316    0.7177      2798\n",
      "\n"
     ]
    }
   ],
   "source": [
    "print('GRU 7 classes classification report: ') \n",
    "print(classification_report(y_test_emo, predictions, digits=4))"
   ]
  },
  {
   "cell_type": "code",
   "execution_count": null,
   "metadata": {
    "colab": {
     "base_uri": "https://localhost:8080/",
     "height": 476
    },
    "id": "b7tSQxGEkMO-",
    "outputId": "40ada1e0-005c-4558-d08b-d2a477ad2695"
   },
   "outputs": [
    {
     "data": {
      "text/plain": [
       "Text(0.5, 1.0, 'GRU 7 classes confusion matrix')"
      ]
     },
     "execution_count": 30,
     "metadata": {
      "tags": []
     },
     "output_type": "execute_result"
    },
    {
     "data": {
      "image/png": "[encoded data removed]",
      "text/plain": [
       "<Figure size 648x504 with 2 Axes>"
      ]
     },
     "metadata": {
      "needs_background": "light",
      "tags": []
     },
     "output_type": "display_data"
    }
   ],
   "source": [
    "# Get confusion matrix.\n",
    "df_cm = pd.DataFrame(confusion_matrix(y_test_emo, predictions), index = [i for i in ['anger', 'disgust', 'fear', 'happiness', 'neutral', 'sadness', 'surprise']],\n",
    "                  columns = [i for i in ['anger', 'disgust', 'fear', 'happiness', 'neutral', 'sadness', 'surprise']])\n",
    "plt.figure(figsize = (9,7))\n",
    "hm = sn.heatmap(df_cm, annot=True, fmt='g')\n",
    "hm.set_xlabel('Predicted Values')\n",
    "hm.set_ylabel('Real Values')\n",
    "hm.set_title('GRU 7 classes confusion matrix')"
   ]
  },
  {
   "cell_type": "code",
   "execution_count": null,
   "metadata": {
    "id": "tXAafs1tkYQy"
   },
   "outputs": [],
   "source": []
  }
 ],
 "metadata": {
  "accelerator": "GPU",
  "colab": {
   "collapsed_sections": [],
   "name": "Untitled0.ipynb",
   "provenance": []
  },
  "kernelspec": {
   "display_name": "Python 3",
   "language": "python",
   "name": "python3"
  },
  "language_info": {
   "codemirror_mode": {
    "name": "ipython",
    "version": 3
   },
   "file_extension": ".py",
   "mimetype": "text/x-python",
   "name": "python",
   "nbconvert_exporter": "python",
   "pygments_lexer": "ipython3",
   "version": "3.8.6"
  }
 },
 "nbformat": 4,
 "nbformat_minor": 1
}
