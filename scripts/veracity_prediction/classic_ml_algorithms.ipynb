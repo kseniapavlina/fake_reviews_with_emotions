{
 "cells": [
  {
   "cell_type": "code",
   "execution_count": 1,
   "metadata": {},
   "outputs": [],
   "source": [
    "import numpy as np\n",
    "import os\n",
    "import pandas as pd\n",
    "\n",
    "from sklearn import metrics\n",
    "from sklearn.feature_extraction.text import CountVectorizer, TfidfTransformer\n",
    "from sklearn.linear_model import LogisticRegression\n",
    "from sklearn.metrics import accuracy_score, classification_report, confusion_matrix, f1_score, precision_score, recall_score\n",
    "from sklearn.model_selection import cross_validate, train_test_split\n",
    "from sklearn.naive_bayes import BernoulliNB, GaussianNB, MultinomialNB\n",
    "from sklearn.pipeline import Pipeline\n",
    "from sklearn.svm import LinearSVC"
   ]
  },
  {
   "cell_type": "markdown",
   "metadata": {},
   "source": [
    "#### First, load data and encode probabilities for int dense matrices ####"
   ]
  },
  {
   "cell_type": "code",
   "execution_count": 2,
   "metadata": {},
   "outputs": [],
   "source": [
    "# Obtain final dataset.\n",
    "my_data = pd.read_csv('../../data/results/amazon_final.csv')"
   ]
  },
  {
   "cell_type": "code",
   "execution_count": 3,
   "metadata": {},
   "outputs": [],
   "source": [
    "def replace_probabilities(prob):\n",
    "    \"\"\"\n",
    "    replace_probabilities encodes raw probabilities as integers.\n",
    "    \"\"\"\n",
    "    prob *= 10\n",
    "    return int(prob)"
   ]
  },
  {
   "cell_type": "code",
   "execution_count": 4,
   "metadata": {},
   "outputs": [
    {
     "data": {
      "text/html": [
       "<div>\n",
       "<style scoped>\n",
       "    .dataframe tbody tr th:only-of-type {\n",
       "        vertical-align: middle;\n",
       "    }\n",
       "\n",
       "    .dataframe tbody tr th {\n",
       "        vertical-align: top;\n",
       "    }\n",
       "\n",
       "    .dataframe thead th {\n",
       "        text-align: right;\n",
       "    }\n",
       "</style>\n",
       "<table border=\"1\" class=\"dataframe\">\n",
       "  <thead>\n",
       "    <tr style=\"text-align: right;\">\n",
       "      <th></th>\n",
       "      <th>index</th>\n",
       "      <th>REVIEW_TEXT</th>\n",
       "      <th>VERACITY</th>\n",
       "      <th>PREDICTION</th>\n",
       "      <th>joy</th>\n",
       "      <th>fear</th>\n",
       "      <th>neutral</th>\n",
       "      <th>anger</th>\n",
       "      <th>sadness</th>\n",
       "    </tr>\n",
       "  </thead>\n",
       "  <tbody>\n",
       "    <tr>\n",
       "      <th>0</th>\n",
       "      <td>0</td>\n",
       "      <td>When least you think so, this product will sav...</td>\n",
       "      <td>0</td>\n",
       "      <td>0</td>\n",
       "      <td>1</td>\n",
       "      <td>0</td>\n",
       "      <td>6</td>\n",
       "      <td>1</td>\n",
       "      <td>0</td>\n",
       "    </tr>\n",
       "    <tr>\n",
       "      <th>1</th>\n",
       "      <td>1</td>\n",
       "      <td>Lithium batteries are something new introduced...</td>\n",
       "      <td>0</td>\n",
       "      <td>4</td>\n",
       "      <td>1</td>\n",
       "      <td>1</td>\n",
       "      <td>0</td>\n",
       "      <td>6</td>\n",
       "      <td>0</td>\n",
       "    </tr>\n",
       "    <tr>\n",
       "      <th>2</th>\n",
       "      <td>2</td>\n",
       "      <td>I purchased this swing for my baby. She is 6 m...</td>\n",
       "      <td>0</td>\n",
       "      <td>0</td>\n",
       "      <td>2</td>\n",
       "      <td>0</td>\n",
       "      <td>4</td>\n",
       "      <td>1</td>\n",
       "      <td>1</td>\n",
       "    </tr>\n",
       "    <tr>\n",
       "      <th>3</th>\n",
       "      <td>3</td>\n",
       "      <td>I was looking for an inexpensive desk calcolat...</td>\n",
       "      <td>0</td>\n",
       "      <td>1</td>\n",
       "      <td>1</td>\n",
       "      <td>4</td>\n",
       "      <td>1</td>\n",
       "      <td>2</td>\n",
       "      <td>0</td>\n",
       "    </tr>\n",
       "    <tr>\n",
       "      <th>4</th>\n",
       "      <td>5</td>\n",
       "      <td>I m not sure what this is supposed to be but I...</td>\n",
       "      <td>0</td>\n",
       "      <td>0</td>\n",
       "      <td>2</td>\n",
       "      <td>0</td>\n",
       "      <td>6</td>\n",
       "      <td>0</td>\n",
       "      <td>0</td>\n",
       "    </tr>\n",
       "    <tr>\n",
       "      <th>...</th>\n",
       "      <td>...</td>\n",
       "      <td>...</td>\n",
       "      <td>...</td>\n",
       "      <td>...</td>\n",
       "      <td>...</td>\n",
       "      <td>...</td>\n",
       "      <td>...</td>\n",
       "      <td>...</td>\n",
       "      <td>...</td>\n",
       "    </tr>\n",
       "    <tr>\n",
       "      <th>13980</th>\n",
       "      <td>20964</td>\n",
       "      <td>These shoes are absolutely amazing. They are t...</td>\n",
       "      <td>1</td>\n",
       "      <td>3</td>\n",
       "      <td>7</td>\n",
       "      <td>0</td>\n",
       "      <td>1</td>\n",
       "      <td>0</td>\n",
       "      <td>0</td>\n",
       "    </tr>\n",
       "    <tr>\n",
       "      <th>13981</th>\n",
       "      <td>20966</td>\n",
       "      <td>My son had ordered it but when it arrived, he ...</td>\n",
       "      <td>1</td>\n",
       "      <td>4</td>\n",
       "      <td>0</td>\n",
       "      <td>0</td>\n",
       "      <td>0</td>\n",
       "      <td>7</td>\n",
       "      <td>0</td>\n",
       "    </tr>\n",
       "    <tr>\n",
       "      <th>13982</th>\n",
       "      <td>20967</td>\n",
       "      <td>These shoes fit well.  I purchased to wear to ...</td>\n",
       "      <td>1</td>\n",
       "      <td>3</td>\n",
       "      <td>6</td>\n",
       "      <td>0</td>\n",
       "      <td>1</td>\n",
       "      <td>0</td>\n",
       "      <td>0</td>\n",
       "    </tr>\n",
       "    <tr>\n",
       "      <th>13983</th>\n",
       "      <td>20968</td>\n",
       "      <td>These slippers are soft, warm, and very cozy. ...</td>\n",
       "      <td>1</td>\n",
       "      <td>3</td>\n",
       "      <td>5</td>\n",
       "      <td>0</td>\n",
       "      <td>2</td>\n",
       "      <td>1</td>\n",
       "      <td>0</td>\n",
       "    </tr>\n",
       "    <tr>\n",
       "      <th>13984</th>\n",
       "      <td>20969</td>\n",
       "      <td>I bought these for work.  I have high arches, ...</td>\n",
       "      <td>1</td>\n",
       "      <td>0</td>\n",
       "      <td>1</td>\n",
       "      <td>0</td>\n",
       "      <td>5</td>\n",
       "      <td>1</td>\n",
       "      <td>0</td>\n",
       "    </tr>\n",
       "  </tbody>\n",
       "</table>\n",
       "<p>13985 rows × 9 columns</p>\n",
       "</div>"
      ],
      "text/plain": [
       "       index                                        REVIEW_TEXT  VERACITY  \\\n",
       "0          0  When least you think so, this product will sav...         0   \n",
       "1          1  Lithium batteries are something new introduced...         0   \n",
       "2          2  I purchased this swing for my baby. She is 6 m...         0   \n",
       "3          3  I was looking for an inexpensive desk calcolat...         0   \n",
       "4          5  I m not sure what this is supposed to be but I...         0   \n",
       "...      ...                                                ...       ...   \n",
       "13980  20964  These shoes are absolutely amazing. They are t...         1   \n",
       "13981  20966  My son had ordered it but when it arrived, he ...         1   \n",
       "13982  20967  These shoes fit well.  I purchased to wear to ...         1   \n",
       "13983  20968  These slippers are soft, warm, and very cozy. ...         1   \n",
       "13984  20969  I bought these for work.  I have high arches, ...         1   \n",
       "\n",
       "       PREDICTION  joy  fear  neutral  anger  sadness  \n",
       "0               0    1     0        6      1        0  \n",
       "1               4    1     1        0      6        0  \n",
       "2               0    2     0        4      1        1  \n",
       "3               1    1     4        1      2        0  \n",
       "4               0    2     0        6      0        0  \n",
       "...           ...  ...   ...      ...    ...      ...  \n",
       "13980           3    7     0        1      0        0  \n",
       "13981           4    0     0        0      7        0  \n",
       "13982           3    6     0        1      0        0  \n",
       "13983           3    5     0        2      1        0  \n",
       "13984           0    1     0        5      1        0  \n",
       "\n",
       "[13985 rows x 9 columns]"
      ]
     },
     "execution_count": 4,
     "metadata": {},
     "output_type": "execute_result"
    }
   ],
   "source": [
    "# Obtain a copy of data with probabilities replaced with integers.\n",
    "data = my_data.copy()\n",
    "\n",
    "data['joy'] = data['joy'].apply(lambda x: replace_probabilities(x))\n",
    "data['sadness'] = data['sadness'].apply(lambda x: replace_probabilities(x))\n",
    "data['fear'] = data['fear'].apply(lambda x: replace_probabilities(x))\n",
    "data['anger'] = data['anger'].apply(lambda x: replace_probabilities(x))\n",
    "data['neutral'] = data['neutral'].apply(lambda x: replace_probabilities(x))\n",
    "\n",
    "# Encode outputs.\n",
    "data['PREDICTION'] = data['PREDICTION'].apply({'neutral':0, 'fear':1, 'sadness':2, 'joy':3,'anger':4}.get)\n",
    "data['VERACITY'] = data['VERACITY'].apply({'Fake':0,'Real':1}.get)\n",
    "\n",
    "data"
   ]
  },
  {
   "cell_type": "code",
   "execution_count": 5,
   "metadata": {},
   "outputs": [],
   "source": [
    "# Store main output separately.\n",
    "y = data['VERACITY']"
   ]
  },
  {
   "cell_type": "markdown",
   "metadata": {},
   "source": [
    "### Define the pipeline ###"
   ]
  },
  {
   "cell_type": "code",
   "execution_count": 6,
   "metadata": {},
   "outputs": [],
   "source": [
    "# Define a pipeline for feature extraction and apply to review texts.\n",
    "pipe = Pipeline([('vect', CountVectorizer()),\n",
    "                 ('tfidf', TfidfTransformer())])\n",
    "x = pipe.fit_transform(data['REVIEW_TEXT'])"
   ]
  },
  {
   "cell_type": "markdown",
   "metadata": {},
   "source": [
    "#### Create a matrix with added integer emotion classification results ####"
   ]
  },
  {
   "cell_type": "code",
   "execution_count": 7,
   "metadata": {},
   "outputs": [
    {
     "data": {
      "text/plain": [
       "matrix([[0., 0., 0., ..., 0., 1., 6.],\n",
       "        [0., 0., 0., ..., 1., 6., 0.],\n",
       "        [0., 0., 0., ..., 0., 1., 4.],\n",
       "        ...,\n",
       "        [0., 0., 0., ..., 0., 0., 1.],\n",
       "        [0., 0., 0., ..., 0., 1., 2.],\n",
       "        [0., 0., 0., ..., 0., 1., 5.]])"
      ]
     },
     "execution_count": 7,
     "metadata": {},
     "output_type": "execute_result"
    }
   ],
   "source": [
    "# Concatenate emotion classification results with textual features.\n",
    "dense_matrix_int = x.todense()\n",
    "dense_matrix_int = np.insert(dense_matrix_int,dense_matrix_int.shape[1],[data['PREDICTION'], data['joy'], data['sadness'], data['fear'], data['anger'], data['neutral']],axis=1)\n",
    "dense_matrix_int"
   ]
  },
  {
   "cell_type": "markdown",
   "metadata": {},
   "source": [
    "#### Create a matrix with added float emotion classification results ####"
   ]
  },
  {
   "cell_type": "code",
   "execution_count": 8,
   "metadata": {},
   "outputs": [],
   "source": [
    "# Concatenate emotion classification results with textual features.\n",
    "dense_matrix_f = x.todense()\n",
    "dense_matrix_float = dense_matrix_f.astype(float)\n",
    "dense_matrix_float = np.insert(dense_matrix_float,dense_matrix_float.shape[1],[data['PREDICTION'], my_data['joy'], my_data['sadness'], my_data['fear'], my_data['anger'], my_data['neutral']],axis=1)"
   ]
  },
  {
   "cell_type": "markdown",
   "metadata": {},
   "source": [
    "### Classify based on textual features using pipeline ###"
   ]
  },
  {
   "cell_type": "code",
   "execution_count": 9,
   "metadata": {},
   "outputs": [],
   "source": [
    "# Extract features.\n",
    "x = pipe.fit_transform(data['REVIEW_TEXT'])"
   ]
  },
  {
   "cell_type": "code",
   "execution_count": 10,
   "metadata": {},
   "outputs": [],
   "source": [
    "# Split text into training and test sets. Pass random state to keep same split across models.\n",
    "x_train, x_test, y_train, y_test =  train_test_split(x, y, test_size = 0.15, random_state = 7)"
   ]
  },
  {
   "cell_type": "code",
   "execution_count": 11,
   "metadata": {},
   "outputs": [
    {
     "name": "stdout",
     "output_type": "stream",
     "text": [
      "Trainining accuracy:  0.800622528812989\n",
      "Test accuracy:  0.6124880838894184\n",
      "\n",
      "Confusion matrix:\n",
      "[[947 165]\n",
      " [648 338]]\n",
      "\n",
      "Classification report:\n",
      "              precision    recall  f1-score   support\n",
      "\n",
      "           0     0.5937    0.8516    0.6997      1112\n",
      "           1     0.6720    0.3428    0.4540       986\n",
      "\n",
      "    accuracy                         0.6125      2098\n",
      "   macro avg     0.6328    0.5972    0.5768      2098\n",
      "weighted avg     0.6305    0.6125    0.5842      2098\n",
      "\n"
     ]
    }
   ],
   "source": [
    "# Fit Multinomial Naive Bayes model.\n",
    "naive_no_emo = MultinomialNB()\n",
    "naive_no_emo.fit(x_train, y_train)\n",
    "print('Trainining accuracy: ', naive_no_emo.score(x_train, y_train))\n",
    "# Make predictions.\n",
    "y_pred_no_emo = naive_no_emo.predict(x_test)\n",
    "print('Test accuracy: ', naive_no_emo.score(x_test, y_test))\n",
    "print()\n",
    "print('Confusion matrix:')\n",
    "print(confusion_matrix(y_test, y_pred_no_emo))\n",
    "print()\n",
    "print('Classification report:')\n",
    "print(classification_report(y_test, y_pred_no_emo, digits=4))"
   ]
  },
  {
   "cell_type": "code",
   "execution_count": 12,
   "metadata": {},
   "outputs": [
    {
     "name": "stdout",
     "output_type": "stream",
     "text": [
      "Training accuracy:  0.7005972911584083\n",
      "Test accuracy:  0.6005719733079123\n",
      "\n",
      "Confusion matrix:\n",
      "[[905 207]\n",
      " [631 355]]\n",
      "\n",
      "Classification report:\n",
      "              precision    recall  f1-score   support\n",
      "\n",
      "           0     0.5892    0.8138    0.6835      1112\n",
      "           1     0.6317    0.3600    0.4587       986\n",
      "\n",
      "    accuracy                         0.6006      2098\n",
      "   macro avg     0.6104    0.5869    0.5711      2098\n",
      "weighted avg     0.6092    0.6006    0.5778      2098\n",
      "\n"
     ]
    }
   ],
   "source": [
    "# Fit Bernoulli Naive Bayes model.\n",
    "naive_b_no_emo = BernoulliNB()\n",
    "naive_b_no_emo.fit(x_train, y_train)\n",
    "print('Training accuracy: ', naive_b_no_emo.score(x_train, y_train))\n",
    "# Make predictions.\n",
    "y_pred_b_no_emo = naive_b_no_emo.predict(x_test)\n",
    "print('Test accuracy: ', naive_b_no_emo.score(x_test, y_test))\n",
    "print()\n",
    "print('Confusion matrix:')\n",
    "print(confusion_matrix(y_test, y_pred_b_no_emo))\n",
    "print()\n",
    "print('Classification report:')\n",
    "print(classification_report(y_test, y_pred_b_no_emo, digits=4))"
   ]
  },
  {
   "cell_type": "code",
   "execution_count": 13,
   "metadata": {},
   "outputs": [
    {
     "name": "stdout",
     "output_type": "stream",
     "text": [
      "Training accuravy:  0.8286363253974931\n",
      "Test accuracy:  0.5638703527168732\n",
      "\n",
      "Confusion matrix:\n",
      "[[828 284]\n",
      " [631 355]]\n",
      "\n",
      "Classification report:\n",
      "              precision    recall  f1-score   support\n",
      "\n",
      "           0     0.5675    0.7446    0.6441      1112\n",
      "           1     0.5556    0.3600    0.4369       986\n",
      "\n",
      "    accuracy                         0.5639      2098\n",
      "   macro avg     0.5615    0.5523    0.5405      2098\n",
      "weighted avg     0.5619    0.5639    0.5467      2098\n",
      "\n"
     ]
    }
   ],
   "source": [
    "# Fit Gaussian Naive Bayes model.\n",
    "naive_g_no_emo = GaussianNB()\n",
    "naive_g_no_emo.fit(x_train.todense(), y_train)\n",
    "print('Training accuravy: ', naive_g_no_emo.score(x_train.todense(), y_train))\n",
    "# Make predictions.\n",
    "y_pred_g_no_emo = naive_g_no_emo.predict(x_test.todense())\n",
    "print('Test accuracy: ', naive_g_no_emo.score(x_test.todense(), y_test))\n",
    "print()\n",
    "print('Confusion matrix:')\n",
    "print(confusion_matrix(y_test, y_pred_g_no_emo))\n",
    "print()\n",
    "print('Classification report:')\n",
    "print(classification_report(y_test, y_pred_g_no_emo, digits=4))"
   ]
  },
  {
   "cell_type": "code",
   "execution_count": 14,
   "metadata": {},
   "outputs": [
    {
     "name": "stdout",
     "output_type": "stream",
     "text": [
      "Training accuracy:  0.9256330445023976\n",
      "Test accuracy:  0.6320305052430887\n",
      "\n",
      "Confusion matrix:\n",
      "[[724 388]\n",
      " [384 602]]\n",
      "\n",
      "Classification report:\n",
      "              precision    recall  f1-score   support\n",
      "\n",
      "           0     0.6534    0.6511    0.6523      1112\n",
      "           1     0.6081    0.6105    0.6093       986\n",
      "\n",
      "    accuracy                         0.6320      2098\n",
      "   macro avg     0.6308    0.6308    0.6308      2098\n",
      "weighted avg     0.6321    0.6320    0.6321      2098\n",
      "\n"
     ]
    }
   ],
   "source": [
    "# Fit a SVM.\n",
    "naive_svm_no_emo = LinearSVC()\n",
    "naive_svm_no_emo.fit(x_train, y_train)\n",
    "print('Training accuracy: ', naive_svm_no_emo.score(x_train, y_train))\n",
    "# Make predictions.\n",
    "y_pred_svm_no_emo = naive_svm_no_emo.predict(x_test)\n",
    "print('Test accuracy: ', naive_svm_no_emo.score(x_test, y_test))\n",
    "print()\n",
    "print('Confusion matrix:')\n",
    "print(confusion_matrix(y_test, y_pred_svm_no_emo))\n",
    "print()\n",
    "print('Classification report:')\n",
    "print(classification_report(y_test, y_pred_svm_no_emo, digits=4))"
   ]
  },
  {
   "cell_type": "code",
   "execution_count": 15,
   "metadata": {},
   "outputs": [
    {
     "name": "stdout",
     "output_type": "stream",
     "text": [
      "Training accuracy:  0.7934718600151426\n",
      "Test accuracy:  0.6406101048617732\n",
      "\n",
      "Confusion matrix:\n",
      "[[736 376]\n",
      " [378 608]]\n",
      "\n",
      "Classification report:\n",
      "              precision    recall  f1-score   support\n",
      "\n",
      "           0     0.6607    0.6619    0.6613      1112\n",
      "           1     0.6179    0.6166    0.6173       986\n",
      "\n",
      "    accuracy                         0.6406      2098\n",
      "   macro avg     0.6393    0.6393    0.6393      2098\n",
      "weighted avg     0.6406    0.6406    0.6406      2098\n",
      "\n"
     ]
    }
   ],
   "source": [
    "# Fit a LR model.\n",
    "lr_no_emo = LogisticRegression()\n",
    "lr_no_emo.fit(x_train, y_train)\n",
    "print('Training accuracy: ', lr_no_emo.score(x_train, y_train))\n",
    "y_pred_lr_no_emo = lr_no_emo.predict(x_test)\n",
    "# Make predictions.\n",
    "print('Test accuracy: ', lr_no_emo.score(x_test, y_test))\n",
    "print()\n",
    "print('Confusion matrix:')\n",
    "print(confusion_matrix(y_test, y_pred_lr_no_emo))\n",
    "print()\n",
    "print('Classification report:')\n",
    "print(classification_report(y_test, y_pred_lr_no_emo, digits=4))"
   ]
  },
  {
   "cell_type": "markdown",
   "metadata": {},
   "source": [
    "### Classify based on textual features with integer-encoded emotions using pipeline ###"
   ]
  },
  {
   "cell_type": "code",
   "execution_count": 16,
   "metadata": {},
   "outputs": [],
   "source": [
    "x_train, x_test, y_train, y_test =  train_test_split(dense_matrix_int, y, test_size = 0.15, random_state = 7)"
   ]
  },
  {
   "cell_type": "code",
   "execution_count": 17,
   "metadata": {},
   "outputs": [
    {
     "name": "stdout",
     "output_type": "stream",
     "text": [
      "Training accuracy:  0.6063767140573736\n",
      "Test accuracy:  0.5838894184938036\n",
      "\n",
      "Confusion matrix:\n",
      "[[770 342]\n",
      " [531 455]]\n",
      "\n",
      "Classification report:\n",
      "              precision    recall  f1-score   support\n",
      "\n",
      "           0     0.5919    0.6924    0.6382      1112\n",
      "           1     0.5709    0.4615    0.5104       986\n",
      "\n",
      "    accuracy                         0.5839      2098\n",
      "   macro avg     0.5814    0.5770    0.5743      2098\n",
      "weighted avg     0.5820    0.5839    0.5781      2098\n",
      "\n"
     ]
    }
   ],
   "source": [
    "# Fit Multinomial Naive Bayes model.\n",
    "naive_extra = MultinomialNB()\n",
    "naive_extra.fit(x_train, y_train)\n",
    "print('Training accuracy: ', naive_extra.score(x_train, y_train))\n",
    "# Make predictions.\n",
    "y_pred_extra = naive_extra.predict(x_test)\n",
    "print('Test accuracy: ', naive_extra.score(x_test, y_test))\n",
    "print()\n",
    "print('Confusion matrix:')\n",
    "print(confusion_matrix(y_test, y_pred_extra))\n",
    "print()\n",
    "print('Classification report:')\n",
    "print(classification_report(y_test, y_pred_extra, digits=4))"
   ]
  },
  {
   "cell_type": "code",
   "execution_count": 18,
   "metadata": {},
   "outputs": [
    {
     "name": "stdout",
     "output_type": "stream",
     "text": [
      "Training accuracy:  0.6993354084293766\n",
      "Test accuracy:  0.5967588179218303\n",
      "\n",
      "Confusion matrix:\n",
      "[[898 214]\n",
      " [632 354]]\n",
      "\n",
      "Classification report:\n",
      "              precision    recall  f1-score   support\n",
      "\n",
      "           0     0.5869    0.8076    0.6798      1112\n",
      "           1     0.6232    0.3590    0.4556       986\n",
      "\n",
      "    accuracy                         0.5968      2098\n",
      "   macro avg     0.6051    0.5833    0.5677      2098\n",
      "weighted avg     0.6040    0.5968    0.5744      2098\n",
      "\n"
     ]
    }
   ],
   "source": [
    "# Fit Bernoulli Naive Bayes model.\n",
    "naive_bern = BernoulliNB()\n",
    "naive_bern.fit(x_train,y_train)\n",
    "print('Training accuracy: ', naive_bern.score(x_train, y_train))\n",
    "# Make predictions.\n",
    "y_pred_bern = naive_bern.predict(x_test)\n",
    "print('Test accuracy: ', naive_bern.score(x_test, y_test))\n",
    "print()\n",
    "print('Confusion matrix:')\n",
    "print(confusion_matrix(y_test, y_pred_bern))\n",
    "print()\n",
    "print('Classification report:')\n",
    "print(classification_report(y_test, y_pred_bern, digits=4))"
   ]
  },
  {
   "cell_type": "code",
   "execution_count": 19,
   "metadata": {},
   "outputs": [
    {
     "name": "stdout",
     "output_type": "stream",
     "text": [
      "Training accuracy:  0.8463026836039371\n",
      "Test accuracy:  0.5610104861773118\n",
      "\n",
      "Confusion matrix:\n",
      "[[802 310]\n",
      " [611 375]]\n",
      "\n",
      "Classification report:\n",
      "              precision    recall  f1-score   support\n",
      "\n",
      "           0     0.5676    0.7212    0.6352      1112\n",
      "           1     0.5474    0.3803    0.4488       986\n",
      "\n",
      "    accuracy                         0.5610      2098\n",
      "   macro avg     0.5575    0.5508    0.5420      2098\n",
      "weighted avg     0.5581    0.5610    0.5476      2098\n",
      "\n"
     ]
    }
   ],
   "source": [
    "# Fit Gaussian Naive Bayes model.\n",
    "naive_g = GaussianNB()\n",
    "naive_g.fit(x_train,y_train)\n",
    "print('Training accuracy: ', naive_g.score(x_train, y_train))\n",
    "# Make predictions.\n",
    "y_pred_g = naive_g.predict(x_test)\n",
    "print('Test accuracy: ', naive_g.score(x_test, y_test))\n",
    "print()\n",
    "print('Confusion matrix:')\n",
    "print(confusion_matrix(y_test, y_pred_g))\n",
    "print()\n",
    "print('Classification report:')\n",
    "print(classification_report(y_test, y_pred_g, digits=4))"
   ]
  },
  {
   "cell_type": "code",
   "execution_count": 20,
   "metadata": {},
   "outputs": [
    {
     "name": "stderr",
     "output_type": "stream",
     "text": [
      "/Users/kseniapavlina/.pyenv/versions/3.8.6/envs/cs/lib/python3.8/site-packages/sklearn/svm/_base.py:976: ConvergenceWarning: Liblinear failed to converge, increase the number of iterations.\n",
      "  warnings.warn(\"Liblinear failed to converge, increase \"\n"
     ]
    },
    {
     "name": "stdout",
     "output_type": "stream",
     "text": [
      "Training accuracy:  0.9261377975940103\n",
      "Test accuracy:  0.6358436606291706\n",
      "\n",
      "Confusion matrix:\n",
      "[[729 383]\n",
      " [381 605]]\n",
      "\n",
      "Classification report:\n",
      "              precision    recall  f1-score   support\n",
      "\n",
      "           0     0.6568    0.6556    0.6562      1112\n",
      "           1     0.6123    0.6136    0.6130       986\n",
      "\n",
      "    accuracy                         0.6358      2098\n",
      "   macro avg     0.6346    0.6346    0.6346      2098\n",
      "weighted avg     0.6359    0.6358    0.6359      2098\n",
      "\n"
     ]
    }
   ],
   "source": [
    "# Fit a SVM.\n",
    "svm = LinearSVC()\n",
    "svm.fit(x_train,y_train)\n",
    "print('Training accuracy: ', svm.score(x_train, y_train))\n",
    "y_pred_svm = svm.predict(x_test)\n",
    "# Make predictions.\n",
    "print('Test accuracy: ', svm.score(x_test, y_test))\n",
    "print()\n",
    "print('Confusion matrix:')\n",
    "print(confusion_matrix(y_test, y_pred_svm))\n",
    "print()\n",
    "print('Classification report:')\n",
    "print(classification_report(y_test, y_pred_svm, digits=4))"
   ]
  },
  {
   "cell_type": "code",
   "execution_count": 21,
   "metadata": {},
   "outputs": [
    {
     "name": "stderr",
     "output_type": "stream",
     "text": [
      "/Users/kseniapavlina/.pyenv/versions/3.8.6/envs/cs/lib/python3.8/site-packages/sklearn/linear_model/_logistic.py:762: ConvergenceWarning: lbfgs failed to converge (status=1):\n",
      "STOP: TOTAL NO. of ITERATIONS REACHED LIMIT.\n",
      "\n",
      "Increase the number of iterations (max_iter) or scale the data as shown in:\n",
      "    https://scikit-learn.org/stable/modules/preprocessing.html\n",
      "Please also refer to the documentation for alternative solver options:\n",
      "    https://scikit-learn.org/stable/modules/linear_model.html#logistic-regression\n",
      "  n_iter_i = _check_optimize_result(\n"
     ]
    },
    {
     "name": "stdout",
     "output_type": "stream",
     "text": [
      "Training accuracy:  0.7724404811979474\n",
      "Test accuracy:  0.6434699714013346\n",
      "\n",
      "Confusion matrix:\n",
      "[[737 375]\n",
      " [373 613]]\n",
      "\n",
      "Classification report:\n",
      "              precision    recall  f1-score   support\n",
      "\n",
      "           0     0.6640    0.6628    0.6634      1112\n",
      "           1     0.6204    0.6217    0.6211       986\n",
      "\n",
      "    accuracy                         0.6435      2098\n",
      "   macro avg     0.6422    0.6422    0.6422      2098\n",
      "weighted avg     0.6435    0.6435    0.6435      2098\n",
      "\n"
     ]
    }
   ],
   "source": [
    "# Fit a LR model.\n",
    "lr_extra = LogisticRegression()\n",
    "lr_extra.fit(x_train, y_train)\n",
    "print('Training accuracy: ', lr_extra.score(x_train, y_train))\n",
    "# Make predictions.\n",
    "y_pred_lr_extra = lr_extra.predict(x_test)\n",
    "print('Test accuracy: ', lr_extra.score(x_test, y_test))\n",
    "print()\n",
    "print('Confusion matrix:')\n",
    "print(confusion_matrix(y_test, y_pred_lr_extra))\n",
    "print()\n",
    "print('Classification report:')\n",
    "print(classification_report(y_test, y_pred_lr_extra, digits=4))"
   ]
  },
  {
   "cell_type": "markdown",
   "metadata": {},
   "source": [
    "### Classify based on textual features with float emotions using pipeline ###"
   ]
  },
  {
   "cell_type": "code",
   "execution_count": 22,
   "metadata": {},
   "outputs": [],
   "source": [
    "x_train, x_test, y_train, y_test =  train_test_split(dense_matrix_float, y, test_size = 0.15, random_state = 7)"
   ]
  },
  {
   "cell_type": "code",
   "execution_count": 23,
   "metadata": {},
   "outputs": [
    {
     "name": "stdout",
     "output_type": "stream",
     "text": [
      "Training accuracy:  0.7669723227054766\n",
      "Test accuracy:  0.6091515729265967\n",
      "\n",
      "Confusion matrix:\n",
      "[[977 135]\n",
      " [685 301]]\n",
      "\n",
      "Classification report:\n",
      "              precision    recall  f1-score   support\n",
      "\n",
      "           0     0.5878    0.8786    0.7044      1112\n",
      "           1     0.6904    0.3053    0.4233       986\n",
      "\n",
      "    accuracy                         0.6092      2098\n",
      "   macro avg     0.6391    0.5919    0.5639      2098\n",
      "weighted avg     0.6360    0.6092    0.5723      2098\n",
      "\n"
     ]
    }
   ],
   "source": [
    "# Fit Multinomial Naive Bayes model.\n",
    "naive_extra_float = MultinomialNB()\n",
    "naive_extra_float.fit(x_train, y_train)\n",
    "print('Training accuracy: ', naive_extra_float.score(x_train, y_train))\n",
    "# Make predictions.\n",
    "y_pred_extra_float = naive_extra_float.predict(x_test)\n",
    "print('Test accuracy: ', naive_extra_float.score(x_test, y_test))\n",
    "print()\n",
    "print('Confusion matrix:')\n",
    "print(confusion_matrix(y_test, y_pred_extra_float))\n",
    "print()\n",
    "print('Classification report:')\n",
    "print(classification_report(y_test, y_pred_extra_float, digits=4))"
   ]
  },
  {
   "cell_type": "code",
   "execution_count": 24,
   "metadata": {},
   "outputs": [
    {
     "name": "stdout",
     "output_type": "stream",
     "text": [
      "Training accuracy:  0.6996719104904517\n",
      "Test accuracy:  0.600095328884652\n",
      "\n",
      "Confusion matrix:\n",
      "[[904 208]\n",
      " [631 355]]\n",
      "\n",
      "Classification report:\n",
      "              precision    recall  f1-score   support\n",
      "\n",
      "           0     0.5889    0.8129    0.6830      1112\n",
      "           1     0.6306    0.3600    0.4584       986\n",
      "\n",
      "    accuracy                         0.6001      2098\n",
      "   macro avg     0.6097    0.5865    0.5707      2098\n",
      "weighted avg     0.6085    0.6001    0.5774      2098\n",
      "\n"
     ]
    }
   ],
   "source": [
    "# Fit Bernoulli Naive Bayes model.\n",
    "naive_bern_float = BernoulliNB()\n",
    "naive_bern_float.fit(x_train,y_train)\n",
    "print('Training accuracy: ', naive_bern_float.score(x_train, y_train))\n",
    "# Make predictions.\n",
    "y_pred_bern_float = naive_bern_float.predict(x_test)\n",
    "print('Test accuracy: ', naive_bern_float.score(x_test, y_test))\n",
    "print()\n",
    "print('Confusion matrix:')\n",
    "print(confusion_matrix(y_test, y_pred_bern_float))\n",
    "print()\n",
    "print('Classification report:')\n",
    "print(classification_report(y_test, y_pred_bern_float, digits=4))"
   ]
  },
  {
   "cell_type": "code",
   "execution_count": 25,
   "metadata": {},
   "outputs": [
    {
     "name": "stdout",
     "output_type": "stream",
     "text": [
      "Training accuracy:  0.8382266341381341\n",
      "Test accuracy:  0.5591039084842707\n",
      "\n",
      "Confusion matrix:\n",
      "[[807 305]\n",
      " [620 366]]\n",
      "\n",
      "Classification report:\n",
      "              precision    recall  f1-score   support\n",
      "\n",
      "           0     0.5655    0.7257    0.6357      1112\n",
      "           1     0.5455    0.3712    0.4418       986\n",
      "\n",
      "    accuracy                         0.5591      2098\n",
      "   macro avg     0.5555    0.5485    0.5387      2098\n",
      "weighted avg     0.5561    0.5591    0.5445      2098\n",
      "\n"
     ]
    }
   ],
   "source": [
    "# Fit Gaussian Naive Bayes model.\n",
    "naive_g_float = GaussianNB()\n",
    "naive_g_float.fit(x_train,y_train)\n",
    "print('Training accuracy: ', naive_g_float.score(x_train, y_train))\n",
    "# Make predictions.\n",
    "y_pred_g_float = naive_g_float.predict(x_test)\n",
    "print('Test accuracy: ', naive_g_float.score(x_test, y_test))\n",
    "print()\n",
    "print('Confusion matrix:')\n",
    "print(confusion_matrix(y_test, y_pred_g_float))\n",
    "print()\n",
    "print('Classification report:')\n",
    "print(classification_report(y_test, y_pred_g_float, digits=4))"
   ]
  },
  {
   "cell_type": "code",
   "execution_count": 26,
   "metadata": {},
   "outputs": [
    {
     "name": "stdout",
     "output_type": "stream",
     "text": [
      "Training accuracy:  0.9259695465634727\n",
      "Test accuracy:  0.6334604385128694\n",
      "\n",
      "Confusion matrix:\n",
      "[[725 387]\n",
      " [382 604]]\n",
      "\n",
      "Classification report:\n",
      "              precision    recall  f1-score   support\n",
      "\n",
      "           0     0.6549    0.6520    0.6534      1112\n",
      "           1     0.6095    0.6126    0.6110       986\n",
      "\n",
      "    accuracy                         0.6335      2098\n",
      "   macro avg     0.6322    0.6323    0.6322      2098\n",
      "weighted avg     0.6336    0.6335    0.6335      2098\n",
      "\n"
     ]
    }
   ],
   "source": [
    "# Fit a SVM.\n",
    "naive_svm_float = LinearSVC()\n",
    "naive_svm_float.fit(x_train,y_train)\n",
    "print('Training accuracy: ', naive_svm_float.score(x_train, y_train))\n",
    "# Make predictions.\n",
    "y_pred_svm_float = naive_svm_float.predict(x_test)\n",
    "print('Test accuracy: ', naive_svm_float.score(x_test, y_test))\n",
    "print()\n",
    "print('Confusion matrix:')\n",
    "print(confusion_matrix(y_test, y_pred_svm_float))\n",
    "print()\n",
    "print('Classification report:')\n",
    "print(classification_report(y_test, y_pred_svm_float, digits=4))"
   ]
  },
  {
   "cell_type": "code",
   "execution_count": 27,
   "metadata": {},
   "outputs": [
    {
     "name": "stderr",
     "output_type": "stream",
     "text": [
      "/Users/kseniapavlina/.pyenv/versions/3.8.6/envs/cs/lib/python3.8/site-packages/sklearn/linear_model/_logistic.py:762: ConvergenceWarning: lbfgs failed to converge (status=1):\n",
      "STOP: TOTAL NO. of ITERATIONS REACHED LIMIT.\n",
      "\n",
      "Increase the number of iterations (max_iter) or scale the data as shown in:\n",
      "    https://scikit-learn.org/stable/modules/preprocessing.html\n",
      "Please also refer to the documentation for alternative solver options:\n",
      "    https://scikit-learn.org/stable/modules/linear_model.html#logistic-regression\n",
      "  n_iter_i = _check_optimize_result(\n"
     ]
    },
    {
     "name": "stdout",
     "output_type": "stream",
     "text": [
      "Training accuracy:  0.7907798435265416\n",
      "Test accuracy:  0.6429933269780743\n",
      "\n",
      "Confusion matrix:\n",
      "[[740 372]\n",
      " [377 609]]\n",
      "\n",
      "Classification report:\n",
      "              precision    recall  f1-score   support\n",
      "\n",
      "           0     0.6625    0.6655    0.6640      1112\n",
      "           1     0.6208    0.6176    0.6192       986\n",
      "\n",
      "    accuracy                         0.6430      2098\n",
      "   macro avg     0.6416    0.6416    0.6416      2098\n",
      "weighted avg     0.6429    0.6430    0.6429      2098\n",
      "\n"
     ]
    }
   ],
   "source": [
    "# Fit a LR model.\n",
    "lr_float = LogisticRegression()\n",
    "lr_float.fit(x_train, y_train)\n",
    "print('Training accuracy: ', lr_float.score(x_train, y_train))\n",
    "# Make predictions.\n",
    "y_pred_lr_float = lr_float.predict(x_test)\n",
    "print('Test accuracy: ', lr_float.score(x_test, y_test))\n",
    "print()\n",
    "print('Confusion matrix:')\n",
    "print(confusion_matrix(y_test, y_pred_lr_float))\n",
    "print()\n",
    "print('Classification report:')\n",
    "print(classification_report(y_test, y_pred_lr_float, digits=4))"
   ]
  },
  {
   "cell_type": "code",
   "execution_count": null,
   "metadata": {},
   "outputs": [],
   "source": []
  }
 ],
 "metadata": {
  "kernelspec": {
   "display_name": "Python 3",
   "language": "python",
   "name": "python3"
  },
  "language_info": {
   "codemirror_mode": {
    "name": "ipython",
    "version": 3
   },
   "file_extension": ".py",
   "mimetype": "text/x-python",
   "name": "python",
   "nbconvert_exporter": "python",
   "pygments_lexer": "ipython3",
   "version": "3.8.6"
  }
 },
 "nbformat": 4,
 "nbformat_minor": 4
}
