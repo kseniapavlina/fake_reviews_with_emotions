{
 "cells": [
  {
   "cell_type": "code",
   "execution_count": null,
   "metadata": {
    "id": "dX1gQESuRr1Q"
   },
   "outputs": [],
   "source": [
    "import keras\n",
    "import matplotlib.pyplot as plt\n",
    "import numpy as np\n",
    "import os\n",
    "import pandas as pd\n",
    "import re\n",
    "import seaborn as sn\n",
    "import urllib.request\n",
    "import zipfile\n",
    "\n",
    "from keras import Input\n",
    "from keras.callbacks import EarlyStopping\n",
    "from keras.layers import Embedding, Conv1D, GlobalMaxPooling1D, Dense, Dropout, GRU, Bidirectional, LSTM\n",
    "from keras.layers.merge import Concatenate\n",
    "from keras.models import Model\n",
    "from keras.preprocessing.sequence import pad_sequences\n",
    "from keras.preprocessing.text import Tokenizer\n",
    "from keras.utils import plot_model, to_categorical\n",
    "from nltk.tokenize import word_tokenize\n",
    "from sklearn.metrics import accuracy_score, confusion_matrix, classification_report\n",
    "from sklearn.model_selection import train_test_split"
   ]
  },
  {
   "cell_type": "code",
   "execution_count": null,
   "metadata": {
    "id": "_unCipPzjU3S"
   },
   "outputs": [],
   "source": [
    "# Obtain final Amazon dataset.\n",
    "data = pd.read_csv('../../data/results/amazon_final.csv')"
   ]
  },
  {
   "cell_type": "code",
   "execution_count": null,
   "metadata": {
    "id": "TtJlqN0JjgGl"
   },
   "outputs": [],
   "source": [
    "# Define dimensionality of word embeddings.\n",
    "embedding_dim = 300\n",
    "\n",
    "# Define max input length.\n",
    "max_seq_len = 500"
   ]
  },
  {
   "cell_type": "code",
   "execution_count": null,
   "metadata": {
    "colab": {
     "base_uri": "https://localhost:8080/",
     "height": 419
    },
    "id": "GE2SKc3kjjT0",
    "outputId": "c5f09d98-2b08-4fe7-b0a4-b9c4079497de"
   },
   "outputs": [
    {
     "data": {
      "text/html": [
       "<div>\n",
       "<style scoped>\n",
       "    .dataframe tbody tr th:only-of-type {\n",
       "        vertical-align: middle;\n",
       "    }\n",
       "\n",
       "    .dataframe tbody tr th {\n",
       "        vertical-align: top;\n",
       "    }\n",
       "\n",
       "    .dataframe thead th {\n",
       "        text-align: right;\n",
       "    }\n",
       "</style>\n",
       "<table border=\"1\" class=\"dataframe\">\n",
       "  <thead>\n",
       "    <tr style=\"text-align: right;\">\n",
       "      <th></th>\n",
       "      <th>REVIEW_TEXT</th>\n",
       "      <th>VERACITY</th>\n",
       "      <th>PREDICTION</th>\n",
       "      <th>joy</th>\n",
       "      <th>fear</th>\n",
       "      <th>neutral</th>\n",
       "      <th>anger</th>\n",
       "      <th>sadness</th>\n",
       "    </tr>\n",
       "  </thead>\n",
       "  <tbody>\n",
       "    <tr>\n",
       "      <th>0</th>\n",
       "      <td>When least you think so, this product will sav...</td>\n",
       "      <td>Fake</td>\n",
       "      <td>0</td>\n",
       "      <td>0.108776</td>\n",
       "      <td>0.035421</td>\n",
       "      <td>0.675116</td>\n",
       "      <td>0.196709</td>\n",
       "      <td>0.020431</td>\n",
       "    </tr>\n",
       "    <tr>\n",
       "      <th>1</th>\n",
       "      <td>Lithium batteries are something new introduced...</td>\n",
       "      <td>Fake</td>\n",
       "      <td>4</td>\n",
       "      <td>0.125708</td>\n",
       "      <td>0.103117</td>\n",
       "      <td>0.087749</td>\n",
       "      <td>0.627661</td>\n",
       "      <td>0.077903</td>\n",
       "    </tr>\n",
       "    <tr>\n",
       "      <th>2</th>\n",
       "      <td>I purchased this swing for my baby. She is 6 m...</td>\n",
       "      <td>Fake</td>\n",
       "      <td>0</td>\n",
       "      <td>0.261877</td>\n",
       "      <td>0.077076</td>\n",
       "      <td>0.413570</td>\n",
       "      <td>0.157695</td>\n",
       "      <td>0.113803</td>\n",
       "    </tr>\n",
       "    <tr>\n",
       "      <th>3</th>\n",
       "      <td>I was looking for an inexpensive desk calcolat...</td>\n",
       "      <td>Fake</td>\n",
       "      <td>1</td>\n",
       "      <td>0.107387</td>\n",
       "      <td>0.446936</td>\n",
       "      <td>0.163032</td>\n",
       "      <td>0.203908</td>\n",
       "      <td>0.093214</td>\n",
       "    </tr>\n",
       "    <tr>\n",
       "      <th>4</th>\n",
       "      <td>I m not sure what this is supposed to be but I...</td>\n",
       "      <td>Fake</td>\n",
       "      <td>0</td>\n",
       "      <td>0.229221</td>\n",
       "      <td>0.025874</td>\n",
       "      <td>0.672216</td>\n",
       "      <td>0.091756</td>\n",
       "      <td>0.014439</td>\n",
       "    </tr>\n",
       "    <tr>\n",
       "      <th>...</th>\n",
       "      <td>...</td>\n",
       "      <td>...</td>\n",
       "      <td>...</td>\n",
       "      <td>...</td>\n",
       "      <td>...</td>\n",
       "      <td>...</td>\n",
       "      <td>...</td>\n",
       "      <td>...</td>\n",
       "    </tr>\n",
       "    <tr>\n",
       "      <th>13980</th>\n",
       "      <td>These shoes are absolutely amazing. They are t...</td>\n",
       "      <td>Real</td>\n",
       "      <td>3</td>\n",
       "      <td>0.765827</td>\n",
       "      <td>0.011777</td>\n",
       "      <td>0.155121</td>\n",
       "      <td>0.068278</td>\n",
       "      <td>0.009005</td>\n",
       "    </tr>\n",
       "    <tr>\n",
       "      <th>13981</th>\n",
       "      <td>My son had ordered it but when it arrived, he ...</td>\n",
       "      <td>Real</td>\n",
       "      <td>4</td>\n",
       "      <td>0.072390</td>\n",
       "      <td>0.062060</td>\n",
       "      <td>0.028264</td>\n",
       "      <td>0.771714</td>\n",
       "      <td>0.088904</td>\n",
       "    </tr>\n",
       "    <tr>\n",
       "      <th>13982</th>\n",
       "      <td>These shoes fit well.  I purchased to wear to ...</td>\n",
       "      <td>Real</td>\n",
       "      <td>3</td>\n",
       "      <td>0.678554</td>\n",
       "      <td>0.028018</td>\n",
       "      <td>0.191851</td>\n",
       "      <td>0.054362</td>\n",
       "      <td>0.058558</td>\n",
       "    </tr>\n",
       "    <tr>\n",
       "      <th>13983</th>\n",
       "      <td>These slippers are soft, warm, and very cozy. ...</td>\n",
       "      <td>Real</td>\n",
       "      <td>3</td>\n",
       "      <td>0.561892</td>\n",
       "      <td>0.037288</td>\n",
       "      <td>0.250742</td>\n",
       "      <td>0.157339</td>\n",
       "      <td>0.009371</td>\n",
       "    </tr>\n",
       "    <tr>\n",
       "      <th>13984</th>\n",
       "      <td>I bought these for work.  I have high arches, ...</td>\n",
       "      <td>Real</td>\n",
       "      <td>0</td>\n",
       "      <td>0.136283</td>\n",
       "      <td>0.085675</td>\n",
       "      <td>0.586818</td>\n",
       "      <td>0.165350</td>\n",
       "      <td>0.057684</td>\n",
       "    </tr>\n",
       "  </tbody>\n",
       "</table>\n",
       "<p>13985 rows × 8 columns</p>\n",
       "</div>"
      ],
      "text/plain": [
       "                                             REVIEW_TEXT  ...   sadness\n",
       "0      When least you think so, this product will sav...  ...  0.020431\n",
       "1      Lithium batteries are something new introduced...  ...  0.077903\n",
       "2      I purchased this swing for my baby. She is 6 m...  ...  0.113803\n",
       "3      I was looking for an inexpensive desk calcolat...  ...  0.093214\n",
       "4      I m not sure what this is supposed to be but I...  ...  0.014439\n",
       "...                                                  ...  ...       ...\n",
       "13980  These shoes are absolutely amazing. They are t...  ...  0.009005\n",
       "13981  My son had ordered it but when it arrived, he ...  ...  0.088904\n",
       "13982  These shoes fit well.  I purchased to wear to ...  ...  0.058558\n",
       "13983  These slippers are soft, warm, and very cozy. ...  ...  0.009371\n",
       "13984  I bought these for work.  I have high arches, ...  ...  0.057684\n",
       "\n",
       "[13985 rows x 8 columns]"
      ]
     },
     "execution_count": 5,
     "metadata": {
      "tags": []
     },
     "output_type": "execute_result"
    }
   ],
   "source": [
    "# Encode emotion category.\n",
    "data['PREDICTION'] = data['PREDICTION'].apply({'neutral':0, 'fear':1, 'sadness':2, 'joy':3,'anger':4}.get)\n",
    "data"
   ]
  },
  {
   "cell_type": "code",
   "execution_count": null,
   "metadata": {
    "id": "ssNAph7xjlPW"
   },
   "outputs": [],
   "source": [
    "# Leave 10% of data for test set, and split training test into training and validation subsets.\n",
    "X_train, X_test, y_train, y_test = train_test_split(data[['REVIEW_TEXT', 'PREDICTION', 'joy', 'fear', 'neutral', 'anger', 'sadness']], data.VERACITY, test_size=0.1)\n",
    "X_train, X_dev, y_train, y_dev = train_test_split(X_train, y_train, test_size=0.15)"
   ]
  },
  {
   "cell_type": "code",
   "execution_count": null,
   "metadata": {
    "id": "IhtTSJVmoa5T"
   },
   "outputs": [],
   "source": [
    "# Obtain review texts for data and each data subset.\n",
    "texts_train = X_train.REVIEW_TEXT.tolist()\n",
    "texts_dev = X_dev.REVIEW_TEXT.tolist()\n",
    "texts_test = X_test.REVIEW_TEXT.tolist()\n",
    "texts = data.REVIEW_TEXT"
   ]
  },
  {
   "cell_type": "code",
   "execution_count": null,
   "metadata": {
    "id": "2_WRo6VNpP8s"
   },
   "outputs": [],
   "source": [
    "# Fit tokenizer on review texts.\n",
    "tokenizer = Tokenizer()\n",
    "tokenizer.fit_on_texts(texts)\n",
    "\n",
    "sequence_train = tokenizer.texts_to_sequences(texts_train)\n",
    "sequence_dev = tokenizer.texts_to_sequences(texts_dev)\n",
    "sequence_test = tokenizer.texts_to_sequences(texts_test)\n",
    "\n",
    "index_of_words = tokenizer.word_index\n",
    "\n",
    "# Store the number of unique words (one added for padding).\n",
    "vocab_size = len(index_of_words) + 1"
   ]
  },
  {
   "cell_type": "code",
   "execution_count": null,
   "metadata": {
    "id": "gI2qGGKhpU9a"
   },
   "outputs": [],
   "source": [
    "# Pad data.\n",
    "X_train_pad = pad_sequences(sequence_train, maxlen = max_seq_len )\n",
    "X_dev_pad = pad_sequences(sequence_dev, maxlen = max_seq_len )\n",
    "X_test_pad = pad_sequences(sequence_test, maxlen = max_seq_len )"
   ]
  },
  {
   "cell_type": "code",
   "execution_count": null,
   "metadata": {
    "id": "Q9mkhAEEpYMG"
   },
   "outputs": [],
   "source": [
    "# Encode veracity predictions.\n",
    "encoding = {\n",
    "    'Fake': 0,\n",
    "    'Real': 1,\n",
    "}\n",
    "\n",
    "y_train = [encoding[y] for y in y_train]\n",
    "y_dev = [encoding[y] for y in y_dev]\n",
    "y_test = [encoding[y] for y in y_test]"
   ]
  },
  {
   "cell_type": "code",
   "execution_count": null,
   "metadata": {
    "id": "QFqcv520pnb1"
   },
   "outputs": [],
   "source": [
    "y_train = np.array(y_train)\n",
    "y_dev = np.array(y_dev)\n",
    "y_test = np.array(y_test)"
   ]
  },
  {
   "cell_type": "code",
   "execution_count": null,
   "metadata": {
    "id": "quFjihgKprcz"
   },
   "outputs": [],
   "source": [
    "def create_embedding_matrix(filepath, word_index, embedding_dim, vocab_size):\n",
    "    embedding_matrix = np.zeros((vocab_size, embedding_dim))\n",
    "    with open(filepath) as f:\n",
    "        for line in f:\n",
    "            word, *vector = line.split()\n",
    "            if word in word_index:\n",
    "                idx = word_index[word] \n",
    "                embedding_matrix[idx] = np.array(\n",
    "                    vector, dtype=np.float32)[:embedding_dim]\n",
    "    return embedding_matrix"
   ]
  },
  {
   "cell_type": "code",
   "execution_count": null,
   "metadata": {
    "colab": {
     "base_uri": "https://localhost:8080/"
    },
    "id": "z7bhJP2PptoY",
    "outputId": "fdafdda5-3816-4994-a152-fb7708e81d21"
   },
   "outputs": [
    {
     "name": "stdout",
     "output_type": "stream",
     "text": [
      "Downloading vectors...\n",
      "Done.\n"
     ]
    }
   ],
   "source": [
    "# Obtain wiki vectors.\n",
    "fname = 'embeddings/wiki-news-300d-1M.vec'\n",
    "\n",
    "if not os.path.isfile(fname):\n",
    "    print('Downloading vectors...')\n",
    "    urllib.request.urlretrieve('https://dl.fbaipublicfiles.com/fasttext/vectors-english/wiki-news-300d-1M.vec.zip',\n",
    "                              'wiki-news-300d-1M.vec.zip')\n",
    "    with zipfile.ZipFile('wiki-news-300d-1M.vec.zip', 'r') as zip_ref:\n",
    "        zip_ref.extractall('embeddings')\n",
    "    print('Done.')\n",
    "    \n",
    "    os.remove('wiki-news-300d-1M.vec.zip')"
   ]
  },
  {
   "cell_type": "code",
   "execution_count": null,
   "metadata": {
    "colab": {
     "base_uri": "https://localhost:8080/"
    },
    "id": "ELycM7W-pvDB",
    "outputId": "67d913f3-a031-4667-b043-480f2f6fa5c6"
   },
   "outputs": [
    {
     "data": {
      "text/plain": [
       "(24935, 300)"
      ]
     },
     "execution_count": 14,
     "metadata": {
      "tags": []
     },
     "output_type": "execute_result"
    }
   ],
   "source": [
    "# Get embedding matrix.\n",
    "embedding_matrix = create_embedding_matrix(fname, index_of_words, embedding_dim, vocab_size)\n",
    "embedding_matrix.shape"
   ]
  },
  {
   "cell_type": "code",
   "execution_count": null,
   "metadata": {
    "id": "hsa_fLANp7mT"
   },
   "outputs": [],
   "source": [
    "# Obtain emotion categories.\n",
    "X_emo_train = X_train[['PREDICTION', 'joy', 'sadness', 'fear', 'anger', 'neutral']].values\n",
    "X_emo_dev = X_dev[['PREDICTION', 'joy', 'sadness', 'fear', 'anger', 'neutral']].values\n",
    "X_emo_test = X_test[['PREDICTION', 'joy', 'sadness', 'fear', 'anger', 'neutral']].values"
   ]
  },
  {
   "cell_type": "code",
   "execution_count": null,
   "metadata": {
    "id": "g6e06RRfqG3t"
   },
   "outputs": [],
   "source": [
    "# Define model input shapes.\n",
    "input_text = Input(shape=(max_seq_len,))\n",
    "input_emo = Input(shape=(6,))"
   ]
  },
  {
   "cell_type": "markdown",
   "metadata": {
    "id": "D8Dh0UKcSHya"
   },
   "source": [
    "### Obtain classification using text alone ###"
   ]
  },
  {
   "cell_type": "code",
   "execution_count": null,
   "metadata": {
    "colab": {
     "base_uri": "https://localhost:8080/"
    },
    "id": "XeJARTdoSGjA",
    "outputId": "0a01ccbe-e7d8-4e67-b9d0-35729f4743d9"
   },
   "outputs": [
    {
     "name": "stdout",
     "output_type": "stream",
     "text": [
      "WARNING:tensorflow:Layer gru will not use cuDNN kernel since it doesn't meet the cuDNN kernel criteria. It will use generic GPU kernel as fallback when running on GPU\n",
      "WARNING:tensorflow:Layer gru will not use cuDNN kernel since it doesn't meet the cuDNN kernel criteria. It will use generic GPU kernel as fallback when running on GPU\n",
      "WARNING:tensorflow:Layer gru will not use cuDNN kernel since it doesn't meet the cuDNN kernel criteria. It will use generic GPU kernel as fallback when running on GPU\n"
     ]
    }
   ],
   "source": [
    "# Construct model.\n",
    "embedding_layer = Embedding(vocab_size,\n",
    "                            embedding_dim,\n",
    "                            input_length = max_seq_len,\n",
    "                            weights = [embedding_matrix],\n",
    "                            trainable=False)(input_text)\n",
    "gru_layer = Bidirectional(GRU(128, dropout=0.1, recurrent_dropout=0.1))(embedding_layer)\n",
    "dense_layer = Dense(128, activation='relu')(gru_layer)\n",
    "output = Dense(1, activation='sigmoid')(dense_layer)"
   ]
  },
  {
   "cell_type": "code",
   "execution_count": null,
   "metadata": {
    "id": "zQfRDB1BbDf1"
   },
   "outputs": [],
   "source": [
    "model_text = Model(inputs=input_text, outputs=output)"
   ]
  },
  {
   "cell_type": "code",
   "execution_count": null,
   "metadata": {
    "colab": {
     "base_uri": "https://localhost:8080/"
    },
    "id": "KKzX8yL6bDf1",
    "outputId": "d1db1535-14db-48f2-a7a9-218da483d910"
   },
   "outputs": [
    {
     "name": "stdout",
     "output_type": "stream",
     "text": [
      "Model: \"model\"\n",
      "_________________________________________________________________\n",
      "Layer (type)                 Output Shape              Param #   \n",
      "=================================================================\n",
      "input_1 (InputLayer)         [(None, 500)]             0         \n",
      "_________________________________________________________________\n",
      "embedding (Embedding)        (None, 500, 300)          7480500   \n",
      "_________________________________________________________________\n",
      "bidirectional (Bidirectional (None, 256)               330240    \n",
      "_________________________________________________________________\n",
      "dense (Dense)                (None, 128)               32896     \n",
      "_________________________________________________________________\n",
      "dense_1 (Dense)              (None, 1)                 129       \n",
      "=================================================================\n",
      "Total params: 7,843,765\n",
      "Trainable params: 363,265\n",
      "Non-trainable params: 7,480,500\n",
      "_________________________________________________________________\n",
      "None\n"
     ]
    }
   ],
   "source": [
    "opt = keras.optimizers.Adam(learning_rate=0.0001)\n",
    "model_text.compile(loss='binary_crossentropy', optimizer=opt, metrics=['acc'])\n",
    "print(model_text.summary())"
   ]
  },
  {
   "cell_type": "code",
   "execution_count": null,
   "metadata": {
    "colab": {
     "base_uri": "https://localhost:8080/",
     "height": 466
    },
    "id": "NsQwjRkhbDf2",
    "outputId": "b5ae506b-4530-43f7-90b8-94850b5facea"
   },
   "outputs": [
    {
     "data": {
      "image/png": "[encoded data removed]",
      "text/plain": [
       "<IPython.core.display.Image object>"
      ]
     },
     "execution_count": 20,
     "metadata": {
      "tags": []
     },
     "output_type": "execute_result"
    }
   ],
   "source": [
    "plot_model(model_text, to_file='model_plot.png')"
   ]
  },
  {
   "cell_type": "code",
   "execution_count": null,
   "metadata": {
    "colab": {
     "base_uri": "https://localhost:8080/",
     "height": 533
    },
    "id": "3U-_qsQhIR4d",
    "outputId": "53004099-28b0-4baf-971a-7fe796695c0e"
   },
   "outputs": [
    {
     "data": {
      "image/png": "[encoded data removed]",
      "text/plain": [
       "<IPython.core.display.Image object>"
      ]
     },
     "execution_count": 21,
     "metadata": {
      "tags": []
     },
     "output_type": "execute_result"
    }
   ],
   "source": [
    "plot_model(model_text, to_file='model_text.png', show_shapes=True)"
   ]
  },
  {
   "cell_type": "code",
   "execution_count": null,
   "metadata": {
    "colab": {
     "base_uri": "https://localhost:8080/"
    },
    "id": "2d-jbay1bDf2",
    "outputId": "f20e8d56-2322-42db-af0b-39268f620e38"
   },
   "outputs": [
    {
     "name": "stdout",
     "output_type": "stream",
     "text": [
      "Epoch 1/50\n",
      "168/168 [==============================] - 464s 3s/step - loss: 0.6914 - acc: 0.5248 - val_loss: 0.6893 - val_acc: 0.5339\n",
      "Epoch 2/50\n",
      "168/168 [==============================] - 462s 3s/step - loss: 0.6877 - acc: 0.5433 - val_loss: 0.6873 - val_acc: 0.5392\n",
      "Epoch 3/50\n",
      "168/168 [==============================] - 460s 3s/step - loss: 0.6821 - acc: 0.5566 - val_loss: 0.6808 - val_acc: 0.5546\n",
      "Epoch 4/50\n",
      "168/168 [==============================] - 458s 3s/step - loss: 0.6694 - acc: 0.5930 - val_loss: 0.6519 - val_acc: 0.6171\n",
      "Epoch 5/50\n",
      "168/168 [==============================] - 457s 3s/step - loss: 0.6418 - acc: 0.6273 - val_loss: 0.6588 - val_acc: 0.6075\n",
      "Epoch 6/50\n",
      "168/168 [==============================] - 459s 3s/step - loss: 0.6424 - acc: 0.6301 - val_loss: 0.6272 - val_acc: 0.6578\n",
      "Epoch 7/50\n",
      "168/168 [==============================] - 456s 3s/step - loss: 0.6404 - acc: 0.6340 - val_loss: 0.6363 - val_acc: 0.6372\n",
      "Epoch 8/50\n",
      "168/168 [==============================] - 459s 3s/step - loss: 0.6222 - acc: 0.6526 - val_loss: 0.6310 - val_acc: 0.6372\n",
      "Epoch 9/50\n",
      "168/168 [==============================] - 465s 3s/step - loss: 0.6243 - acc: 0.6480 - val_loss: 0.6272 - val_acc: 0.6457\n",
      "Epoch 10/50\n",
      "168/168 [==============================] - 464s 3s/step - loss: 0.6183 - acc: 0.6591 - val_loss: 0.6195 - val_acc: 0.6605\n",
      "Epoch 11/50\n",
      "168/168 [==============================] - 456s 3s/step - loss: 0.6198 - acc: 0.6527 - val_loss: 0.6316 - val_acc: 0.6483\n",
      "Epoch 12/50\n",
      "168/168 [==============================] - 458s 3s/step - loss: 0.6143 - acc: 0.6597 - val_loss: 0.6205 - val_acc: 0.6578\n",
      "Epoch 13/50\n",
      "168/168 [==============================] - 460s 3s/step - loss: 0.6120 - acc: 0.6627 - val_loss: 0.6171 - val_acc: 0.6647\n",
      "Epoch 14/50\n",
      "168/168 [==============================] - 460s 3s/step - loss: 0.6103 - acc: 0.6650 - val_loss: 0.6285 - val_acc: 0.6536\n",
      "Epoch 15/50\n",
      "168/168 [==============================] - 460s 3s/step - loss: 0.6078 - acc: 0.6666 - val_loss: 0.6173 - val_acc: 0.6658\n",
      "Epoch 16/50\n",
      "168/168 [==============================] - 462s 3s/step - loss: 0.6113 - acc: 0.6574 - val_loss: 0.6339 - val_acc: 0.6430\n"
     ]
    }
   ],
   "source": [
    "# Define stopping criteria and fit model.\n",
    "early_stopping_monitor = EarlyStopping(\n",
    "    monitor='val_loss',\n",
    "    min_delta=0,\n",
    "    patience=3,\n",
    "    verbose=0,\n",
    "    mode='auto',\n",
    "    baseline=None,\n",
    "    restore_best_weights=True\n",
    ")\n",
    "\n",
    "history_text = model_text.fit(x=X_train_pad, \n",
    "                              y=y_train, \n",
    "                              batch_size=64, \n",
    "                              epochs=50, \n",
    "                              verbose=1,\n",
    "                              validation_data=(X_dev_pad, y_dev), \n",
    "                              callbacks=[early_stopping_monitor])"
   ]
  },
  {
   "cell_type": "code",
   "execution_count": null,
   "metadata": {
    "colab": {
     "base_uri": "https://localhost:8080/",
     "height": 573
    },
    "id": "Eme-Ml2qbDf3",
    "outputId": "873c9aba-b016-4dd7-f545-b8da2523ff08"
   },
   "outputs": [
    {
     "data": {
      "image/png": "[encoded data removed]",
      "text/plain": [
       "<Figure size 432x288 with 1 Axes>"
      ]
     },
     "metadata": {
      "needs_background": "light",
      "tags": []
     },
     "output_type": "display_data"
    },
    {
     "data": {
      "image/png": "[encoded data removed]",
      "text/plain": [
       "<Figure size 432x288 with 1 Axes>"
      ]
     },
     "metadata": {
      "needs_background": "light",
      "tags": []
     },
     "output_type": "display_data"
    }
   ],
   "source": [
    "# Plot accuracy and loss of the model.\n",
    "plt.plot(history_text.history['acc'])\n",
    "plt.plot(history_text.history['val_acc'])\n",
    "plt.title('Model Accuracy')\n",
    "plt.ylabel('accuracy')\n",
    "plt.xlabel('epoch')\n",
    "plt.legend(['training', 'validation'], loc='upper left')\n",
    "plt.show()\n",
    "\n",
    "plt.plot(history_text.history['loss'])\n",
    "plt.plot(history_text.history['val_loss'])\n",
    "plt.title('Model Loss')\n",
    "plt.ylabel('loss')\n",
    "plt.xlabel('epoch')\n",
    "plt.legend(['training', 'validation'], loc='upper left')\n",
    "plt.show()"
   ]
  },
  {
   "cell_type": "code",
   "execution_count": null,
   "metadata": {
    "id": "fcijgmqQbDf3"
   },
   "outputs": [],
   "source": [
    "# Make predictions and record key metrics.\n",
    "predictions = model_text.predict(X_test_pad)"
   ]
  },
  {
   "cell_type": "code",
   "execution_count": null,
   "metadata": {
    "id": "crTkDfcKDJKW"
   },
   "outputs": [],
   "source": [
    "predictions = [1 if pred > 0.5 else 0 for pred in predictions]"
   ]
  },
  {
   "cell_type": "code",
   "execution_count": null,
   "metadata": {
    "colab": {
     "base_uri": "https://localhost:8080/"
    },
    "id": "xC12hhxYDJKX",
    "outputId": "59959cbb-c2e2-4e9a-d76c-be5448e5991f"
   },
   "outputs": [
    {
     "name": "stdout",
     "output_type": "stream",
     "text": [
      "Classification report: \n",
      "              precision    recall  f1-score   support\n",
      "\n",
      "        Fake     0.6853    0.6421    0.6630       746\n",
      "        Real     0.6186    0.6631    0.6401       653\n",
      "\n",
      "    accuracy                         0.6519      1399\n",
      "   macro avg     0.6519    0.6526    0.6515      1399\n",
      "weighted avg     0.6541    0.6519    0.6523      1399\n",
      "\n"
     ]
    }
   ],
   "source": [
    "print('Classification report: ') \n",
    "print(classification_report(y_test, predictions, digits=4, target_names = ['Fake', 'Real']))"
   ]
  },
  {
   "cell_type": "code",
   "execution_count": null,
   "metadata": {
    "colab": {
     "base_uri": "https://localhost:8080/",
     "height": 476
    },
    "id": "pddFAZLSDJKY",
    "outputId": "129b09af-cdd2-4740-f132-4b7a6b356554"
   },
   "outputs": [
    {
     "data": {
      "text/plain": [
       "Text(0.5, 1.0, 'Veracity Predictions on Texts Alone')"
      ]
     },
     "execution_count": 27,
     "metadata": {
      "tags": []
     },
     "output_type": "execute_result"
    },
    {
     "data": {
      "image/png": "[encoded data removed]",
      "text/plain": [
       "<Figure size 648x504 with 2 Axes>"
      ]
     },
     "metadata": {
      "needs_background": "light",
      "tags": []
     },
     "output_type": "display_data"
    }
   ],
   "source": [
    "df_cm = pd.DataFrame(confusion_matrix(y_test, predictions), index = [i for i in ['Fake', 'Real']],\n",
    "                  columns = [i for i in ['Fake', 'Real']])\n",
    "plt.figure(figsize = (9,7))\n",
    "hm = sn.heatmap(df_cm, annot=True, fmt='g')\n",
    "hm.set_xlabel('Predicted Values')\n",
    "hm.set_ylabel('Real Values')\n",
    "hm.set_title('Veracity Predictions on Texts Alone')"
   ]
  },
  {
   "cell_type": "code",
   "execution_count": null,
   "metadata": {
    "id": "iiahwRuRTS8u"
   },
   "outputs": [],
   "source": [
    "# Store model for future use.\n",
    "model_text.save('../../trained_models/veracity_text_gru.h5')"
   ]
  },
  {
   "cell_type": "markdown",
   "metadata": {
    "id": "Nldi-a5QzJgI"
   },
   "source": [
    "### Obtain classification results on texts with emotions ###"
   ]
  },
  {
   "cell_type": "code",
   "execution_count": null,
   "metadata": {
    "colab": {
     "base_uri": "https://localhost:8080/"
    },
    "id": "kfqRldo9zHyL",
    "outputId": "4d3c7e53-e57d-484e-f201-c7ef8e003c80"
   },
   "outputs": [
    {
     "name": "stdout",
     "output_type": "stream",
     "text": [
      "WARNING:tensorflow:Layer gru_1 will not use cuDNN kernel since it doesn't meet the cuDNN kernel criteria. It will use generic GPU kernel as fallback when running on GPU\n",
      "WARNING:tensorflow:Layer gru_1 will not use cuDNN kernel since it doesn't meet the cuDNN kernel criteria. It will use generic GPU kernel as fallback when running on GPU\n",
      "WARNING:tensorflow:Layer gru_1 will not use cuDNN kernel since it doesn't meet the cuDNN kernel criteria. It will use generic GPU kernel as fallback when running on GPU\n"
     ]
    }
   ],
   "source": [
    "# Construct model.\n",
    "embedding_layer = Embedding(vocab_size,\n",
    "                            embedding_dim,\n",
    "                            input_length = max_seq_len,\n",
    "                            weights = [embedding_matrix],\n",
    "                            trainable=False)(input_text)\n",
    "gru_layer = Bidirectional(GRU(128, dropout=0.1, recurrent_dropout=0.1))(embedding_layer)\n",
    "concat_layer = Concatenate()([gru_layer, input_emo])\n",
    "dense_layer = Dense(128, activation='relu')(concat_layer)\n",
    "output = Dense(1, activation='sigmoid')(dense_layer)"
   ]
  },
  {
   "cell_type": "code",
   "execution_count": null,
   "metadata": {
    "id": "UEMfTa5WzHyc"
   },
   "outputs": [],
   "source": [
    "model_emo = Model(inputs=[input_text, input_emo], outputs=output)"
   ]
  },
  {
   "cell_type": "code",
   "execution_count": null,
   "metadata": {
    "colab": {
     "base_uri": "https://localhost:8080/"
    },
    "id": "5GkiTLO_zHyd",
    "outputId": "8a77e564-f423-41c0-fbd1-3f77f12c2ee2"
   },
   "outputs": [
    {
     "name": "stdout",
     "output_type": "stream",
     "text": [
      "Model: \"model_1\"\n",
      "__________________________________________________________________________________________________\n",
      "Layer (type)                    Output Shape         Param #     Connected to                     \n",
      "==================================================================================================\n",
      "input_1 (InputLayer)            [(None, 500)]        0                                            \n",
      "__________________________________________________________________________________________________\n",
      "embedding_1 (Embedding)         (None, 500, 300)     7480500     input_1[0][0]                    \n",
      "__________________________________________________________________________________________________\n",
      "bidirectional_1 (Bidirectional) (None, 256)          330240      embedding_1[0][0]                \n",
      "__________________________________________________________________________________________________\n",
      "input_2 (InputLayer)            [(None, 6)]          0                                            \n",
      "__________________________________________________________________________________________________\n",
      "concatenate (Concatenate)       (None, 262)          0           bidirectional_1[0][0]            \n",
      "                                                                 input_2[0][0]                    \n",
      "__________________________________________________________________________________________________\n",
      "dense_2 (Dense)                 (None, 128)          33664       concatenate[0][0]                \n",
      "__________________________________________________________________________________________________\n",
      "dense_3 (Dense)                 (None, 1)            129         dense_2[0][0]                    \n",
      "==================================================================================================\n",
      "Total params: 7,844,533\n",
      "Trainable params: 364,033\n",
      "Non-trainable params: 7,480,500\n",
      "__________________________________________________________________________________________________\n",
      "None\n"
     ]
    }
   ],
   "source": [
    "opt = keras.optimizers.Adam(learning_rate=0.0001)\n",
    "model_emo.compile(loss='binary_crossentropy', optimizer=opt, metrics=['acc'])\n",
    "print(model_emo.summary())"
   ]
  },
  {
   "cell_type": "code",
   "execution_count": null,
   "metadata": {
    "colab": {
     "base_uri": "https://localhost:8080/",
     "height": 564
    },
    "id": "iUoy3WokzHyd",
    "outputId": "440f220b-a9ea-466c-b266-a9473187de54"
   },
   "outputs": [
    {
     "data": {
      "image/png": "[encoded data removed]",
      "text/plain": [
       "<IPython.core.display.Image object>"
      ]
     },
     "execution_count": 32,
     "metadata": {
      "tags": []
     },
     "output_type": "execute_result"
    }
   ],
   "source": [
    "plot_model(model_emo, to_file='model_emo_plot.png')"
   ]
  },
  {
   "cell_type": "code",
   "execution_count": null,
   "metadata": {
    "colab": {
     "base_uri": "https://localhost:8080/"
    },
    "id": "RBl-xwzgzHye",
    "outputId": "363a79fa-838d-444d-95eb-c1084d2c874d"
   },
   "outputs": [
    {
     "name": "stdout",
     "output_type": "stream",
     "text": [
      "Epoch 1/50\n",
      "168/168 [==============================] - 461s 3s/step - loss: 0.7047 - acc: 0.4939 - val_loss: 0.6880 - val_acc: 0.5323\n",
      "Epoch 2/50\n",
      "168/168 [==============================] - 457s 3s/step - loss: 0.6866 - acc: 0.5443 - val_loss: 0.6852 - val_acc: 0.5540\n",
      "Epoch 3/50\n",
      "168/168 [==============================] - 459s 3s/step - loss: 0.6835 - acc: 0.5628 - val_loss: 0.6821 - val_acc: 0.5662\n",
      "Epoch 4/50\n",
      "168/168 [==============================] - 461s 3s/step - loss: 0.6756 - acc: 0.5785 - val_loss: 0.6614 - val_acc: 0.6017\n",
      "Epoch 5/50\n",
      "168/168 [==============================] - 463s 3s/step - loss: 0.6572 - acc: 0.6098 - val_loss: 0.6474 - val_acc: 0.6192\n",
      "Epoch 6/50\n",
      "168/168 [==============================] - 463s 3s/step - loss: 0.6448 - acc: 0.6200 - val_loss: 0.6381 - val_acc: 0.6329\n",
      "Epoch 7/50\n",
      "168/168 [==============================] - 459s 3s/step - loss: 0.6325 - acc: 0.6410 - val_loss: 0.6319 - val_acc: 0.6419\n",
      "Epoch 8/50\n",
      "168/168 [==============================] - 459s 3s/step - loss: 0.6268 - acc: 0.6453 - val_loss: 0.6227 - val_acc: 0.6520\n",
      "Epoch 9/50\n",
      "168/168 [==============================] - 459s 3s/step - loss: 0.6292 - acc: 0.6416 - val_loss: 0.6253 - val_acc: 0.6472\n",
      "Epoch 10/50\n",
      "168/168 [==============================] - 459s 3s/step - loss: 0.6233 - acc: 0.6537 - val_loss: 0.6403 - val_acc: 0.6276\n",
      "Epoch 11/50\n",
      "168/168 [==============================] - 459s 3s/step - loss: 0.6195 - acc: 0.6540 - val_loss: 0.6180 - val_acc: 0.6589\n",
      "Epoch 12/50\n",
      "168/168 [==============================] - 462s 3s/step - loss: 0.6150 - acc: 0.6584 - val_loss: 0.6258 - val_acc: 0.6425\n",
      "Epoch 13/50\n",
      "168/168 [==============================] - 457s 3s/step - loss: 0.6141 - acc: 0.6676 - val_loss: 0.6264 - val_acc: 0.6515\n",
      "Epoch 14/50\n",
      "168/168 [==============================] - 459s 3s/step - loss: 0.6151 - acc: 0.6576 - val_loss: 0.6170 - val_acc: 0.6547\n",
      "Epoch 15/50\n",
      "168/168 [==============================] - 462s 3s/step - loss: 0.6042 - acc: 0.6701 - val_loss: 0.6163 - val_acc: 0.6600\n",
      "Epoch 16/50\n",
      "168/168 [==============================] - 458s 3s/step - loss: 0.6095 - acc: 0.6628 - val_loss: 0.6205 - val_acc: 0.6568\n",
      "Epoch 17/50\n",
      "168/168 [==============================] - 459s 3s/step - loss: 0.6040 - acc: 0.6660 - val_loss: 0.6219 - val_acc: 0.6642\n",
      "Epoch 18/50\n",
      "168/168 [==============================] - 460s 3s/step - loss: 0.6054 - acc: 0.6681 - val_loss: 0.6233 - val_acc: 0.6578\n"
     ]
    }
   ],
   "source": [
    "# Define stopping criteria and fit model.\n",
    "early_stopping_monitor = EarlyStopping(\n",
    "    monitor='val_loss',\n",
    "    min_delta=0,\n",
    "    patience=3,\n",
    "    verbose=0,\n",
    "    mode='auto',\n",
    "    baseline=None,\n",
    "    restore_best_weights=True\n",
    ")\n",
    "\n",
    "history_emo = model_emo.fit(x=[X_train_pad, X_emo_train], \n",
    "                            y=y_train, \n",
    "                            batch_size=64, \n",
    "                            epochs=50, \n",
    "                            verbose=1,\n",
    "                            validation_data=([X_dev_pad, X_emo_dev], y_dev), \n",
    "                            callbacks=[early_stopping_monitor])"
   ]
  },
  {
   "cell_type": "code",
   "execution_count": null,
   "metadata": {
    "colab": {
     "base_uri": "https://localhost:8080/",
     "height": 573
    },
    "id": "h4diPy13zHye",
    "outputId": "5e337b07-4278-459f-f7df-44d9ff3ea0bc"
   },
   "outputs": [
    {
     "data": {
      "image/png": "[encoded data removed]",
      "text/plain": [
       "<Figure size 432x288 with 1 Axes>"
      ]
     },
     "metadata": {
      "needs_background": "light",
      "tags": []
     },
     "output_type": "display_data"
    },
    {
     "data": {
      "image/png": "[encoded data removed]",
      "text/plain": [
       "<Figure size 432x288 with 1 Axes>"
      ]
     },
     "metadata": {
      "needs_background": "light",
      "tags": []
     },
     "output_type": "display_data"
    }
   ],
   "source": [
    "# Plot accuracy and loss of the model.\n",
    "plt.plot(history_emo.history['acc'])\n",
    "plt.plot(history_emo.history['val_acc'])\n",
    "plt.title('Model Accuracy')\n",
    "plt.ylabel('accuracy')\n",
    "plt.xlabel('epoch')\n",
    "plt.legend(['training', 'validation'], loc='upper left')\n",
    "plt.show()\n",
    "\n",
    "plt.plot(history_emo.history['loss'])\n",
    "plt.plot(history_emo.history['val_loss'])\n",
    "plt.title('Model Loss')\n",
    "plt.ylabel('loss')\n",
    "plt.xlabel('epoch')\n",
    "plt.legend(['training', 'validation'], loc='upper left')\n",
    "plt.show()"
   ]
  },
  {
   "cell_type": "code",
   "execution_count": null,
   "metadata": {
    "id": "yUYgSvLfzHye"
   },
   "outputs": [],
   "source": [
    "# Make predictions and record key metrics.\n",
    "predictions = model_emo.predict([X_test_pad, X_emo_test])"
   ]
  },
  {
   "cell_type": "code",
   "execution_count": null,
   "metadata": {
    "id": "WxbI1bFlzHyf"
   },
   "outputs": [],
   "source": [
    "predictions = [1 if pred > 0.5 else 0 for pred in predictions]"
   ]
  },
  {
   "cell_type": "code",
   "execution_count": null,
   "metadata": {
    "colab": {
     "base_uri": "https://localhost:8080/"
    },
    "id": "3MPR07XezHyf",
    "outputId": "a15e41ac-d858-49d5-98c0-69af114b79da"
   },
   "outputs": [
    {
     "name": "stdout",
     "output_type": "stream",
     "text": [
      "Classification report: \n",
      "              precision    recall  f1-score   support\n",
      "\n",
      "        Fake     0.6693    0.6729    0.6711       746\n",
      "        Real     0.6240    0.6202    0.6221       653\n",
      "\n",
      "    accuracy                         0.6483      1399\n",
      "   macro avg     0.6467    0.6466    0.6466      1399\n",
      "weighted avg     0.6482    0.6483    0.6483      1399\n",
      "\n"
     ]
    }
   ],
   "source": [
    "print('Classification report: ') \n",
    "print(classification_report(y_test, predictions, digits=4, target_names = ['Fake', 'Real']))"
   ]
  },
  {
   "cell_type": "code",
   "execution_count": null,
   "metadata": {
    "colab": {
     "base_uri": "https://localhost:8080/",
     "height": 476
    },
    "id": "VilW2xABzHyf",
    "outputId": "5c22358f-64c7-49b7-d27d-0d884b13a14a"
   },
   "outputs": [
    {
     "data": {
      "text/plain": [
       "Text(0.5, 1.0, 'Veracity Predictions on Texts with Emotions')"
      ]
     },
     "execution_count": 38,
     "metadata": {
      "tags": []
     },
     "output_type": "execute_result"
    },
    {
     "data": {
      "image/png": "[encoded data removed]",
      "text/plain": [
       "<Figure size 648x504 with 2 Axes>"
      ]
     },
     "metadata": {
      "needs_background": "light",
      "tags": []
     },
     "output_type": "display_data"
    }
   ],
   "source": [
    "df_cm = pd.DataFrame(confusion_matrix(y_test, predictions), index = [i for i in ['Fake', 'Real']],\n",
    "                  columns = [i for i in ['Fake', 'Real']])\n",
    "plt.figure(figsize = (9,7))\n",
    "hm = sn.heatmap(df_cm, annot=True, fmt='g')\n",
    "hm.set_xlabel('Predicted Values')\n",
    "hm.set_ylabel('Real Values')\n",
    "hm.set_title('Veracity Predictions on Texts with Emotions')"
   ]
  },
  {
   "cell_type": "code",
   "execution_count": null,
   "metadata": {
    "id": "NeQqpdmgzHyg"
   },
   "outputs": [],
   "source": [
    "# Store model for future use.\n",
    "model_text.save('../../trained_models/veracity_text_emo_gru.h5')"
   ]
  },
  {
   "cell_type": "code",
   "execution_count": null,
   "metadata": {
    "id": "t38IJWjP0mOb"
   },
   "outputs": [],
   "source": []
  }
 ],
 "metadata": {
  "accelerator": "GPU",
  "colab": {
   "collapsed_sections": [
    "D8Dh0UKcSHya"
   ],
   "name": "dissertation_veracity_cnn_lstm.ipynb",
   "provenance": []
  },
  "kernelspec": {
   "display_name": "Python 3",
   "language": "python",
   "name": "python3"
  },
  "language_info": {
   "codemirror_mode": {
    "name": "ipython",
    "version": 3
   },
   "file_extension": ".py",
   "mimetype": "text/x-python",
   "name": "python",
   "nbconvert_exporter": "python",
   "pygments_lexer": "ipython3",
   "version": "3.8.6"
  }
 },
 "nbformat": 4,
 "nbformat_minor": 1
}
