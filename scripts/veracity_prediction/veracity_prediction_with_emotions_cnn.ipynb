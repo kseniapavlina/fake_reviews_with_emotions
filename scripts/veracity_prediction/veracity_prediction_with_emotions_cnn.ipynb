{
 "cells": [
  {
   "cell_type": "markdown",
   "metadata": {
    "id": "Z3VSphTvjNt4"
   },
   "source": [
    "This notebook contains code and results for veracity prediction on Amazon reviews based on texts alone and texts with emotion features."
   ]
  },
  {
   "cell_type": "code",
   "execution_count": 2,
   "metadata": {},
   "outputs": [
    {
     "name": "stderr",
     "output_type": "stream",
     "text": [
      "Using TensorFlow backend.\n"
     ]
    }
   ],
   "source": [
    "import keras\n",
    "import matplotlib.pyplot as plt\n",
    "import numpy as np\n",
    "import os\n",
    "import pandas as pd\n",
    "import re\n",
    "import seaborn as sn\n",
    "import urllib.request\n",
    "import zipfile\n",
    "\n",
    "from keras import Input\n",
    "from keras.callbacks import EarlyStopping\n",
    "from keras.layers import Embedding, Conv1D, GlobalMaxPooling1D, Dense, Dropout\n",
    "from keras.layers.merge import Concatenate\n",
    "from keras.models import Model\n",
    "from keras.preprocessing.sequence import pad_sequences\n",
    "from keras.preprocessing.text import Tokenizer\n",
    "from keras.utils import plot_model, to_categorical\n",
    "from nltk.tokenize import word_tokenize\n",
    "from sklearn.metrics import accuracy_score, confusion_matrix, classification_report\n",
    "from sklearn.model_selection import train_test_split"
   ]
  },
  {
   "cell_type": "code",
   "execution_count": 3,
   "metadata": {
    "id": "_unCipPzjU3S"
   },
   "outputs": [],
   "source": [
    "# Obtain final Amazon dataset.\n",
    "data = pd.read_csv('../../data/results/amazon_final.csv')"
   ]
  },
  {
   "cell_type": "code",
   "execution_count": 21,
   "metadata": {
    "id": "TtJlqN0JjgGl"
   },
   "outputs": [],
   "source": [
    "# Define dimensionality of word embeddings.\n",
    "embedding_dim = 300\n",
    "\n",
    "# Define max input length.\n",
    "max_seq_len = 500"
   ]
  },
  {
   "cell_type": "code",
   "execution_count": 22,
   "metadata": {
    "colab": {
     "base_uri": "https://localhost:8080/",
     "height": 391
    },
    "id": "GE2SKc3kjjT0",
    "outputId": "bcfe7634-cf6b-4034-fb2a-02316bb48868"
   },
   "outputs": [
    {
     "data": {
      "text/html": [
       "<div>\n",
       "<style scoped>\n",
       "    .dataframe tbody tr th:only-of-type {\n",
       "        vertical-align: middle;\n",
       "    }\n",
       "\n",
       "    .dataframe tbody tr th {\n",
       "        vertical-align: top;\n",
       "    }\n",
       "\n",
       "    .dataframe thead th {\n",
       "        text-align: right;\n",
       "    }\n",
       "</style>\n",
       "<table border=\"1\" class=\"dataframe\">\n",
       "  <thead>\n",
       "    <tr style=\"text-align: right;\">\n",
       "      <th></th>\n",
       "      <th>REVIEW_TEXT</th>\n",
       "      <th>VERACITY</th>\n",
       "      <th>PREDICTION</th>\n",
       "      <th>joy</th>\n",
       "      <th>fear</th>\n",
       "      <th>neutral</th>\n",
       "      <th>anger</th>\n",
       "      <th>sadness</th>\n",
       "    </tr>\n",
       "  </thead>\n",
       "  <tbody>\n",
       "    <tr>\n",
       "      <th>0</th>\n",
       "      <td>When least you think so, this product will sav...</td>\n",
       "      <td>Fake</td>\n",
       "      <td>0</td>\n",
       "      <td>0.108776</td>\n",
       "      <td>0.035421</td>\n",
       "      <td>0.675116</td>\n",
       "      <td>0.196709</td>\n",
       "      <td>0.020431</td>\n",
       "    </tr>\n",
       "    <tr>\n",
       "      <th>1</th>\n",
       "      <td>Lithium batteries are something new introduced...</td>\n",
       "      <td>Fake</td>\n",
       "      <td>4</td>\n",
       "      <td>0.125708</td>\n",
       "      <td>0.103117</td>\n",
       "      <td>0.087749</td>\n",
       "      <td>0.627661</td>\n",
       "      <td>0.077903</td>\n",
       "    </tr>\n",
       "    <tr>\n",
       "      <th>2</th>\n",
       "      <td>I purchased this swing for my baby. She is 6 m...</td>\n",
       "      <td>Fake</td>\n",
       "      <td>0</td>\n",
       "      <td>0.261877</td>\n",
       "      <td>0.077076</td>\n",
       "      <td>0.413570</td>\n",
       "      <td>0.157695</td>\n",
       "      <td>0.113803</td>\n",
       "    </tr>\n",
       "    <tr>\n",
       "      <th>3</th>\n",
       "      <td>I was looking for an inexpensive desk calcolat...</td>\n",
       "      <td>Fake</td>\n",
       "      <td>1</td>\n",
       "      <td>0.107387</td>\n",
       "      <td>0.446936</td>\n",
       "      <td>0.163032</td>\n",
       "      <td>0.203908</td>\n",
       "      <td>0.093214</td>\n",
       "    </tr>\n",
       "    <tr>\n",
       "      <th>4</th>\n",
       "      <td>I m not sure what this is supposed to be but I...</td>\n",
       "      <td>Fake</td>\n",
       "      <td>0</td>\n",
       "      <td>0.229221</td>\n",
       "      <td>0.025874</td>\n",
       "      <td>0.672216</td>\n",
       "      <td>0.091756</td>\n",
       "      <td>0.014439</td>\n",
       "    </tr>\n",
       "    <tr>\n",
       "      <th>...</th>\n",
       "      <td>...</td>\n",
       "      <td>...</td>\n",
       "      <td>...</td>\n",
       "      <td>...</td>\n",
       "      <td>...</td>\n",
       "      <td>...</td>\n",
       "      <td>...</td>\n",
       "      <td>...</td>\n",
       "    </tr>\n",
       "    <tr>\n",
       "      <th>13980</th>\n",
       "      <td>These shoes are absolutely amazing. They are t...</td>\n",
       "      <td>Real</td>\n",
       "      <td>3</td>\n",
       "      <td>0.765827</td>\n",
       "      <td>0.011777</td>\n",
       "      <td>0.155121</td>\n",
       "      <td>0.068278</td>\n",
       "      <td>0.009005</td>\n",
       "    </tr>\n",
       "    <tr>\n",
       "      <th>13981</th>\n",
       "      <td>My son had ordered it but when it arrived, he ...</td>\n",
       "      <td>Real</td>\n",
       "      <td>4</td>\n",
       "      <td>0.072390</td>\n",
       "      <td>0.062060</td>\n",
       "      <td>0.028264</td>\n",
       "      <td>0.771714</td>\n",
       "      <td>0.088904</td>\n",
       "    </tr>\n",
       "    <tr>\n",
       "      <th>13982</th>\n",
       "      <td>These shoes fit well.  I purchased to wear to ...</td>\n",
       "      <td>Real</td>\n",
       "      <td>3</td>\n",
       "      <td>0.678554</td>\n",
       "      <td>0.028018</td>\n",
       "      <td>0.191851</td>\n",
       "      <td>0.054362</td>\n",
       "      <td>0.058558</td>\n",
       "    </tr>\n",
       "    <tr>\n",
       "      <th>13983</th>\n",
       "      <td>These slippers are soft, warm, and very cozy. ...</td>\n",
       "      <td>Real</td>\n",
       "      <td>3</td>\n",
       "      <td>0.561892</td>\n",
       "      <td>0.037288</td>\n",
       "      <td>0.250742</td>\n",
       "      <td>0.157339</td>\n",
       "      <td>0.009371</td>\n",
       "    </tr>\n",
       "    <tr>\n",
       "      <th>13984</th>\n",
       "      <td>I bought these for work.  I have high arches, ...</td>\n",
       "      <td>Real</td>\n",
       "      <td>0</td>\n",
       "      <td>0.136283</td>\n",
       "      <td>0.085675</td>\n",
       "      <td>0.586818</td>\n",
       "      <td>0.165350</td>\n",
       "      <td>0.057684</td>\n",
       "    </tr>\n",
       "  </tbody>\n",
       "</table>\n",
       "<p>13985 rows × 8 columns</p>\n",
       "</div>"
      ],
      "text/plain": [
       "                                             REVIEW_TEXT  ...   sadness\n",
       "0      When least you think so, this product will sav...  ...  0.020431\n",
       "1      Lithium batteries are something new introduced...  ...  0.077903\n",
       "2      I purchased this swing for my baby. She is 6 m...  ...  0.113803\n",
       "3      I was looking for an inexpensive desk calcolat...  ...  0.093214\n",
       "4      I m not sure what this is supposed to be but I...  ...  0.014439\n",
       "...                                                  ...  ...       ...\n",
       "13980  These shoes are absolutely amazing. They are t...  ...  0.009005\n",
       "13981  My son had ordered it but when it arrived, he ...  ...  0.088904\n",
       "13982  These shoes fit well.  I purchased to wear to ...  ...  0.058558\n",
       "13983  These slippers are soft, warm, and very cozy. ...  ...  0.009371\n",
       "13984  I bought these for work.  I have high arches, ...  ...  0.057684\n",
       "\n",
       "[13985 rows x 8 columns]"
      ]
     },
     "execution_count": 22,
     "metadata": {
      "tags": []
     },
     "output_type": "execute_result"
    }
   ],
   "source": [
    "# Encode emotion category.\n",
    "data['PREDICTION'] = data['PREDICTION'].apply({'neutral':0, 'fear':1, 'sadness':2, 'joy':3,'anger':4}.get)\n",
    "data"
   ]
  },
  {
   "cell_type": "code",
   "execution_count": 50,
   "metadata": {
    "id": "ssNAph7xjlPW"
   },
   "outputs": [],
   "source": [
    "# Leave 10% of data for test set, and split training test into training and validation subsets.\n",
    "X_train, X_test, y_train, y_test = train_test_split(data[['REVIEW_TEXT', 'PREDICTION', 'joy', 'fear', 'neutral', 'anger', 'sadness']], data.VERACITY, test_size=0.1)\n",
    "X_train, X_dev, y_train, y_dev = train_test_split(X_train, y_train, test_size=0.1)"
   ]
  },
  {
   "cell_type": "code",
   "execution_count": 51,
   "metadata": {
    "id": "IhtTSJVmoa5T"
   },
   "outputs": [],
   "source": [
    "# Obtain review texts for data and each data subset.\n",
    "texts_train = X_train.REVIEW_TEXT.tolist()\n",
    "texts_dev = X_dev.REVIEW_TEXT.tolist()\n",
    "texts_test = X_test.REVIEW_TEXT.tolist()\n",
    "texts = data.REVIEW_TEXT"
   ]
  },
  {
   "cell_type": "code",
   "execution_count": 69,
   "metadata": {
    "colab": {
     "base_uri": "https://localhost:8080/"
    },
    "id": "2_WRo6VNpP8s",
    "outputId": "2a883f99-f611-449e-d4c0-53f5b9103abc"
   },
   "outputs": [
    {
     "name": "stdout",
     "output_type": "stream",
     "text": [
      "Number of unique words: 24934\n"
     ]
    }
   ],
   "source": [
    "# Fit tokenizer on review texts.\n",
    "tokenizer = Tokenizer()\n",
    "tokenizer.fit_on_texts(texts)\n",
    "\n",
    "sequence_train = tokenizer.texts_to_sequences(texts_train)\n",
    "sequence_dev = tokenizer.texts_to_sequences(texts_dev)\n",
    "sequence_test = tokenizer.texts_to_sequences(texts_test)\n",
    "\n",
    "index_of_words = tokenizer.word_index\n",
    "\n",
    "# Store the number of unique words (one added for padding).\n",
    "vocab_size = len(index_of_words) + 1"
   ]
  },
  {
   "cell_type": "code",
   "execution_count": 70,
   "metadata": {
    "id": "gI2qGGKhpU9a"
   },
   "outputs": [],
   "source": [
    "# Pad data.\n",
    "X_train_pad = pad_sequences(sequence_train, maxlen = max_seq_len )\n",
    "X_dev_pad = pad_sequences(sequence_dev, maxlen = max_seq_len )\n",
    "X_test_pad = pad_sequences(sequence_test, maxlen = max_seq_len )"
   ]
  },
  {
   "cell_type": "code",
   "execution_count": 55,
   "metadata": {
    "id": "Q9mkhAEEpYMG"
   },
   "outputs": [],
   "source": [
    "# Encode veracity predictions.\n",
    "encoding = {\n",
    "    'Fake': 0,\n",
    "    'Real': 1,\n",
    "}\n",
    "\n",
    "y_train = [encoding[y] for y in y_train]\n",
    "y_dev = [encoding[y] for y in y_dev]\n",
    "y_test = [encoding[y] for y in y_test]"
   ]
  },
  {
   "cell_type": "code",
   "execution_count": 56,
   "metadata": {
    "id": "QFqcv520pnb1"
   },
   "outputs": [],
   "source": [
    "y_train = np.array(y_train)\n",
    "y_dev = np.array(y_dev)\n",
    "y_test = np.array(y_test)"
   ]
  },
  {
   "cell_type": "code",
   "execution_count": 57,
   "metadata": {
    "id": "quFjihgKprcz"
   },
   "outputs": [],
   "source": [
    "def create_embedding_matrix(filepath, word_index, embedding_dim, vocab_size):\n",
    "    embedding_matrix = np.zeros((vocab_size, embedding_dim))\n",
    "    with open(filepath) as f:\n",
    "        for line in f:\n",
    "            word, *vector = line.split()\n",
    "            if word in word_index:\n",
    "                idx = word_index[word] \n",
    "                embedding_matrix[idx] = np.array(\n",
    "                    vector, dtype=np.float32)[:embedding_dim]\n",
    "    return embedding_matrix"
   ]
  },
  {
   "cell_type": "code",
   "execution_count": 58,
   "metadata": {
    "colab": {
     "base_uri": "https://localhost:8080/"
    },
    "id": "z7bhJP2PptoY",
    "outputId": "1e3763f6-b752-4529-d765-36d0ab76c7f0"
   },
   "outputs": [
    {
     "name": "stdout",
     "output_type": "stream",
     "text": [
      "Downloading word vectors...\n",
      "Unzipping...\n",
      "done.\n"
     ]
    }
   ],
   "source": [
    "# Obtain wiki vectors.\n",
    "fname = 'embeddings/wiki-news-300d-1M.vec'\n",
    "\n",
    "if not os.path.isfile(fname):\n",
    "    print('Downloading vectors...')\n",
    "    urllib.request.urlretrieve('https://dl.fbaipublicfiles.com/fasttext/vectors-english/wiki-news-300d-1M.vec.zip',\n",
    "                              'wiki-news-300d-1M.vec.zip')\n",
    "    with zipfile.ZipFile('wiki-news-300d-1M.vec.zip', 'r') as zip_ref:\n",
    "        zip_ref.extractall('embeddings')\n",
    "    print('Done.')\n",
    "    \n",
    "    os.remove('wiki-news-300d-1M.vec.zip')"
   ]
  },
  {
   "cell_type": "code",
   "execution_count": 59,
   "metadata": {
    "colab": {
     "base_uri": "https://localhost:8080/"
    },
    "id": "ELycM7W-pvDB",
    "outputId": "bec52c6e-49c1-46b7-91f0-4fd9264e2c67"
   },
   "outputs": [
    {
     "data": {
      "text/plain": [
       "(24935, 300)"
      ]
     },
     "execution_count": 59,
     "metadata": {
      "tags": []
     },
     "output_type": "execute_result"
    }
   ],
   "source": [
    "# Get embedding matrix.\n",
    "embedding_matrix = create_embedding_matrix(fname, index_of_words, embedding_dim, vocab_size)\n",
    "embedding_matrix.shape"
   ]
  },
  {
   "cell_type": "code",
   "execution_count": 60,
   "metadata": {
    "id": "hsa_fLANp7mT"
   },
   "outputs": [],
   "source": [
    "# Obtain emotion categories.\n",
    "X_emo_train = X_train[['PREDICTION', 'joy', 'sadness', 'fear', 'anger', 'neutral']].values\n",
    "X_emo_dev = X_dev[['PREDICTION', 'joy', 'sadness', 'fear', 'anger', 'neutral']].values\n",
    "X_emo_test = X_test[['PREDICTION', 'joy', 'sadness', 'fear', 'anger', 'neutral']].values"
   ]
  },
  {
   "cell_type": "code",
   "execution_count": 77,
   "metadata": {
    "id": "g6e06RRfqG3t"
   },
   "outputs": [],
   "source": [
    "# Define model input shapes.\n",
    "input_text = Input(shape=(max_seq_len,))\n",
    "input_emo = Input(shape=(6,))"
   ]
  },
  {
   "cell_type": "markdown",
   "metadata": {
    "id": "4Kcq5msFOaHv"
   },
   "source": [
    "### Obtain classification using text alone ###"
   ]
  },
  {
   "cell_type": "code",
   "execution_count": 104,
   "metadata": {
    "id": "TckrQclY7mRl"
   },
   "outputs": [],
   "source": [
    "embedding_layer = Embedding(vocab_size,\n",
    "                            embedding_dim,\n",
    "                            input_length = max_seq_len,\n",
    "                            weights = [embedding_matrix],\n",
    "                            trainable=False)(input_text)\n",
    "cnn_layer = Conv1D(256, 3, activation='relu')(embedding_layer)\n",
    "pool_layer = GlobalMaxPooling1D()(cnn_layer)\n",
    "drop_layer = Dropout(.3)(pool_layer)\n",
    "dense_layer = Dense(128, activation='relu')(drop_layer)\n",
    "output = Dense(1, activation='sigmoid')(dense_layer)"
   ]
  },
  {
   "cell_type": "code",
   "execution_count": 105,
   "metadata": {
    "id": "D3PQ4kSx7ni3"
   },
   "outputs": [],
   "source": [
    "model_text = Model(inputs=input_text, outputs=output)"
   ]
  },
  {
   "cell_type": "code",
   "execution_count": 106,
   "metadata": {
    "colab": {
     "base_uri": "https://localhost:8080/"
    },
    "id": "_TgB3N0a7svB",
    "outputId": "5cf1f659-55bf-47a4-8814-fd1c346416d8"
   },
   "outputs": [
    {
     "name": "stdout",
     "output_type": "stream",
     "text": [
      "Model: \"model_3\"\n",
      "_________________________________________________________________\n",
      "Layer (type)                 Output Shape              Param #   \n",
      "=================================================================\n",
      "input_3 (InputLayer)         [(None, 500)]             0         \n",
      "_________________________________________________________________\n",
      "embedding_5 (Embedding)      (None, 500, 300)          7480500   \n",
      "_________________________________________________________________\n",
      "conv1d_5 (Conv1D)            (None, 498, 256)          230656    \n",
      "_________________________________________________________________\n",
      "global_max_pooling1d_4 (Glob (None, 256)               0         \n",
      "_________________________________________________________________\n",
      "dropout_5 (Dropout)          (None, 256)               0         \n",
      "_________________________________________________________________\n",
      "dense_9 (Dense)              (None, 128)               32896     \n",
      "_________________________________________________________________\n",
      "dense_10 (Dense)             (None, 1)                 129       \n",
      "=================================================================\n",
      "Total params: 7,744,181\n",
      "Trainable params: 263,681\n",
      "Non-trainable params: 7,480,500\n",
      "_________________________________________________________________\n",
      "None\n"
     ]
    }
   ],
   "source": [
    "opt = keras.optimizers.Adam(learning_rate=0.0001)\n",
    "model_text.compile(loss='binary_crossentropy', optimizer=opt, metrics=['acc'])\n",
    "print(model_text.summary())"
   ]
  },
  {
   "cell_type": "code",
   "execution_count": 107,
   "metadata": {
    "colab": {
     "base_uri": "https://localhost:8080/",
     "height": 661
    },
    "id": "8JFCXy-S7ulY",
    "outputId": "8a1b563a-f252-419f-82fd-bee39c56aaf8"
   },
   "outputs": [
    {
     "data": {
      "image/png": "[encoded data removed]",
      "text/plain": [
       "<IPython.core.display.Image object>"
      ]
     },
     "execution_count": 107,
     "metadata": {
      "tags": []
     },
     "output_type": "execute_result"
    }
   ],
   "source": [
    "plot_model(model_text, to_file='model_plot_text.png')"
   ]
  },
  {
   "cell_type": "code",
   "execution_count": 108,
   "metadata": {
    "colab": {
     "base_uri": "https://localhost:8080/"
    },
    "id": "rdFaS2Cu7yCx",
    "outputId": "1f6a929f-ec7c-4d05-ff70-986bc59ab0aa"
   },
   "outputs": [
    {
     "name": "stdout",
     "output_type": "stream",
     "text": [
      "Epoch 1/50\n",
      "177/177 [==============================] - 112s 629ms/step - loss: 0.6969 - acc: 0.5036 - val_loss: 0.6818 - val_acc: 0.5782\n",
      "Epoch 2/50\n",
      "177/177 [==============================] - 111s 627ms/step - loss: 0.6799 - acc: 0.5694 - val_loss: 0.6680 - val_acc: 0.6060\n",
      "Epoch 3/50\n",
      "177/177 [==============================] - 113s 638ms/step - loss: 0.6667 - acc: 0.6063 - val_loss: 0.6555 - val_acc: 0.6116\n",
      "Epoch 4/50\n",
      "177/177 [==============================] - 109s 613ms/step - loss: 0.6487 - acc: 0.6283 - val_loss: 0.6555 - val_acc: 0.6029\n",
      "Epoch 5/50\n",
      "177/177 [==============================] - 110s 621ms/step - loss: 0.6375 - acc: 0.6417 - val_loss: 0.6340 - val_acc: 0.6394\n",
      "Epoch 6/50\n",
      "177/177 [==============================] - 110s 621ms/step - loss: 0.6206 - acc: 0.6624 - val_loss: 0.6243 - val_acc: 0.6473\n",
      "Epoch 7/50\n",
      "177/177 [==============================] - 108s 609ms/step - loss: 0.6001 - acc: 0.6896 - val_loss: 0.6171 - val_acc: 0.6458\n",
      "Epoch 8/50\n",
      "177/177 [==============================] - 110s 619ms/step - loss: 0.5796 - acc: 0.7094 - val_loss: 0.6070 - val_acc: 0.6664\n",
      "Epoch 9/50\n",
      "177/177 [==============================] - 108s 608ms/step - loss: 0.5526 - acc: 0.7357 - val_loss: 0.5998 - val_acc: 0.6736\n",
      "Epoch 10/50\n",
      "177/177 [==============================] - 109s 616ms/step - loss: 0.5353 - acc: 0.7463 - val_loss: 0.5956 - val_acc: 0.6736\n",
      "Epoch 11/50\n",
      "177/177 [==============================] - 109s 615ms/step - loss: 0.5052 - acc: 0.7664 - val_loss: 0.5926 - val_acc: 0.6743\n",
      "Epoch 12/50\n",
      "177/177 [==============================] - 109s 616ms/step - loss: 0.4791 - acc: 0.7904 - val_loss: 0.5924 - val_acc: 0.6728\n",
      "Epoch 13/50\n",
      "177/177 [==============================] - 118s 667ms/step - loss: 0.4483 - acc: 0.8106 - val_loss: 0.5914 - val_acc: 0.6672\n",
      "Epoch 14/50\n",
      "177/177 [==============================] - 114s 642ms/step - loss: 0.4193 - acc: 0.8339 - val_loss: 0.5987 - val_acc: 0.6648\n",
      "Epoch 15/50\n",
      "177/177 [==============================] - 110s 619ms/step - loss: 0.3871 - acc: 0.8529 - val_loss: 0.6021 - val_acc: 0.6696\n",
      "Epoch 16/50\n",
      "177/177 [==============================] - 108s 613ms/step - loss: 0.3643 - acc: 0.8614 - val_loss: 0.5958 - val_acc: 0.6688\n"
     ]
    }
   ],
   "source": [
    "# Define stopping criteria and fit model.\n",
    "early_stopping_monitor = EarlyStopping(\n",
    "    monitor='val_loss',\n",
    "    min_delta=0,\n",
    "    patience=3,\n",
    "    verbose=0,\n",
    "    mode='auto',\n",
    "    baseline=None,\n",
    "    restore_best_weights=True\n",
    ")\n",
    "\n",
    "history = model_text.fit(x=X_train_pad, \n",
    "                         y=y_train, \n",
    "                         batch_size=64, \n",
    "                         epochs=50, \n",
    "                         verbose=1,\n",
    "                         validation_data=(X_dev_pad, y_dev), \n",
    "                         callbacks=[early_stopping_monitor])"
   ]
  },
  {
   "cell_type": "code",
   "execution_count": 109,
   "metadata": {
    "colab": {
     "base_uri": "https://localhost:8080/",
     "height": 572
    },
    "id": "egQMXWry8BFk",
    "outputId": "ff2205d6-3010-4ec5-e6e8-b8b17ec9b8ba"
   },
   "outputs": [
    {
     "data": {
      "image/png": "[encoded data removed]",
      "text/plain": [
       "<Figure size 432x288 with 1 Axes>"
      ]
     },
     "metadata": {
      "needs_background": "light",
      "tags": []
     },
     "output_type": "display_data"
    },
    {
     "data": {
      "image/png": "[encoded data removed]",
      "text/plain": [
       "<Figure size 432x288 with 1 Axes>"
      ]
     },
     "metadata": {
      "needs_background": "light",
      "tags": []
     },
     "output_type": "display_data"
    }
   ],
   "source": [
    "# Plot accuracy and loss of the model.\n",
    "plt.plot(history.history['acc'])\n",
    "plt.plot(history.history['val_acc'])\n",
    "plt.title('model accuracy')\n",
    "plt.ylabel('accuracy')\n",
    "plt.xlabel('epoch')\n",
    "plt.legend(['train', 'validation'], loc='upper left')\n",
    "plt.show()\n",
    "\n",
    "plt.plot(history.history['loss'])\n",
    "plt.plot(history.history['val_loss'])\n",
    "plt.title('model loss')\n",
    "plt.ylabel('loss')\n",
    "plt.xlabel('epoch')\n",
    "plt.legend(['train', 'validation'], loc='upper left')\n",
    "plt.show()"
   ]
  },
  {
   "cell_type": "code",
   "execution_count": 127,
   "metadata": {
    "id": "9vHcKYdiC_gv"
   },
   "outputs": [],
   "source": [
    "# Obtain predictions and record key metrics.\n",
    "predictions = model_text.predict(X_test_pad)"
   ]
  },
  {
   "cell_type": "code",
   "execution_count": 128,
   "metadata": {
    "id": "crTkDfcKDJKW"
   },
   "outputs": [],
   "source": [
    "predictions = [1 if pred > 0.5 else 0 for pred in predictions]"
   ]
  },
  {
   "cell_type": "code",
   "execution_count": 129,
   "metadata": {
    "colab": {
     "base_uri": "https://localhost:8080/"
    },
    "id": "xC12hhxYDJKX",
    "outputId": "08bb3c4c-c943-44fb-f1f1-7b87803ca2a3"
   },
   "outputs": [
    {
     "name": "stdout",
     "output_type": "stream",
     "text": [
      "Classification report: \n",
      "              precision    recall  f1-score   support\n",
      "\n",
      "        Fake     0.6895    0.7334    0.7108       754\n",
      "        Real     0.6633    0.6140    0.6377       645\n",
      "\n",
      "    accuracy                         0.6783      1399\n",
      "   macro avg     0.6764    0.6737    0.6742      1399\n",
      "weighted avg     0.6774    0.6783    0.6771      1399\n",
      "\n"
     ]
    }
   ],
   "source": [
    "print('Classification report: ') \n",
    "print(classification_report(y_test, predictions, digits=4, target_names = ['Fake', 'Real']))"
   ]
  },
  {
   "cell_type": "code",
   "execution_count": 131,
   "metadata": {
    "colab": {
     "base_uri": "https://localhost:8080/",
     "height": 473
    },
    "id": "pddFAZLSDJKY",
    "outputId": "79c3ceb2-de8e-49e9-84c9-a84fc544af52"
   },
   "outputs": [
    {
     "data": {
      "text/plain": [
       "Text(0.5, 1.0, 'Veracity Predictions on Texts Alone')"
      ]
     },
     "execution_count": 131,
     "metadata": {
      "tags": []
     },
     "output_type": "execute_result"
    },
    {
     "data": {
      "image/png": "[encoded data removed]",
      "text/plain": [
       "<Figure size 648x504 with 2 Axes>"
      ]
     },
     "metadata": {
      "needs_background": "light",
      "tags": []
     },
     "output_type": "display_data"
    }
   ],
   "source": [
    "df_cm = pd.DataFrame(confusion_matrix(y_test, predictions), index = [i for i in ['Fake', 'Real']],\n",
    "                  columns = [i for i in ['Fake', 'Real']])\n",
    "plt.figure(figsize = (9,7))\n",
    "hm = sn.heatmap(df_cm, annot=True, fmt='g')\n",
    "hm.set_xlabel('Predicted Values')\n",
    "hm.set_ylabel('Real Values')\n",
    "hm.set_title('Veracity Predictions on Texts Alone')"
   ]
  },
  {
   "cell_type": "code",
   "execution_count": 124,
   "metadata": {
    "id": "zYHA516Q7lo8"
   },
   "outputs": [],
   "source": [
    "# Save model for future use.\n",
    "model_text.save('../../trained_models/veracity_text_only_cnn.h5')"
   ]
  },
  {
   "cell_type": "markdown",
   "metadata": {
    "id": "gxeLgrBTPVGq"
   },
   "source": [
    "### Obtain classification results on texts and emotion features ###"
   ]
  },
  {
   "cell_type": "code",
   "execution_count": 114,
   "metadata": {
    "id": "MKXnSawLqI6_"
   },
   "outputs": [],
   "source": [
    "embedding_layer = Embedding(vocab_size,\n",
    "                            embedding_dim,\n",
    "                            input_length = max_seq_len,\n",
    "                            weights = [embedding_matrix],\n",
    "                            trainable=False)(input_text)\n",
    "cnn_layer = Conv1D(256, 3, activation='relu')(embedding_layer)\n",
    "pool_layer = GlobalMaxPooling1D()(cnn_layer)\n",
    "drop_layer = Dropout(.3)(pool_layer)\n",
    "concat_layer = Concatenate()([drop_layer, input_emo])\n",
    "dense_layer = Dense(128, activation='relu')(concat_layer)\n",
    "output = Dense(1, activation='sigmoid')(dense_layer)"
   ]
  },
  {
   "cell_type": "code",
   "execution_count": 115,
   "metadata": {
    "id": "ZxXKUQUYqrKI"
   },
   "outputs": [],
   "source": [
    "model_cnn = Model(inputs=[input_text, input_emo], outputs=output)"
   ]
  },
  {
   "cell_type": "code",
   "execution_count": 116,
   "metadata": {
    "colab": {
     "base_uri": "https://localhost:8080/",
     "height": 757
    },
    "id": "GxAKJwc3q9BF",
    "outputId": "3986a094-8d2e-47c2-9332-e889efc21042"
   },
   "outputs": [
    {
     "data": {
      "image/png": "[encoded data removed]",
      "text/plain": [
       "<IPython.core.display.Image object>"
      ]
     },
     "execution_count": 116,
     "metadata": {
      "tags": []
     },
     "output_type": "execute_result"
    }
   ],
   "source": [
    "plot_model(model_cnn, to_file='model_plot.png')"
   ]
  },
  {
   "cell_type": "code",
   "execution_count": 117,
   "metadata": {
    "id": "lF6x4DfjrBuz"
   },
   "outputs": [],
   "source": [
    "opt = keras.optimizers.Adam(learning_rate=0.0001)\n",
    "model_cnn.compile(loss='binary_crossentropy', optimizer=opt, metrics=['acc'])"
   ]
  },
  {
   "cell_type": "code",
   "execution_count": 118,
   "metadata": {
    "colab": {
     "base_uri": "https://localhost:8080/"
    },
    "id": "AR8rT3uOrEiV",
    "outputId": "ae6a36ff-2976-4011-b679-34f95721ae5b"
   },
   "outputs": [
    {
     "name": "stdout",
     "output_type": "stream",
     "text": [
      "Epoch 1/50\n",
      "177/177 [==============================] - 110s 619ms/step - loss: 0.6892 - acc: 0.5414 - val_loss: 0.6762 - val_acc: 0.6013\n",
      "Epoch 2/50\n",
      "177/177 [==============================] - 108s 610ms/step - loss: 0.6787 - acc: 0.5711 - val_loss: 0.6616 - val_acc: 0.6291\n",
      "Epoch 3/50\n",
      "177/177 [==============================] - 111s 630ms/step - loss: 0.6604 - acc: 0.6100 - val_loss: 0.6523 - val_acc: 0.6187\n",
      "Epoch 4/50\n",
      "177/177 [==============================] - 109s 618ms/step - loss: 0.6450 - acc: 0.6311 - val_loss: 0.6390 - val_acc: 0.6442\n",
      "Epoch 5/50\n",
      "177/177 [==============================] - 109s 616ms/step - loss: 0.6258 - acc: 0.6576 - val_loss: 0.6296 - val_acc: 0.6553\n",
      "Epoch 6/50\n",
      "177/177 [==============================] - 107s 605ms/step - loss: 0.6160 - acc: 0.6636 - val_loss: 0.6233 - val_acc: 0.6394\n",
      "Epoch 7/50\n",
      "177/177 [==============================] - 110s 619ms/step - loss: 0.5939 - acc: 0.6895 - val_loss: 0.6121 - val_acc: 0.6656\n",
      "Epoch 8/50\n",
      "177/177 [==============================] - 107s 604ms/step - loss: 0.5737 - acc: 0.7126 - val_loss: 0.6053 - val_acc: 0.6704\n",
      "Epoch 9/50\n",
      "177/177 [==============================] - 107s 605ms/step - loss: 0.5490 - acc: 0.7326 - val_loss: 0.6022 - val_acc: 0.6712\n",
      "Epoch 10/50\n",
      "177/177 [==============================] - 107s 606ms/step - loss: 0.5233 - acc: 0.7538 - val_loss: 0.5965 - val_acc: 0.6704\n",
      "Epoch 11/50\n",
      "177/177 [==============================] - 107s 604ms/step - loss: 0.4929 - acc: 0.7808 - val_loss: 0.5928 - val_acc: 0.6728\n",
      "Epoch 12/50\n",
      "177/177 [==============================] - 107s 605ms/step - loss: 0.4746 - acc: 0.7935 - val_loss: 0.5935 - val_acc: 0.6751\n",
      "Epoch 13/50\n",
      "177/177 [==============================] - 107s 603ms/step - loss: 0.4426 - acc: 0.8103 - val_loss: 0.5914 - val_acc: 0.6823\n",
      "Epoch 14/50\n",
      "177/177 [==============================] - 106s 602ms/step - loss: 0.4155 - acc: 0.8309 - val_loss: 0.5940 - val_acc: 0.6791\n",
      "Epoch 15/50\n",
      "177/177 [==============================] - 108s 613ms/step - loss: 0.3881 - acc: 0.8478 - val_loss: 0.5952 - val_acc: 0.6831\n",
      "Epoch 16/50\n",
      "177/177 [==============================] - 107s 606ms/step - loss: 0.3557 - acc: 0.8711 - val_loss: 0.5992 - val_acc: 0.6815\n"
     ]
    }
   ],
   "source": [
    "# Define stopping criteria and train the model.\n",
    "early_stopping_monitor = EarlyStopping(\n",
    "    monitor='val_loss',\n",
    "    min_delta=0,\n",
    "    patience=3,\n",
    "    verbose=0,\n",
    "    mode='auto',\n",
    "    baseline=None,\n",
    "    restore_best_weights=True\n",
    ")\n",
    "\n",
    "history = model_cnn.fit(x=[X_train_pad, X_emo_train], \n",
    "                        y=y_train, \n",
    "                        batch_size=64, \n",
    "                        epochs=50, \n",
    "                        verbose=1, \n",
    "                        validation_data=([X_dev_pad, X_emo_dev], y_dev),\n",
    "                        callbacks=[early_stopping_monitor])"
   ]
  },
  {
   "cell_type": "code",
   "execution_count": 119,
   "metadata": {
    "colab": {
     "base_uri": "https://localhost:8080/",
     "height": 572
    },
    "id": "zC1Q87r9rPR2",
    "outputId": "ba1365e6-4781-4876-8c86-e1a0498f6bdb"
   },
   "outputs": [
    {
     "data": {
      "image/png": "[encoded data removed]",
      "text/plain": [
       "<Figure size 432x288 with 1 Axes>"
      ]
     },
     "metadata": {
      "needs_background": "light",
      "tags": []
     },
     "output_type": "display_data"
    },
    {
     "data": {
      "image/png": "[encoded data removed]",
      "text/plain": [
       "<Figure size 432x288 with 1 Axes>"
      ]
     },
     "metadata": {
      "needs_background": "light",
      "tags": []
     },
     "output_type": "display_data"
    }
   ],
   "source": [
    "# Plot model accuracy and loss.\n",
    "plt.plot(history.history['acc'])\n",
    "plt.plot(history.history['val_acc'])\n",
    "plt.title('model accuracy')\n",
    "plt.ylabel('accuracy')\n",
    "plt.xlabel('epoch')\n",
    "plt.legend(['train', 'validation'], loc='upper left')\n",
    "plt.show()\n",
    "\n",
    "plt.plot(history.history['loss'])\n",
    "plt.plot(history.history['val_loss'])\n",
    "plt.title('model loss')\n",
    "plt.ylabel('loss')\n",
    "plt.xlabel('epoch')\n",
    "plt.legend(['train', 'validation'], loc='upper left')\n",
    "plt.show()"
   ]
  },
  {
   "cell_type": "code",
   "execution_count": 120,
   "metadata": {
    "id": "XFLeZLPz6WfW"
   },
   "outputs": [],
   "source": [
    "# Make predictions and obtain key metrics.\n",
    "predictions = model_cnn.predict([X_test_pad, X_emo_test])"
   ]
  },
  {
   "cell_type": "code",
   "execution_count": 121,
   "metadata": {
    "id": "dpJeZk-26YrW"
   },
   "outputs": [],
   "source": [
    "predictions = [1 if pred > 0.5 else 0 for pred in predictions]"
   ]
  },
  {
   "cell_type": "code",
   "execution_count": 122,
   "metadata": {
    "colab": {
     "base_uri": "https://localhost:8080/"
    },
    "id": "8aTdfSkpLV_E",
    "outputId": "89faf15b-e474-4b4a-bd15-464641f52f96"
   },
   "outputs": [
    {
     "name": "stdout",
     "output_type": "stream",
     "text": [
      "Classification report: \n",
      "              precision    recall  f1-score   support\n",
      "\n",
      "        Fake     0.7087    0.6936    0.7011       754\n",
      "        Real     0.6505    0.6667    0.6585       645\n",
      "\n",
      "    accuracy                         0.6812      1399\n",
      "   macro avg     0.6796    0.6802    0.6798      1399\n",
      "weighted avg     0.6819    0.6812    0.6814      1399\n",
      "\n"
     ]
    }
   ],
   "source": [
    "print('Classification report: ') \n",
    "print(classification_report(y_test, predictions, digits=4, target_names = ['Fake', 'Real']))"
   ]
  },
  {
   "cell_type": "code",
   "execution_count": 123,
   "metadata": {
    "colab": {
     "base_uri": "https://localhost:8080/",
     "height": 473
    },
    "id": "A2dEMHJ96gJP",
    "outputId": "76e9699c-f6d6-4366-86e3-ff91c3d10f0f"
   },
   "outputs": [
    {
     "data": {
      "text/plain": [
       "Text(0.5, 1.0, 'Veracity Predictions With Emotion Features')"
      ]
     },
     "execution_count": 123,
     "metadata": {
      "tags": []
     },
     "output_type": "execute_result"
    },
    {
     "data": {
      "image/png": "[encoded data removed]",
      "text/plain": [
       "<Figure size 648x504 with 2 Axes>"
      ]
     },
     "metadata": {
      "needs_background": "light",
      "tags": []
     },
     "output_type": "display_data"
    }
   ],
   "source": [
    "df_cm = pd.DataFrame(confusion_matrix(y_test, predictions), index = [i for i in ['Fake', 'Real']],\n",
    "                  columns = [i for i in ['Fake', 'Real']])\n",
    "plt.figure(figsize = (9,7))\n",
    "hm = sn.heatmap(df_cm, annot=True, fmt='g')\n",
    "hm.set_xlabel('Predicted Values')\n",
    "hm.set_ylabel('Real Values')\n",
    "hm.set_title('Veracity Predictions With Emotion Features')"
   ]
  },
  {
   "cell_type": "code",
   "execution_count": 126,
   "metadata": {
    "id": "VLchVZdx7IgC"
   },
   "outputs": [],
   "source": [
    "# Store model for future use.\n",
    "model_cnn.save('../../trained_models/veracity_text_emotions_cnn.h5')"
   ]
  },
  {
   "cell_type": "code",
   "execution_count": null,
   "metadata": {
    "id": "csciNgT4L6Cc"
   },
   "outputs": [],
   "source": []
  }
 ],
 "metadata": {
  "colab": {
   "collapsed_sections": [],
   "name": "dissertation_veracity_cnn.ipynb",
   "provenance": []
  },
  "kernelspec": {
   "display_name": "Python 3",
   "language": "python",
   "name": "python3"
  },
  "language_info": {
   "codemirror_mode": {
    "name": "ipython",
    "version": 3
   },
   "file_extension": ".py",
   "mimetype": "text/x-python",
   "name": "python",
   "nbconvert_exporter": "python",
   "pygments_lexer": "ipython3",
   "version": "3.8.6"
  }
 },
 "nbformat": 4,
 "nbformat_minor": 1
}
